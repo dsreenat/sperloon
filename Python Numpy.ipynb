{
 "cells": [
  {
   "cell_type": "markdown",
   "metadata": {},
   "source": [
    "# Python Package: Numpy"
   ]
  },
  {
   "cell_type": "code",
   "execution_count": null,
   "metadata": {},
   "outputs": [],
   "source": []
  },
  {
   "cell_type": "code",
   "execution_count": null,
   "metadata": {},
   "outputs": [],
   "source": []
  },
  {
   "cell_type": "markdown",
   "metadata": {},
   "source": [
    "#### Refferences\n",
    "https://www.pluralsight.com/guides/overview-basic-numpy-operations"
   ]
  },
  {
   "cell_type": "code",
   "execution_count": 1,
   "metadata": {},
   "outputs": [],
   "source": [
    "#Importing packages with alias\n",
    "import pandas as pd\n",
    "import numpy as np"
   ]
  },
  {
   "cell_type": "markdown",
   "metadata": {},
   "source": [
    "### Numpy"
   ]
  },
  {
   "cell_type": "markdown",
   "metadata": {},
   "source": [
    "##### Numpy is a collection of elemnts of same data type. <br> where as its competition python list can hold elements of any data type."
   ]
  },
  {
   "cell_type": "code",
   "execution_count": 2,
   "metadata": {},
   "outputs": [
    {
     "name": "stdout",
     "output_type": "stream",
     "text": [
      " a= [ 0  1  2  3  4  5  6  7  8  9 10 11 12 13 14] \n",
      " b= [ 5  6  7  8  9 10 11 12 13 14] \n",
      " c= [ 0  2  4  6  8 10 12 14]\n"
     ]
    }
   ],
   "source": [
    "#creating a series of numbers lets say 1 to 15\n",
    "\n",
    "a =np.arange(15) ## 0 to n-1, here (15-1)\n",
    "b =np.arange(5,15) ## starting from 5 to 14\n",
    "c =np.arange(0,15,2) ## staring form 1 to 14, with an interval of 2\n",
    "\n",
    "print(\" a=\",a,\"\\n\",\"b=\",b,\"\\n\",\"c=\",c)"
   ]
  },
  {
   "cell_type": "code",
   "execution_count": 3,
   "metadata": {},
   "outputs": [
    {
     "name": "stdout",
     "output_type": "stream",
     "text": [
      "reshape function \n",
      " [[ 0  1  2  3  4]\n",
      " [ 5  6  7  8  9]\n",
      " [10 11 12 13 14]] \n",
      "\n",
      "checking after reshape function \n",
      " [ 0  1  2  3  4  5  6  7  8  9 10 11 12 13 14] \n",
      "\n",
      "check for a after resize \n",
      " [[ 0  1  2  3  4]\n",
      " [ 5  6  7  8  9]\n",
      " [10 11 12 13 14]]\n"
     ]
    }
   ],
   "source": [
    "# 'a' is 1x15 in dimension, to convert it to 3x5\n",
    "print (\"reshape function \\n\",a.reshape(3,5),\"\\n\") ## the change is temporary\n",
    "print(\"checking after reshape function \\n\",a,\"\\n\")\n",
    "a.resize(3,5)  ## the change is permenant\n",
    "print(\"check for a after resize \\n\",a)"
   ]
  },
  {
   "cell_type": "code",
   "execution_count": 4,
   "metadata": {},
   "outputs": [
    {
     "data": {
      "text/plain": [
       "array([[ 7, 13,  7, 20],\n",
       "       [ 4,  1, 19, 20],\n",
       "       [11,  3,  3, 10],\n",
       "       [12,  7,  8, 11],\n",
       "       [22, 12, 22,  4]])"
      ]
     },
     "execution_count": 4,
     "metadata": {},
     "output_type": "execute_result"
    }
   ],
   "source": [
    "#Creating a multi diamentional array\n",
    "np.random.randint(1,25,size=(5,4))"
   ]
  },
  {
   "cell_type": "markdown",
   "metadata": {},
   "source": [
    "##### There are a lot of functions, all of which cannot be explanined. if done so this will become the help file. <br>  So pls be familiar with the commands and the remaining things like syntax and useage could be obtained form inbuilt help/google\n",
    "\n",
    "Help about a pirticular function can be obtained as follows. <br>\n",
    "To see list of functions avaiable on numpy. <br>\n",
    "just type \"numpy.\" or \"np.\"(if using alias)  and press tab"
   ]
  },
  {
   "cell_type": "code",
   "execution_count": null,
   "metadata": {},
   "outputs": [],
   "source": []
  },
  {
   "cell_type": "code",
   "execution_count": 5,
   "metadata": {},
   "outputs": [
    {
     "name": "stdout",
     "output_type": "stream",
     "text": [
      "randint(low, high=None, size=None, dtype='l')\n",
      "\n",
      "Return random integers from `low` (inclusive) to `high` (exclusive).\n",
      "\n",
      "Return random integers from the \"discrete uniform\" distribution of\n",
      "the specified dtype in the \"half-open\" interval [`low`, `high`). If\n",
      "`high` is None (the default), then results are from [0, `low`).\n",
      "\n",
      "Parameters\n",
      "----------\n",
      "low : int\n",
      "    Lowest (signed) integer to be drawn from the distribution (unless\n",
      "    ``high=None``, in which case this parameter is one above the\n",
      "    *highest* such integer).\n",
      "high : int, optional\n",
      "    If provided, one above the largest (signed) integer to be drawn\n",
      "    from the distribution (see above for behavior if ``high=None``).\n",
      "size : int or tuple of ints, optional\n",
      "    Output shape.  If the given shape is, e.g., ``(m, n, k)``, then\n",
      "    ``m * n * k`` samples are drawn.  Default is None, in which case a\n",
      "    single value is returned.\n",
      "dtype : dtype, optional\n",
      "    Desired dtype of the result. All dtypes are determined by their\n",
      "    name, i.e., 'int64', 'int', etc, so byteorder is not available\n",
      "    and a specific precision may have different C types depending\n",
      "    on the platform. The default value is 'np.int'.\n",
      "\n",
      "    .. versionadded:: 1.11.0\n",
      "\n",
      "Returns\n",
      "-------\n",
      "out : int or ndarray of ints\n",
      "    `size`-shaped array of random integers from the appropriate\n",
      "    distribution, or a single such random int if `size` not provided.\n",
      "\n",
      "See Also\n",
      "--------\n",
      "random.random_integers : similar to `randint`, only for the closed\n",
      "    interval [`low`, `high`], and 1 is the lowest value if `high` is\n",
      "    omitted. In particular, this other one is the one to use to generate\n",
      "    uniformly distributed discrete non-integers.\n",
      "\n",
      "Examples\n",
      "--------\n",
      ">>> np.random.randint(2, size=10)\n",
      "array([1, 0, 0, 0, 1, 1, 0, 0, 1, 0])\n",
      ">>> np.random.randint(1, size=10)\n",
      "array([0, 0, 0, 0, 0, 0, 0, 0, 0, 0])\n",
      "\n",
      "Generate a 2 x 4 array of ints between 0 and 4, inclusive:\n",
      "\n",
      ">>> np.random.randint(5, size=(2, 4))\n",
      "array([[4, 0, 2, 1],\n",
      "       [3, 2, 2, 0]])\n"
     ]
    }
   ],
   "source": [
    "# Syntax\n",
    "# np.info(np.function_name)\n",
    "np.info(np.random.randint)"
   ]
  },
  {
   "cell_type": "code",
   "execution_count": 6,
   "metadata": {},
   "outputs": [
    {
     "name": "stdout",
     "output_type": "stream",
     "text": [
      "[ 1.          3.71428571  6.42857143  9.14285714 11.85714286 14.57142857\n",
      " 17.28571429 20.        ]\n"
     ]
    }
   ],
   "source": [
    "#printing 8 values between 1 to 20\n",
    "print(np.linspace(1,20,8)) "
   ]
  },
  {
   "cell_type": "code",
   "execution_count": 7,
   "metadata": {},
   "outputs": [
    {
     "name": "stdout",
     "output_type": "stream",
     "text": [
      "[[ 0  1  2  3  4]\n",
      " [ 5  6  7  8  9]\n",
      " [10 11 12 13 14]] \n",
      "\n",
      "the shape of array a: (3, 5)\n",
      "the dimension of array a: 2\n",
      "the total no of elements in array a: 15\n"
     ]
    }
   ],
   "source": [
    "print(a,\"\\n\")\n",
    "print(\"the shape of array a:\",a.shape)\n",
    "print(\"the dimension of array a:\",a.ndim)\n",
    "print(\"the total no of elements in array a:\",a.size)\n"
   ]
  },
  {
   "cell_type": "code",
   "execution_count": 8,
   "metadata": {
    "scrolled": true
   },
   "outputs": [
    {
     "name": "stdout",
     "output_type": "stream",
     "text": [
      "Regular Array\n",
      " [1 2 3 4 5] \n",
      "Multi Dimensional Array\n",
      " [[1 2]\n",
      " [3 4]] \n",
      "Complex Array\n",
      " [[1.+0.j 2.+0.j]\n",
      " [5.+0.j 6.+0.j]]\n"
     ]
    }
   ],
   "source": [
    "#array creation\n",
    "aa =np.array([1,2,3,4,5])  ## Regular array\n",
    "ab=np.array([[1, 2], [3, 4]]) ## Multi dimesnional array\n",
    "ac=np.array([[1,2],[5,6]],dtype = complex) ## complex\n",
    "\n",
    "print (\"Regular Array\\n\",aa, \"\\nMulti Dimensional Array\\n\",ab,\"\\nComplex Array\\n\",ac)"
   ]
  },
  {
   "cell_type": "code",
   "execution_count": 9,
   "metadata": {},
   "outputs": [
    {
     "name": "stdout",
     "output_type": "stream",
     "text": [
      "[[0. 0.]\n",
      " [0. 0.]]\n",
      "\n",
      "\n",
      "[[1 1]\n",
      " [1 1]]\n"
     ]
    }
   ],
   "source": [
    "## Few more numpy operations\n",
    "\n",
    "print(np.zeros((2,2)))\n",
    "print(\"\\n\")\n",
    "print(np.ones((2,2),dtype = int))"
   ]
  },
  {
   "cell_type": "code",
   "execution_count": 10,
   "metadata": {},
   "outputs": [
    {
     "name": "stdout",
     "output_type": "stream",
     "text": [
      "A= \n",
      " [[1 1]\n",
      " [0 1]] \n",
      "B=\n",
      " [[2 0]\n",
      " [3 4]]\n"
     ]
    }
   ],
   "source": [
    "#operations in numpy array\n",
    "\n",
    "A = np.array([[1,1],[0,1]])\n",
    "B = np.array([[2,0],[3,4]])\n",
    "\n",
    "print(\"A= \\n\",A,\"\\nB=\\n\",B)"
   ]
  },
  {
   "cell_type": "code",
   "execution_count": 11,
   "metadata": {},
   "outputs": [
    {
     "name": "stdout",
     "output_type": "stream",
     "text": [
      "[[2 0]\n",
      " [0 4]] \n",
      "\n",
      "\n",
      " [[5 4]\n",
      " [3 4]]\n"
     ]
    }
   ],
   "source": [
    "print(A*B,\"\\n\")         ## Element wise multiplication\n",
    "print(\"\\n\",A.dot(B))    ## Matrix Multiplication\n"
   ]
  },
  {
   "cell_type": "code",
   "execution_count": null,
   "metadata": {},
   "outputs": [],
   "source": []
  },
  {
   "cell_type": "code",
   "execution_count": 12,
   "metadata": {},
   "outputs": [
    {
     "data": {
      "text/plain": [
       "array([[0.60822982, 0.08423795, 0.42750833],\n",
       "       [0.62286409, 0.62471984, 0.16230357],\n",
       "       [0.9179612 , 0.42393698, 0.62820642],\n",
       "       [0.64249942, 0.21179214, 0.09122369]])"
      ]
     },
     "execution_count": 12,
     "metadata": {},
     "output_type": "execute_result"
    }
   ],
   "source": [
    "#np.arange(12).reshape(4,3)\n",
    "np.random.random(12).reshape(4,3)"
   ]
  },
  {
   "cell_type": "code",
   "execution_count": null,
   "metadata": {},
   "outputs": [],
   "source": []
  },
  {
   "cell_type": "code",
   "execution_count": 13,
   "metadata": {},
   "outputs": [
    {
     "name": "stdout",
     "output_type": "stream",
     "text": [
      "16\n",
      "4.0\n",
      "-0.9880316240928618\n",
      "0.49999999999999994\n"
     ]
    }
   ],
   "source": [
    "#other built in funtions\n",
    "zz=int(16)\n",
    "print(zz)\n",
    "print(np.sqrt(zz))\n",
    "#print(np.exp(zz))\n",
    "print(np.sin(30))\n",
    "\n",
    "\n",
    "\n",
    "print(np.sin(np.deg2rad(30)))"
   ]
  },
  {
   "cell_type": "code",
   "execution_count": 14,
   "metadata": {},
   "outputs": [
    {
     "data": {
      "text/plain": [
       "0.5235987755982988"
      ]
     },
     "execution_count": 14,
     "metadata": {},
     "output_type": "execute_result"
    }
   ],
   "source": [
    "np.deg2rad(30)"
   ]
  },
  {
   "cell_type": "code",
   "execution_count": 15,
   "metadata": {},
   "outputs": [
    {
     "name": "stdout",
     "output_type": "stream",
     "text": [
      "[[19 10 14]\n",
      " [11 15 14]\n",
      " [ 3 19 12]]\n"
     ]
    }
   ],
   "source": [
    "var_b = np.random.randint(1,20, size=(3,3))\n",
    "print(var_b)"
   ]
  },
  {
   "cell_type": "code",
   "execution_count": 16,
   "metadata": {},
   "outputs": [
    {
     "name": "stdout",
     "output_type": "stream",
     "text": [
      "Sum of Columns [33 44 40]\n",
      "Sum of Rows [43 40 34]\n",
      "Max value 19\n",
      "Total sum 117\n",
      "Minimum value 3\n",
      "Mean value 13.0\n",
      "Standard deviation 4.618802153517006\n"
     ]
    }
   ],
   "source": [
    "print(\"Sum of Columns\",var_b.sum(axis=0)) ## the sum of values of columns\n",
    "print(\"Sum of Rows\",var_b.sum(axis=1)) ## the sum of values of Row\n",
    "print(\"Max value\",var_b.max())\n",
    "print(\"Total sum\",var_b.sum())\n",
    "print(\"Minimum value\",var_b.min())\n",
    "print(\"Mean value\",var_b.mean())\n",
    "print(\"Standard deviation\",var_b.std())"
   ]
  },
  {
   "cell_type": "code",
   "execution_count": 17,
   "metadata": {},
   "outputs": [
    {
     "name": "stdout",
     "output_type": "stream",
     "text": [
      "var_b=\n",
      " [[19 10 14]\n",
      " [11 15 14]\n",
      " [ 3 19 12]]\n",
      "var_c =  [19 10 14 11 15 14  3 19 12]\n"
     ]
    }
   ],
   "source": [
    "#converting a multi dimensional array to a single dimensional array\n",
    "print(\"var_b=\\n\",var_b)\n",
    "var_c = var_b.ravel()\n",
    "print(\"var_c = \",var_c)"
   ]
  },
  {
   "cell_type": "code",
   "execution_count": 18,
   "metadata": {},
   "outputs": [
    {
     "name": "stdout",
     "output_type": "stream",
     "text": [
      "[[19 10]\n",
      " [14 11]\n",
      " [15 14]\n",
      " [ 3 19]\n",
      " [12 19]]\n"
     ]
    }
   ],
   "source": [
    "var_d = np.resize(var_c,(5,2))\n",
    "print(var_d)\n",
    "#note : here var_c had only 9 elements. when we reshared it to 5x2 it required 10 elements, \n",
    "# in this case it reuse or loop through the elements of the source"
   ]
  },
  {
   "cell_type": "code",
   "execution_count": 19,
   "metadata": {},
   "outputs": [
    {
     "name": "stdout",
     "output_type": "stream",
     "text": [
      "[[19 10 14]\n",
      " [11 15 14]\n",
      " [ 3 19 12]\n",
      " [19 10 14]]\n"
     ]
    }
   ],
   "source": [
    "#one more example\n",
    "var_e = np.resize(var_c,(4,3))\n",
    "print(var_e)\n",
    "#it is seen that the first row is repeated again"
   ]
  },
  {
   "cell_type": "code",
   "execution_count": null,
   "metadata": {},
   "outputs": [],
   "source": []
  },
  {
   "cell_type": "markdown",
   "metadata": {},
   "source": [
    "Stacking array together\n",
    "vstack -> vertical stack\n",
    "hstack -> horizontal stack\n"
   ]
  },
  {
   "cell_type": "code",
   "execution_count": 20,
   "metadata": {},
   "outputs": [
    {
     "name": "stdout",
     "output_type": "stream",
     "text": [
      "stk_a=\n",
      " [[1 2]\n",
      " [3 4]] \n",
      "stk_b=\n",
      " [[4 5]\n",
      " [6 7]]\n"
     ]
    }
   ],
   "source": [
    "stk_a =np.arange(1,5).reshape(2,2)\n",
    "stk_b= np.arange(4,8).reshape(2,2)\n",
    "\n",
    "print(\"stk_a=\\n\",stk_a,\"\\nstk_b=\\n\",stk_b)"
   ]
  },
  {
   "cell_type": "code",
   "execution_count": 21,
   "metadata": {},
   "outputs": [
    {
     "name": "stdout",
     "output_type": "stream",
     "text": [
      "[[1 2]\n",
      " [3 4]\n",
      " [4 5]\n",
      " [6 7]]\n",
      "\n",
      "\n",
      "[[1 2 4 5]\n",
      " [3 4 6 7]]\n"
     ]
    }
   ],
   "source": [
    "stk_vs=np.vstack((stk_a,stk_b))\n",
    "print(stk_vs)\n",
    "print(\"\\n\")\n",
    "stk_hs=np.hstack((stk_a,stk_b))\n",
    "print(stk_hs)"
   ]
  },
  {
   "cell_type": "code",
   "execution_count": null,
   "metadata": {},
   "outputs": [],
   "source": []
  },
  {
   "cell_type": "code",
   "execution_count": 22,
   "metadata": {},
   "outputs": [
    {
     "name": "stdout",
     "output_type": "stream",
     "text": [
      "shallow_a [ 1  2  3  4  5  6  7  8  9 10 11 12 13 14]\n",
      "shallow_b [ 1  2  3  4  5  6  7  8  9 10 11 12 13 14]\n",
      "updating value of 5th element of shallow_b to 99\n",
      "\n",
      "shallow_b [ 1  2  3  4 99  6  7  8  9 10 11 12 13 14] \n",
      "The change was expected\n",
      "\n",
      "shallow_a [ 1  2  3  4 99  6  7  8  9 10 11 12 13 14] \n",
      "The change was un-expected\n",
      "\n",
      "inshort a=b kind of assignment is similar to an alias and technically they are the same.\n",
      "this kind of copy is called shallow copy\n"
     ]
    }
   ],
   "source": [
    "#Shallow copy and deep copy\n",
    "shallow_a = np.arange(1,15)\n",
    "print(\"shallow_a\",shallow_a)\n",
    "shallow_b = shallow_a\n",
    "print(\"shallow_b\", shallow_b)\n",
    "\n",
    "print(\"updating value of 5th element of shallow_b to 99\\n\")\n",
    "shallow_b[4]=99\n",
    "\n",
    "print(\"shallow_b\", shallow_b, \"\\nThe change was expected\\n\") \n",
    "\n",
    "print(\"shallow_a\",shallow_a,\"\\nThe change was un-expected\\n\")\n",
    "\n",
    "print(\"inshort a=b kind of assignment is similar to an alias and technically they are the same.\")\n",
    "print(\"this kind of copy is called shallow copy\")"
   ]
  },
  {
   "cell_type": "code",
   "execution_count": 23,
   "metadata": {},
   "outputs": [
    {
     "name": "stdout",
     "output_type": "stream",
     "text": [
      "deep_a [ 1  2  3  4  5  6  7  8  9 10 11 12 13 14] \n",
      "\n",
      "deep_b [ 1  2  3  4  5  6  7  8  9 10 11 12 13 14] \n",
      "\n",
      "updating value of 5th element of deep_b to 99\n",
      "\n",
      "deep_b [ 1  2  3  4 99  6  7  8  9 10 11 12 13 14] \n",
      "The change was expected\n",
      "\n",
      "deep_a [ 1  2  3  4  5  6  7  8  9 10 11 12 13 14] \n",
      " no change, as expected\n",
      "\n"
     ]
    }
   ],
   "source": [
    "#Deep Copy\n",
    "deep_a = np.arange(1,15)\n",
    "print(\"deep_a\",deep_a,\"\\n\")\n",
    "deep_b = deep_a.copy()\n",
    "print(\"deep_b\",deep_b,\"\\n\")\n",
    "\n",
    "print(\"updating value of 5th element of deep_b to 99\\n\")\n",
    "deep_b[4]=99\n",
    "\n",
    "print(\"deep_b\", deep_b, \"\\nThe change was expected\\n\") \n",
    "\n",
    "print(\"deep_a\",deep_a,\"\\n no change, as expected\\n\")"
   ]
  },
  {
   "cell_type": "code",
   "execution_count": null,
   "metadata": {},
   "outputs": [],
   "source": []
  },
  {
   "cell_type": "markdown",
   "metadata": {},
   "source": [
    "#### Why Numpy over python list?"
   ]
  },
  {
   "cell_type": "markdown",
   "metadata": {},
   "source": [
    "##### 1) The numpy list is smaller in size thus faster!"
   ]
  },
  {
   "cell_type": "code",
   "execution_count": 24,
   "metadata": {},
   "outputs": [],
   "source": [
    "import sys\n",
    "import time"
   ]
  },
  {
   "cell_type": "code",
   "execution_count": 25,
   "metadata": {},
   "outputs": [
    {
     "name": "stdout",
     "output_type": "stream",
     "text": [
      "\n",
      "python list size : 1456\n"
     ]
    }
   ],
   "source": [
    "#Python list\n",
    "pyt_lst =list(range(1,151))  ### creating a list with elemetns from 1 to 150\n",
    "print(\"\\npython list size :\",sys.getsizeof(pyt_lst))"
   ]
  },
  {
   "cell_type": "code",
   "execution_count": 26,
   "metadata": {},
   "outputs": [
    {
     "name": "stdout",
     "output_type": "stream",
     "text": [
      "\n",
      "numpy list size: 696\n"
     ]
    }
   ],
   "source": [
    "#Numpy list\n",
    "npy_lst =np.arange(1,151,1) ### creating a list with elemetns from 1 to 150\n",
    "print(\"\\nnumpy list size:\",sys.getsizeof(npy_lst))"
   ]
  },
  {
   "cell_type": "code",
   "execution_count": null,
   "metadata": {},
   "outputs": [],
   "source": []
  },
  {
   "cell_type": "markdown",
   "metadata": {},
   "source": [
    "##### 2) Simpler calculations "
   ]
  },
  {
   "cell_type": "code",
   "execution_count": 27,
   "metadata": {},
   "outputs": [],
   "source": [
    "height = [1.72,1.65,1.66,1.78,1.9]\n",
    "weight = [75,54,62,74,80]"
   ]
  },
  {
   "cell_type": "code",
   "execution_count": 28,
   "metadata": {},
   "outputs": [
    {
     "name": "stdout",
     "output_type": "stream",
     "text": [
      "25.351541373715524\n",
      "19.834710743801654\n",
      "22.49963710262738\n",
      "23.355636914530994\n",
      "22.1606648199446\n"
     ]
    }
   ],
   "source": [
    "# BMI = height in Weight/(height^2(in meters))\n",
    "#\n",
    "#weight/height**2  ==> this code will fail\n",
    "#\n",
    "for i in range (0,len(height),1) :\n",
    "    print(weight[i]/height[i]**2)"
   ]
  },
  {
   "cell_type": "code",
   "execution_count": 29,
   "metadata": {},
   "outputs": [
    {
     "name": "stdout",
     "output_type": "stream",
     "text": [
      "[25.35154137 19.83471074 22.4996371  23.35563691 22.16066482]\n"
     ]
    }
   ],
   "source": [
    "npy_height = np.array(height)\n",
    "npy_weight = np.array(weight)\n",
    "\n",
    "print(npy_weight/(npy_height**2))"
   ]
  },
  {
   "cell_type": "markdown",
   "metadata": {},
   "source": [
    "##### Here you could skip all those looping statemetns just by using numpy lists"
   ]
  },
  {
   "cell_type": "code",
   "execution_count": null,
   "metadata": {},
   "outputs": [],
   "source": []
  },
  {
   "cell_type": "markdown",
   "metadata": {},
   "source": [
    "##### Some Points to remember"
   ]
  },
  {
   "cell_type": "code",
   "execution_count": 30,
   "metadata": {},
   "outputs": [],
   "source": [
    "pyt_lst2 = [1,\"a\",3.14,True]\n",
    "npy_lst2 = np.array([1,\"a\",3.14,True])"
   ]
  },
  {
   "cell_type": "code",
   "execution_count": null,
   "metadata": {},
   "outputs": [],
   "source": []
  },
  {
   "cell_type": "code",
   "execution_count": 31,
   "metadata": {},
   "outputs": [
    {
     "name": "stdout",
     "output_type": "stream",
     "text": [
      "pyt_lst2 =  [1, 'a', 3.14, True] \n",
      "\n",
      "npy_lst2 =  ['1' 'a' '3.14' 'True']\n"
     ]
    }
   ],
   "source": [
    "print(\"pyt_lst2 = \",pyt_lst2,\"\\n\")\n",
    "print(\"npy_lst2 = \",npy_lst2)"
   ]
  },
  {
   "cell_type": "markdown",
   "metadata": {},
   "source": [
    "Here python list mainitains the input data type as it is, but <br> \n",
    "numpy converts all into a common data type, here all as string"
   ]
  },
  {
   "cell_type": "code",
   "execution_count": null,
   "metadata": {},
   "outputs": [],
   "source": []
  },
  {
   "cell_type": "code",
   "execution_count": 32,
   "metadata": {},
   "outputs": [
    {
     "name": "stdout",
     "output_type": "stream",
     "text": [
      "height+weight = [1.72, 1.65, 1.66, 1.78, 1.9, 75, 54, 62, 74, 80]\n",
      "npy_height+npy_weight = [76.72 55.65 63.66 75.78 81.9 ]\n"
     ]
    }
   ],
   "source": [
    "print(\"height+weight =\",height+weight)\n",
    "print(\"npy_height+npy_weight =\",npy_height+npy_weight)"
   ]
  },
  {
   "cell_type": "markdown",
   "metadata": {},
   "source": [
    "Here in regular list + function results in concatenation <br>\n",
    "where as in npy_lists it results in element wise addition."
   ]
  },
  {
   "cell_type": "code",
   "execution_count": null,
   "metadata": {},
   "outputs": [],
   "source": []
  },
  {
   "cell_type": "code",
   "execution_count": 33,
   "metadata": {},
   "outputs": [
    {
     "name": "stdout",
     "output_type": "stream",
     "text": [
      "A question , we have the following data, \n",
      "height =  [1.72, 1.65, 1.66, 1.78, 1.9] \n",
      " weight = [75, 54, 62, 74, 80]\n",
      "Question : how to find the weight of people of height 1.75m and above?\n"
     ]
    }
   ],
   "source": [
    "print (\"A question , we have the following data, \")\n",
    "print(\"height = \", height, \"\\n\", \"weight =\",weight )\n",
    "print(\"Question : how to find the weight of people of height 1.75m and above?\")"
   ]
  },
  {
   "cell_type": "code",
   "execution_count": 34,
   "metadata": {},
   "outputs": [
    {
     "data": {
      "text/plain": [
       "array([False, False, False,  True,  True])"
      ]
     },
     "execution_count": 34,
     "metadata": {},
     "output_type": "execute_result"
    }
   ],
   "source": [
    "npy_height > 1.75"
   ]
  },
  {
   "cell_type": "code",
   "execution_count": 35,
   "metadata": {},
   "outputs": [
    {
     "data": {
      "text/plain": [
       "array([74, 80])"
      ]
     },
     "execution_count": 35,
     "metadata": {},
     "output_type": "execute_result"
    }
   ],
   "source": [
    "npy_weight[npy_height>1.75]"
   ]
  },
  {
   "cell_type": "code",
   "execution_count": null,
   "metadata": {},
   "outputs": [],
   "source": []
  },
  {
   "cell_type": "code",
   "execution_count": null,
   "metadata": {},
   "outputs": [],
   "source": []
  },
  {
   "cell_type": "code",
   "execution_count": null,
   "metadata": {},
   "outputs": [],
   "source": []
  },
  {
   "cell_type": "code",
   "execution_count": null,
   "metadata": {},
   "outputs": [],
   "source": []
  },
  {
   "cell_type": "code",
   "execution_count": null,
   "metadata": {},
   "outputs": [],
   "source": []
  },
  {
   "cell_type": "code",
   "execution_count": null,
   "metadata": {},
   "outputs": [],
   "source": []
  },
  {
   "cell_type": "code",
   "execution_count": null,
   "metadata": {},
   "outputs": [],
   "source": []
  },
  {
   "cell_type": "code",
   "execution_count": null,
   "metadata": {},
   "outputs": [],
   "source": []
  },
  {
   "cell_type": "code",
   "execution_count": null,
   "metadata": {},
   "outputs": [],
   "source": []
  }
 ],
 "metadata": {
  "kernelspec": {
   "display_name": "Python 3",
   "language": "python",
   "name": "python3"
  },
  "language_info": {
   "codemirror_mode": {
    "name": "ipython",
    "version": 3
   },
   "file_extension": ".py",
   "mimetype": "text/x-python",
   "name": "python",
   "nbconvert_exporter": "python",
   "pygments_lexer": "ipython3",
   "version": "3.7.4"
  }
 },
 "nbformat": 4,
 "nbformat_minor": 2
}
