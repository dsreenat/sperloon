{
  "nbformat": 4,
  "nbformat_minor": 0,
  "metadata": {
    "colab": {
      "provenance": [],
      "authorship_tag": "ABX9TyO9dSJRy7+zgE99CPgrOylP",
      "include_colab_link": true
    },
    "kernelspec": {
      "name": "python3",
      "display_name": "Python 3"
    },
    "language_info": {
      "name": "python"
    }
  },
  "cells": [
    {
      "cell_type": "markdown",
      "metadata": {
        "id": "view-in-github",
        "colab_type": "text"
      },
      "source": [
        "<a href=\"https://colab.research.google.com/github/dsreenat/sperloon/blob/master/Class_and_Objects.ipynb\" target=\"_parent\"><img src=\"https://colab.research.google.com/assets/colab-badge.svg\" alt=\"Open In Colab\"/></a>"
      ]
    },
    {
      "cell_type": "markdown",
      "source": [
        "Python Class and Objects"
      ],
      "metadata": {
        "id": "gDFs8o4H0aDa"
      }
    },
    {
      "cell_type": "code",
      "source": [
        "class Robot:\n",
        "    def __init__ (self,name,colour,weight):\n",
        "      self.name =name\n",
        "      self.colour = colour\n",
        "      self.weight = weight\n",
        "\n",
        "    def introduce_self(self) :\n",
        "      print(\"hello My name is \"+ self.name+ \", I'm in \"+ self.colour+\" colour and of \"+self.weight + \"Kg weight!\")\n",
        "\n",
        "    def simple_introduce(self):\n",
        "      print(\"hello My name is \"+ self.name)"
      ],
      "metadata": {
        "id": "rzt-X6hz0fWV"
      },
      "execution_count": 4,
      "outputs": []
    },
    {
      "cell_type": "code",
      "source": [
        "DSK1 = Robot(\"Tom\",\"Red\",\"30\")\n",
        "DSK2 = Robot(\"Jerry\",\"Blue\",\"40\")"
      ],
      "metadata": {
        "id": "cdlzazSq2t7o"
      },
      "execution_count": 5,
      "outputs": []
    },
    {
      "cell_type": "code",
      "source": [
        "DSK1.introduce_self()\n",
        "DSK2.simple_introduce()"
      ],
      "metadata": {
        "colab": {
          "base_uri": "https://localhost:8080/"
        },
        "id": "S0S9pJKy3DLJ",
        "outputId": "e9ee60a5-9c53-4742-9680-e3f8655fa480"
      },
      "execution_count": 7,
      "outputs": [
        {
          "output_type": "stream",
          "name": "stdout",
          "text": [
            "hello My name is Tom, I'm in Red colour and of 30Kg weight!\n",
            "hello My name is Jerry\n"
          ]
        }
      ]
    }
  ]
}