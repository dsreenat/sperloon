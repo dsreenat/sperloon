{
  "nbformat": 4,
  "nbformat_minor": 0,
  "metadata": {
    "colab": {
      "provenance": [],
      "include_colab_link": true
    },
    "kernelspec": {
      "name": "python3",
      "display_name": "Python 3"
    },
    "language_info": {
      "name": "python"
    }
  },
  "cells": [
    {
      "cell_type": "markdown",
      "metadata": {
        "id": "view-in-github",
        "colab_type": "text"
      },
      "source": [
        "<a href=\"https://colab.research.google.com/github/dsreenat/sperloon/blob/master/004_Class_Objects_functions/Class_and_Objects.ipynb\" target=\"_parent\"><img src=\"https://colab.research.google.com/assets/colab-badge.svg\" alt=\"Open In Colab\"/></a>"
      ]
    },
    {
      "cell_type": "markdown",
      "source": [
        "Python Class and Objects"
      ],
      "metadata": {
        "id": "gDFs8o4H0aDa"
      }
    },
    {
      "cell_type": "code",
      "source": [
        "class Robot:\n",
        "    def __init__ (self,name,colour,weight):\n",
        "      self.name =name\n",
        "      self.colour = colour\n",
        "      self.weight = weight\n",
        "\n",
        "    def introduce_self(self) :\n",
        "      print(\"Hello I'm a Robot and My name is \"+ self.name+ \", I'm in \"+ self.colour+\" colour and of \"+self.weight + \"Kg weight!\")\n",
        "\n",
        "    def simple_introduce(self):\n",
        "      print(\"Hello I'm a Robot and  My name is \"+ self.name)\n",
        "\n",
        "    def simple_introduce_2(self):\n",
        "      return (\"Hello I'm a Robot My name is \"+ self.name+ \"  \\n\")\n",
        "\n",
        "    def simple_introduce_3(self):\n",
        "      return f\"{self.name} is my Name and I'm a Robot\"\n"
      ],
      "metadata": {
        "id": "rzt-X6hz0fWV"
      },
      "execution_count": 1,
      "outputs": []
    },
    {
      "cell_type": "code",
      "source": [
        "DSK1 = Robot(\"Tom\",\"Red\",\"30\")\n",
        "DSK2 = Robot(\"Jerry\",\"Blue\",\"40\")"
      ],
      "metadata": {
        "id": "cdlzazSq2t7o"
      },
      "execution_count": 2,
      "outputs": []
    },
    {
      "cell_type": "code",
      "source": [
        "DSK1.introduce_self()\n",
        "DSK2.simple_introduce()"
      ],
      "metadata": {
        "colab": {
          "base_uri": "https://localhost:8080/"
        },
        "id": "S0S9pJKy3DLJ",
        "outputId": "b727999c-14d6-4e57-82ae-c2df70b5917d"
      },
      "execution_count": 3,
      "outputs": [
        {
          "output_type": "stream",
          "name": "stdout",
          "text": [
            "Hello I'm a Robot and My name is Tom, I'm in Red colour and of 30Kg weight!\n",
            "Hello I'm a Robot and  My name isJerry\n"
          ]
        }
      ]
    },
    {
      "cell_type": "code",
      "source": [
        "class Person:\n",
        "    def __init__(self, n, p, i):\n",
        "        self.name = n\n",
        "        self.personality = p\n",
        "        self.isSitting = i\n",
        "\n",
        "    def linked_connection(self):\n",
        "        print(\"My name is \" + self.name)"
      ],
      "metadata": {
        "id": "XI-WEjcXHGNU"
      },
      "execution_count": 4,
      "outputs": []
    },
    {
      "cell_type": "code",
      "source": [
        "p1 = Person(\"Alice\", \"aggressive\", False)\n",
        "p2 = Person(\"Becky\", \"aggressive\", True)\n",
        "\n",
        "p1.robot_owned = DSK2\n",
        "p2.robot_owned = DSK1"
      ],
      "metadata": {
        "id": "j2B4jHdbHQL5"
      },
      "execution_count": 5,
      "outputs": []
    },
    {
      "cell_type": "code",
      "source": [
        "DSK1.simple_introduce()\n",
        "p1.robot_owned.introduce_self()"
      ],
      "metadata": {
        "colab": {
          "base_uri": "https://localhost:8080/"
        },
        "id": "Rbsx362mHiB4",
        "outputId": "e28460b4-2f28-450a-9eb3-24670a6653e6"
      },
      "execution_count": 6,
      "outputs": [
        {
          "output_type": "stream",
          "name": "stdout",
          "text": [
            "Hello I'm a Robot and  My name isTom\n",
            "Hello I'm a Robot and My name is Jerry, I'm in Blue colour and of 40Kg weight!\n"
          ]
        }
      ]
    },
    {
      "cell_type": "code",
      "source": [
        "print (\"Or we can use\")"
      ],
      "metadata": {
        "colab": {
          "base_uri": "https://localhost:8080/"
        },
        "id": "iC7JYZj4IUHA",
        "outputId": "2f3c6889-2904-4cdd-8de1-355057f76e72"
      },
      "execution_count": 7,
      "outputs": [
        {
          "output_type": "stream",
          "name": "stdout",
          "text": [
            "Or we can use\n"
          ]
        }
      ]
    },
    {
      "cell_type": "code",
      "source": [
        "intro1 = DSK1.simple_introduce_2();\n",
        "intro2 = DSK2.simple_introduce_3();\n",
        "Combined_function_result = intro1 + intro2;\n",
        "print(Combined_function_result)"
      ],
      "metadata": {
        "colab": {
          "base_uri": "https://localhost:8080/"
        },
        "id": "RPHfhH34IcMv",
        "outputId": "71b6cef6-2c5d-48f3-8fc5-4ada6b64b38d"
      },
      "execution_count": 8,
      "outputs": [
        {
          "output_type": "stream",
          "name": "stdout",
          "text": [
            "Hello I'm a Robot My name is Tom  \n",
            "Jerry is my Name and I'm a Robot\n"
          ]
        }
      ]
    },
    {
      "cell_type": "code",
      "source": [
        "p1.linked_connection()\n",
        "p1.robot_owned.simple_introduce()\n",
        "p2.robot_owned.introduce_self()\n"
      ],
      "metadata": {
        "id": "vUjTPjCCI-uB",
        "colab": {
          "base_uri": "https://localhost:8080/"
        },
        "outputId": "638369e0-8c47-4e1e-b1b9-91942e6191ef"
      },
      "execution_count": 12,
      "outputs": [
        {
          "output_type": "stream",
          "name": "stdout",
          "text": [
            "My name is Alice\n",
            "Hello I'm a Robot and  My name isJerry\n",
            "Hello I'm a Robot and My name is Tom, I'm in Red colour and of 30Kg weight!\n"
          ]
        }
      ]
    }
  ]
}