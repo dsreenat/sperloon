{
  "nbformat": 4,
  "nbformat_minor": 0,
  "metadata": {
    "colab": {
      "provenance": [],
      "include_colab_link": true
    },
    "kernelspec": {
      "name": "python3",
      "display_name": "Python 3"
    },
    "language_info": {
      "name": "python"
    }
  },
  "cells": [
    {
      "cell_type": "markdown",
      "metadata": {
        "id": "view-in-github",
        "colab_type": "text"
      },
      "source": [
        "<a href=\"https://colab.research.google.com/github/dsreenat/sperloon/blob/master/004_Class_Objects_functions/Class_and_Objects.ipynb\" target=\"_parent\"><img src=\"https://colab.research.google.com/assets/colab-badge.svg\" alt=\"Open In Colab\"/></a>"
      ]
    },
    {
      "cell_type": "markdown",
      "source": [
        "Python Class and Objects"
      ],
      "metadata": {
        "id": "gDFs8o4H0aDa"
      }
    },
    {
      "cell_type": "code",
      "source": [
        "class Robot:\n",
        "    def __init__ (self,name,colour,weight):\n",
        "      self.name =name\n",
        "      self.colour = colour\n",
        "      self.weight = weight\n",
        "\n",
        "    def introduce_self(self) :\n",
        "      print(\"Hello I'm a Robot and My name is \"+ self.name+ \", I'm in \"+ self.colour+\" colour and of \"+self.weight + \"Kg weight!\")\n",
        "\n",
        "    def simple_introduce(self):\n",
        "      print(\"Hello I'm a Robot and  My name is \"+ self.name)\n",
        "\n",
        "    def simple_introduce_2(self):\n",
        "      return (\"Hello I'm a Robot My name is \"+ self.name+ \"  \\n\")\n",
        "\n",
        "    def simple_introduce_3(self):\n",
        "      return f\"{self.name} is my Name and I'm a Robot\"\n"
      ],
      "metadata": {
        "id": "rzt-X6hz0fWV"
      },
      "execution_count": 22,
      "outputs": []
    },
    {
      "cell_type": "code",
      "source": [
        "DSK1 = Robot(\"Tom\",\"Red\",\"30\")\n",
        "DSK2 = Robot(\"Jerry\",\"Blue\",\"40\")"
      ],
      "metadata": {
        "id": "cdlzazSq2t7o"
      },
      "execution_count": 23,
      "outputs": []
    },
    {
      "cell_type": "code",
      "source": [
        "DSK1.introduce_self()\n",
        "DSK2.simple_introduce()"
      ],
      "metadata": {
        "colab": {
          "base_uri": "https://localhost:8080/"
        },
        "id": "S0S9pJKy3DLJ",
        "outputId": "12626a9f-335b-4dba-bba6-010e12409f36"
      },
      "execution_count": 24,
      "outputs": [
        {
          "output_type": "stream",
          "name": "stdout",
          "text": [
            "Hello I'm a Robot and My name is Tom, I'm in Red colour and of 30Kg weight!\n",
            "Hello I'm a Robot and  My name is Jerry\n"
          ]
        }
      ]
    },
    {
      "cell_type": "code",
      "source": [
        "class Person:\n",
        "    def __init__(self, n, p, i):\n",
        "        self.name = n\n",
        "        self.personality = p\n",
        "        self.isSitting = i\n",
        "\n",
        "    def linked_connection(self):\n",
        "        print(\"My name is \" + self.name)"
      ],
      "metadata": {
        "id": "XI-WEjcXHGNU"
      },
      "execution_count": 25,
      "outputs": []
    },
    {
      "cell_type": "code",
      "source": [
        "p1 = Person(\"Alice\", \"aggressive\", False)\n",
        "p2 = Person(\"Becky\", \"aggressive\", True)\n",
        "\n",
        "p1.robot_owned = DSK1\n",
        "p2.robot_owned = DSK2"
      ],
      "metadata": {
        "id": "j2B4jHdbHQL5"
      },
      "execution_count": 26,
      "outputs": []
    },
    {
      "cell_type": "code",
      "source": [
        "DSK1.simple_introduce()\n",
        "p1.robot_owned.introduce_self()"
      ],
      "metadata": {
        "colab": {
          "base_uri": "https://localhost:8080/"
        },
        "id": "Rbsx362mHiB4",
        "outputId": "0b6cd9bf-9a55-4e3c-bfc2-1a29373c505a"
      },
      "execution_count": 27,
      "outputs": [
        {
          "output_type": "stream",
          "name": "stdout",
          "text": [
            "Hello I'm a Robot and  My name is Tom\n",
            "Hello I'm a Robot and My name is Tom, I'm in Red colour and of 30Kg weight!\n"
          ]
        }
      ]
    },
    {
      "cell_type": "code",
      "source": [
        "print (\"Or we can use\")"
      ],
      "metadata": {
        "colab": {
          "base_uri": "https://localhost:8080/"
        },
        "id": "iC7JYZj4IUHA",
        "outputId": "8849a63d-db1d-4a24-fdbb-162c717b7eee"
      },
      "execution_count": 28,
      "outputs": [
        {
          "output_type": "stream",
          "name": "stdout",
          "text": [
            "Or we can use\n"
          ]
        }
      ]
    },
    {
      "cell_type": "code",
      "source": [
        "intro1 = DSK1.simple_introduce_2();\n",
        "intro2 = DSK2.simple_introduce_3();\n",
        "Combined_function_result = intro1 + intro2;\n",
        "print(Combined_function_result)"
      ],
      "metadata": {
        "colab": {
          "base_uri": "https://localhost:8080/"
        },
        "id": "RPHfhH34IcMv",
        "outputId": "b0f4407c-3766-4f2f-8eaf-5ae3dd2bf609"
      },
      "execution_count": 29,
      "outputs": [
        {
          "output_type": "stream",
          "name": "stdout",
          "text": [
            "Hello I'm a Robot My name is Tom  \n",
            "Jerry is my Name and I'm a Robot\n"
          ]
        }
      ]
    },
    {
      "cell_type": "code",
      "source": [
        "p1.linked_connection()\n",
        "p1.robot_owned.simple_introduce()\n",
        "p2.robot_owned.introduce_self()\n"
      ],
      "metadata": {
        "id": "vUjTPjCCI-uB",
        "colab": {
          "base_uri": "https://localhost:8080/"
        },
        "outputId": "ad10deef-75ce-447d-a302-35cda3a7cce7"
      },
      "execution_count": 30,
      "outputs": [
        {
          "output_type": "stream",
          "name": "stdout",
          "text": [
            "My name is Alice\n",
            "Hello I'm a Robot and  My name is Tom\n",
            "Hello I'm a Robot and My name is Jerry, I'm in Blue colour and of 40Kg weight!\n"
          ]
        }
      ]
    }
  ]
}