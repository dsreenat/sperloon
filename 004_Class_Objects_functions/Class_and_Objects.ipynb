{
  "nbformat": 4,
  "nbformat_minor": 0,
  "metadata": {
    "colab": {
      "provenance": [],
      "include_colab_link": true
    },
    "kernelspec": {
      "name": "python3",
      "display_name": "Python 3"
    },
    "language_info": {
      "name": "python"
    }
  },
  "cells": [
    {
      "cell_type": "markdown",
      "metadata": {
        "id": "view-in-github",
        "colab_type": "text"
      },
      "source": [
        "<a href=\"https://colab.research.google.com/github/dsreenat/sperloon/blob/master/004_Class_Objects_functions/Class_and_Objects.ipynb\" target=\"_parent\"><img src=\"https://colab.research.google.com/assets/colab-badge.svg\" alt=\"Open In Colab\"/></a>"
      ]
    },
    {
      "cell_type": "markdown",
      "source": [
        "Python Class and Objects"
      ],
      "metadata": {
        "id": "gDFs8o4H0aDa"
      }
    },
    {
      "cell_type": "code",
      "source": [
        "class Robot:\n",
        "    def __init__ (self,name,colour,weight):\n",
        "      self.name =name\n",
        "      self.colour = colour\n",
        "      self.weight = weight\n",
        "\n",
        "    def introduce_self(self) :\n",
        "      print(\"Hello I'm a Robot and My name is \"+ self.name+ \", I'm in \"+ self.colour+\" colour and of \"+self.weight + \"Kg weight!\")\n",
        "\n",
        "    def simple_introduce(self):\n",
        "      print(\"Hello I'm a Robot and  My name is\"+ self.name)\n",
        "\n",
        "    def simple_introduce_2(self):\n",
        "      return (\"Hello I'm a Robot My name is \"+ self.name+ \"  \\n\")\n",
        "\n",
        "    def simple_introduce_3(self):\n",
        "      return f\"{self.name} is my Name and I'm a Robot\"\n"
      ],
      "metadata": {
        "id": "rzt-X6hz0fWV"
      },
      "execution_count": null,
      "outputs": []
    },
    {
      "cell_type": "code",
      "source": [
        "DSK1 = Robot(\"Tom\",\"Red\",\"30\")\n",
        "DSK2 = Robot(\"Jerry\",\"Blue\",\"40\")"
      ],
      "metadata": {
        "id": "cdlzazSq2t7o"
      },
      "execution_count": null,
      "outputs": []
    },
    {
      "cell_type": "code",
      "source": [
        "DSK1.introduce_self()\n",
        "DSK2.simple_introduce()"
      ],
      "metadata": {
        "colab": {
          "base_uri": "https://localhost:8080/"
        },
        "id": "S0S9pJKy3DLJ",
        "outputId": "50fd23e6-37d5-47eb-a522-facdbd608066"
      },
      "execution_count": null,
      "outputs": [
        {
          "output_type": "stream",
          "name": "stdout",
          "text": [
            "hello My name is Tom, I'm in Red colour and of 30Kg weight!\n",
            "hello My name is Jerry\n"
          ]
        }
      ]
    },
    {
      "cell_type": "code",
      "source": [
        "class Person:\n",
        "    def __init__(self, n, p, i):\n",
        "        self.name = n\n",
        "        self.personality = p\n",
        "        self.isSitting = i\n",
        "\n",
        "    def linked_connection(self):\n",
        "        print(\"My name is \" + self.name)"
      ],
      "metadata": {
        "id": "XI-WEjcXHGNU"
      },
      "execution_count": null,
      "outputs": []
    },
    {
      "cell_type": "code",
      "source": [
        "p1 = Person(\"Alice\", \"aggressive\", False)\n",
        "p2 = Person(\"Becky\", \"aggressive\", True)\n",
        "\n",
        "p1.robot_owned = DSK2\n",
        "p2.robot_owned = DSK1"
      ],
      "metadata": {
        "id": "j2B4jHdbHQL5"
      },
      "execution_count": null,
      "outputs": []
    },
    {
      "cell_type": "code",
      "source": [
        "DSK1.simple_introduce()\n",
        "p1.robot_owned.introduce_self()"
      ],
      "metadata": {
        "colab": {
          "base_uri": "https://localhost:8080/"
        },
        "id": "Rbsx362mHiB4",
        "outputId": "df9e9d10-296c-4fc1-9d37-f83539f93a71"
      },
      "execution_count": null,
      "outputs": [
        {
          "output_type": "stream",
          "name": "stdout",
          "text": [
            "hello My name is Tom\n",
            "hello My name is Jerry, I'm in Blue colour and of 40Kg weight!\n"
          ]
        }
      ]
    },
    {
      "cell_type": "code",
      "source": [
        "print (\"Or we can use\")"
      ],
      "metadata": {
        "colab": {
          "base_uri": "https://localhost:8080/"
        },
        "id": "iC7JYZj4IUHA",
        "outputId": "5942647c-11c9-40f9-958f-f82ba16e9e36"
      },
      "execution_count": null,
      "outputs": [
        {
          "output_type": "stream",
          "name": "stdout",
          "text": [
            "Or we can use\n"
          ]
        }
      ]
    },
    {
      "cell_type": "code",
      "source": [
        "intro1 = DSK1.simple_introduce_2();\n",
        "intro2 = DSK2.simple_introduce_3();\n",
        "Combined_function_result = intro1 + intro2;\n",
        "print(Combined_function_result)"
      ],
      "metadata": {
        "colab": {
          "base_uri": "https://localhost:8080/"
        },
        "id": "RPHfhH34IcMv",
        "outputId": "50098bfe-2854-4b44-e480-e872e2eb0f8c"
      },
      "execution_count": null,
      "outputs": [
        {
          "output_type": "stream",
          "name": "stdout",
          "text": [
            "hello My name is Tom Test \n",
            "Jerry is my Name\n"
          ]
        }
      ]
    },
    {
      "cell_type": "code",
      "source": [],
      "metadata": {
        "id": "vUjTPjCCI-uB"
      },
      "execution_count": null,
      "outputs": []
    }
  ]
}