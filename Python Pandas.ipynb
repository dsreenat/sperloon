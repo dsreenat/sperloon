{
 "cells": [
  {
   "cell_type": "markdown",
   "metadata": {},
   "source": [
    "# Python Package : Pandas  --> incomplete/Ongoing"
   ]
  },
  {
   "cell_type": "code",
   "execution_count": null,
   "metadata": {},
   "outputs": [],
   "source": []
  },
  {
   "cell_type": "code",
   "execution_count": 1,
   "metadata": {},
   "outputs": [],
   "source": [
    "#Importing Packages\n",
    "import numpy as np\n",
    "import pandas as pd"
   ]
  },
  {
   "cell_type": "code",
   "execution_count": null,
   "metadata": {},
   "outputs": [],
   "source": []
  },
  {
   "cell_type": "markdown",
   "metadata": {},
   "source": [
    "#### Pandas Seies"
   ]
  },
  {
   "cell_type": "markdown",
   "metadata": {},
   "source": [
    "#### More about pandas series here \n",
    "https://pandas.pydata.org/pandas-docs/stable/reference/api/pandas.Series.html?highlight=series#pandas.Series\n",
    "    "
   ]
  },
  {
   "cell_type": "code",
   "execution_count": 2,
   "metadata": {},
   "outputs": [
    {
     "name": "stdout",
     "output_type": "stream",
     "text": [
      "<class 'pandas.core.series.Series'>\n"
     ]
    },
    {
     "data": {
      "text/plain": [
       "0    1\n",
       "1    2\n",
       "2    3\n",
       "3    4\n",
       "4    5\n",
       "5    6\n",
       "dtype: int64"
      ]
     },
     "execution_count": 2,
     "metadata": {},
     "output_type": "execute_result"
    }
   ],
   "source": [
    "#creating a pandas serires\n",
    "pds = pd.Series([1,2,3,4,5,6])\n",
    "print(type(pds))\n",
    "pds"
   ]
  },
  {
   "cell_type": "code",
   "execution_count": 3,
   "metadata": {},
   "outputs": [
    {
     "data": {
      "text/plain": [
       "0    1.0\n",
       "1    2.0\n",
       "2    3.0\n",
       "3    4.0\n",
       "4    5.0\n",
       "5    6.0\n",
       "6    NaN\n",
       "dtype: float64"
      ]
     },
     "execution_count": 3,
     "metadata": {},
     "output_type": "execute_result"
    }
   ],
   "source": [
    "#creating a pandas serires\n",
    "pds_1 = pd.Series([1,2,3,4,5,6,np.nan])\n",
    "pds_1"
   ]
  },
  {
   "cell_type": "code",
   "execution_count": 4,
   "metadata": {},
   "outputs": [
    {
     "name": "stdout",
     "output_type": "stream",
     "text": [
      "RangeIndex(start=0, stop=7, step=1)\n",
      "2nd Location using iloc  3.0\n",
      "2nd Location  3.0\n",
      "Shape of the series  (7,)\n",
      "Size of the series  7\n"
     ]
    }
   ],
   "source": [
    "#retriving the index of the serires,\n",
    "print(pds_1.index)\n",
    "\n",
    "#iloc used to select an element based on its location\n",
    "print(\"2nd Location using iloc \",pds_1.iloc[2])\n",
    "\n",
    "#alternate option\n",
    "print(\"2nd Location \",pds_1[2])\n",
    "\n",
    "#shape of the series\n",
    "print(\"Shape of the series \",pds_1.shape)\n",
    "\n",
    "#size of the series\n",
    "print(\"Size of the series \",pds_1.size)"
   ]
  },
  {
   "cell_type": "markdown",
   "metadata": {},
   "source": [
    "#### Date Range"
   ]
  },
  {
   "cell_type": "code",
   "execution_count": 5,
   "metadata": {},
   "outputs": [
    {
     "data": {
      "text/plain": [
       "DatetimeIndex(['2020-06-22', '2020-06-29', '2020-07-06', '2020-07-13',\n",
       "               '2020-07-20', '2020-07-27', '2020-08-03', '2020-08-10',\n",
       "               '2020-08-17', '2020-08-24', '2020-08-31', '2020-09-07',\n",
       "               '2020-09-14', '2020-09-21', '2020-09-28'],\n",
       "              dtype='datetime64[ns]', freq='W-MON')"
      ]
     },
     "execution_count": 5,
     "metadata": {},
     "output_type": "execute_result"
    }
   ],
   "source": [
    "#creating a datarange, here the starting date is given and how many sequence more is required. (periods=7)\n",
    "pd_dates = pd.date_range('20200617',periods=15, freq='W-MON') \n",
    "pd_dates"
   ]
  },
  {
   "cell_type": "markdown",
   "metadata": {},
   "source": [
    "More about this command and its optional functions <br>\n",
    "https://pandas.pydata.org/pandas-docs/stable/reference/api/pandas.date_range.html <br>\n",
    "https://pandas.pydata.org/pandas-docs/stable/user_guide/timeseries.html#timeseries-offset-aliases"
   ]
  },
  {
   "cell_type": "code",
   "execution_count": null,
   "metadata": {},
   "outputs": [],
   "source": []
  },
  {
   "cell_type": "code",
   "execution_count": 6,
   "metadata": {},
   "outputs": [
    {
     "name": "stdout",
     "output_type": "stream",
     "text": [
      "                   A         B         C         D\n",
      "2020-06-22 -0.375397 -2.415875  0.635027 -0.998366\n",
      "2020-06-29  0.489193  1.028506  1.615958  1.080049\n",
      "2020-07-06  0.690150 -0.925103  0.363888 -0.397817\n",
      "2020-07-13 -0.358573 -2.517298  0.865869  1.696605\n",
      "2020-07-20 -0.805582 -0.023050  2.099296  0.740397\n",
      "2020-07-27  0.256385  0.076932  0.576259 -2.619161\n",
      "2020-08-03  1.392580 -1.814585  0.528952 -0.450159\n",
      "2020-08-10  1.166942 -0.096442 -0.583863 -2.013085\n",
      "2020-08-17 -1.383074  0.325274 -0.208787 -0.744221\n",
      "2020-08-24 -0.669833  1.505303  0.946601 -0.284169\n",
      "2020-08-31 -0.294401  0.232658  0.358700  0.422491\n",
      "2020-09-07 -1.001599  0.742470  0.222089  0.406754\n",
      "2020-09-14 -0.776627  0.482336  0.373218 -1.056231\n",
      "2020-09-21  1.097836 -2.843500  0.921609  0.388054\n",
      "2020-09-28 -2.027722 -0.254971 -0.791811  0.697453\n",
      "\n",
      "\n",
      "             A   B   C   D\n",
      "2020-06-22  10  10  19   2\n",
      "2020-06-29  39  43  12  28\n",
      "2020-07-06  31  26   8  22\n",
      "2020-07-13  36  28  42  32\n",
      "2020-07-20  20  13  30  21\n",
      "2020-07-27  44   5  26  19\n",
      "2020-08-03  38  25  19  18\n",
      "2020-08-10  33  19  23   9\n",
      "2020-08-17  29  11  17  16\n",
      "2020-08-24  33  22  15  15\n",
      "2020-08-31   6  36  43  23\n",
      "2020-09-07  36  15  26  11\n",
      "2020-09-14  26  37  21  29\n",
      "2020-09-21  28  32  11  27\n",
      "2020-09-28  43  42  39  14\n"
     ]
    }
   ],
   "source": [
    "df1 =pd.DataFrame(np.random.randn(15,4),index=pd_dates,columns=[\"A\",\"B\",\"C\",\"D\"])\n",
    "df2 =pd.DataFrame(np.random.randint(1,45,size=(15,4)),index=pd_dates,columns=[\"A\",\"B\",\"C\",\"D\"])\n",
    "\n",
    "print(df1)\n",
    "print(\"\\n\")\n",
    "print(df2)"
   ]
  },
  {
   "cell_type": "code",
   "execution_count": 7,
   "metadata": {},
   "outputs": [
    {
     "data": {
      "text/html": [
       "<div>\n",
       "<style scoped>\n",
       "    .dataframe tbody tr th:only-of-type {\n",
       "        vertical-align: middle;\n",
       "    }\n",
       "\n",
       "    .dataframe tbody tr th {\n",
       "        vertical-align: top;\n",
       "    }\n",
       "\n",
       "    .dataframe thead th {\n",
       "        text-align: right;\n",
       "    }\n",
       "</style>\n",
       "<table border=\"1\" class=\"dataframe\">\n",
       "  <thead>\n",
       "    <tr style=\"text-align: right;\">\n",
       "      <th></th>\n",
       "      <th>A</th>\n",
       "      <th>B</th>\n",
       "      <th>C</th>\n",
       "      <th>D</th>\n",
       "      <th>E</th>\n",
       "      <th>F</th>\n",
       "    </tr>\n",
       "  </thead>\n",
       "  <tbody>\n",
       "    <tr>\n",
       "      <td>0</td>\n",
       "      <td>1</td>\n",
       "      <td>2020-06-18</td>\n",
       "      <td>1.0</td>\n",
       "      <td>5</td>\n",
       "      <td>True</td>\n",
       "      <td>Pandas</td>\n",
       "    </tr>\n",
       "    <tr>\n",
       "      <td>1</td>\n",
       "      <td>2</td>\n",
       "      <td>2020-06-18</td>\n",
       "      <td>1.0</td>\n",
       "      <td>5</td>\n",
       "      <td>False</td>\n",
       "      <td>Pandas</td>\n",
       "    </tr>\n",
       "    <tr>\n",
       "      <td>2</td>\n",
       "      <td>3</td>\n",
       "      <td>2020-06-18</td>\n",
       "      <td>1.0</td>\n",
       "      <td>5</td>\n",
       "      <td>True</td>\n",
       "      <td>Pandas</td>\n",
       "    </tr>\n",
       "    <tr>\n",
       "      <td>3</td>\n",
       "      <td>4</td>\n",
       "      <td>2020-06-18</td>\n",
       "      <td>1.0</td>\n",
       "      <td>5</td>\n",
       "      <td>True</td>\n",
       "      <td>Pandas</td>\n",
       "    </tr>\n",
       "  </tbody>\n",
       "</table>\n",
       "</div>"
      ],
      "text/plain": [
       "   A          B    C  D      E       F\n",
       "0  1 2020-06-18  1.0  5   True  Pandas\n",
       "1  2 2020-06-18  1.0  5  False  Pandas\n",
       "2  3 2020-06-18  1.0  5   True  Pandas\n",
       "3  4 2020-06-18  1.0  5   True  Pandas"
      ]
     },
     "execution_count": 7,
     "metadata": {},
     "output_type": "execute_result"
    }
   ],
   "source": [
    "#Creating a data frame from a dictionary\n",
    "df3 = pd.DataFrame({ 'A' : [1,2,3,4],\n",
    "                      'B' : pd.Timestamp('20200618'),\n",
    "                      'C' : pd.Series(1,index=list(range(4)),dtype=\"float32\"),\n",
    "                      'D' : np.array([5]*4,dtype='int32'),\n",
    "                      'E' : pd.Categorical(['True','False','True','True']),\n",
    "                      'F' : 'Pandas'})\n",
    "\n",
    "df3"
   ]
  },
  {
   "cell_type": "code",
   "execution_count": 8,
   "metadata": {},
   "outputs": [
    {
     "data": {
      "text/plain": [
       "A             int64\n",
       "B    datetime64[ns]\n",
       "C           float32\n",
       "D             int32\n",
       "E          category\n",
       "F            object\n",
       "dtype: object"
      ]
     },
     "execution_count": 8,
     "metadata": {},
     "output_type": "execute_result"
    }
   ],
   "source": [
    "#Understanding the datatypes of columns in the dataframe\n",
    "df3.dtypes"
   ]
  },
  {
   "cell_type": "code",
   "execution_count": 9,
   "metadata": {},
   "outputs": [
    {
     "data": {
      "text/plain": [
       "array([[1, Timestamp('2020-06-18 00:00:00'), 1.0, 5, 'True', 'Pandas'],\n",
       "       [2, Timestamp('2020-06-18 00:00:00'), 1.0, 5, 'False', 'Pandas'],\n",
       "       [3, Timestamp('2020-06-18 00:00:00'), 1.0, 5, 'True', 'Pandas'],\n",
       "       [4, Timestamp('2020-06-18 00:00:00'), 1.0, 5, 'True', 'Pandas']],\n",
       "      dtype=object)"
      ]
     },
     "execution_count": 9,
     "metadata": {},
     "output_type": "execute_result"
    }
   ],
   "source": [
    "#converting a dataframe to a numpy array\n",
    "df3.to_numpy()"
   ]
  },
  {
   "cell_type": "code",
   "execution_count": 10,
   "metadata": {},
   "outputs": [
    {
     "data": {
      "text/html": [
       "<div>\n",
       "<style scoped>\n",
       "    .dataframe tbody tr th:only-of-type {\n",
       "        vertical-align: middle;\n",
       "    }\n",
       "\n",
       "    .dataframe tbody tr th {\n",
       "        vertical-align: top;\n",
       "    }\n",
       "\n",
       "    .dataframe thead th {\n",
       "        text-align: right;\n",
       "    }\n",
       "</style>\n",
       "<table border=\"1\" class=\"dataframe\">\n",
       "  <thead>\n",
       "    <tr style=\"text-align: right;\">\n",
       "      <th></th>\n",
       "      <th>A</th>\n",
       "      <th>B</th>\n",
       "      <th>C</th>\n",
       "      <th>D</th>\n",
       "    </tr>\n",
       "  </thead>\n",
       "  <tbody>\n",
       "    <tr>\n",
       "      <td>2020-06-22</td>\n",
       "      <td>-0.375397</td>\n",
       "      <td>-2.415875</td>\n",
       "      <td>0.635027</td>\n",
       "      <td>-0.998366</td>\n",
       "    </tr>\n",
       "    <tr>\n",
       "      <td>2020-06-29</td>\n",
       "      <td>0.489193</td>\n",
       "      <td>1.028506</td>\n",
       "      <td>1.615958</td>\n",
       "      <td>1.080049</td>\n",
       "    </tr>\n",
       "    <tr>\n",
       "      <td>2020-07-06</td>\n",
       "      <td>0.690150</td>\n",
       "      <td>-0.925103</td>\n",
       "      <td>0.363888</td>\n",
       "      <td>-0.397817</td>\n",
       "    </tr>\n",
       "  </tbody>\n",
       "</table>\n",
       "</div>"
      ],
      "text/plain": [
       "                   A         B         C         D\n",
       "2020-06-22 -0.375397 -2.415875  0.635027 -0.998366\n",
       "2020-06-29  0.489193  1.028506  1.615958  1.080049\n",
       "2020-07-06  0.690150 -0.925103  0.363888 -0.397817"
      ]
     },
     "execution_count": 10,
     "metadata": {},
     "output_type": "execute_result"
    }
   ],
   "source": [
    "#printing first 3 elements of the dataframe. if no value specified, it'll take the default value of 5\n",
    "df1.head(3)"
   ]
  },
  {
   "cell_type": "code",
   "execution_count": 11,
   "metadata": {},
   "outputs": [
    {
     "data": {
      "text/html": [
       "<div>\n",
       "<style scoped>\n",
       "    .dataframe tbody tr th:only-of-type {\n",
       "        vertical-align: middle;\n",
       "    }\n",
       "\n",
       "    .dataframe tbody tr th {\n",
       "        vertical-align: top;\n",
       "    }\n",
       "\n",
       "    .dataframe thead th {\n",
       "        text-align: right;\n",
       "    }\n",
       "</style>\n",
       "<table border=\"1\" class=\"dataframe\">\n",
       "  <thead>\n",
       "    <tr style=\"text-align: right;\">\n",
       "      <th></th>\n",
       "      <th>A</th>\n",
       "      <th>B</th>\n",
       "      <th>C</th>\n",
       "      <th>D</th>\n",
       "    </tr>\n",
       "  </thead>\n",
       "  <tbody>\n",
       "    <tr>\n",
       "      <td>2020-08-31</td>\n",
       "      <td>-0.294401</td>\n",
       "      <td>0.232658</td>\n",
       "      <td>0.358700</td>\n",
       "      <td>0.422491</td>\n",
       "    </tr>\n",
       "    <tr>\n",
       "      <td>2020-09-07</td>\n",
       "      <td>-1.001599</td>\n",
       "      <td>0.742470</td>\n",
       "      <td>0.222089</td>\n",
       "      <td>0.406754</td>\n",
       "    </tr>\n",
       "    <tr>\n",
       "      <td>2020-09-14</td>\n",
       "      <td>-0.776627</td>\n",
       "      <td>0.482336</td>\n",
       "      <td>0.373218</td>\n",
       "      <td>-1.056231</td>\n",
       "    </tr>\n",
       "    <tr>\n",
       "      <td>2020-09-21</td>\n",
       "      <td>1.097836</td>\n",
       "      <td>-2.843500</td>\n",
       "      <td>0.921609</td>\n",
       "      <td>0.388054</td>\n",
       "    </tr>\n",
       "    <tr>\n",
       "      <td>2020-09-28</td>\n",
       "      <td>-2.027722</td>\n",
       "      <td>-0.254971</td>\n",
       "      <td>-0.791811</td>\n",
       "      <td>0.697453</td>\n",
       "    </tr>\n",
       "  </tbody>\n",
       "</table>\n",
       "</div>"
      ],
      "text/plain": [
       "                   A         B         C         D\n",
       "2020-08-31 -0.294401  0.232658  0.358700  0.422491\n",
       "2020-09-07 -1.001599  0.742470  0.222089  0.406754\n",
       "2020-09-14 -0.776627  0.482336  0.373218 -1.056231\n",
       "2020-09-21  1.097836 -2.843500  0.921609  0.388054\n",
       "2020-09-28 -2.027722 -0.254971 -0.791811  0.697453"
      ]
     },
     "execution_count": 11,
     "metadata": {},
     "output_type": "execute_result"
    }
   ],
   "source": [
    "#peinitng the last 5 rows of the data frame\n",
    "df1.tail()"
   ]
  },
  {
   "cell_type": "code",
   "execution_count": 12,
   "metadata": {},
   "outputs": [
    {
     "data": {
      "text/plain": [
       "DatetimeIndex(['2020-06-22', '2020-06-29', '2020-07-06', '2020-07-13',\n",
       "               '2020-07-20', '2020-07-27', '2020-08-03', '2020-08-10',\n",
       "               '2020-08-17', '2020-08-24', '2020-08-31', '2020-09-07',\n",
       "               '2020-09-14', '2020-09-21', '2020-09-28'],\n",
       "              dtype='datetime64[ns]', freq='W-MON')"
      ]
     },
     "execution_count": 12,
     "metadata": {},
     "output_type": "execute_result"
    }
   ],
   "source": [
    "#printing the index values of the data frame.\n",
    "df1.index"
   ]
  },
  {
   "cell_type": "code",
   "execution_count": 13,
   "metadata": {},
   "outputs": [
    {
     "data": {
      "text/plain": [
       "Index(['A', 'B', 'C', 'D'], dtype='object')"
      ]
     },
     "execution_count": 13,
     "metadata": {},
     "output_type": "execute_result"
    }
   ],
   "source": [
    "#Prints column names\n",
    "df1.columns"
   ]
  },
  {
   "cell_type": "code",
   "execution_count": 14,
   "metadata": {},
   "outputs": [
    {
     "data": {
      "text/html": [
       "<div>\n",
       "<style scoped>\n",
       "    .dataframe tbody tr th:only-of-type {\n",
       "        vertical-align: middle;\n",
       "    }\n",
       "\n",
       "    .dataframe tbody tr th {\n",
       "        vertical-align: top;\n",
       "    }\n",
       "\n",
       "    .dataframe thead th {\n",
       "        text-align: right;\n",
       "    }\n",
       "</style>\n",
       "<table border=\"1\" class=\"dataframe\">\n",
       "  <thead>\n",
       "    <tr style=\"text-align: right;\">\n",
       "      <th></th>\n",
       "      <th>A</th>\n",
       "      <th>B</th>\n",
       "      <th>C</th>\n",
       "      <th>D</th>\n",
       "    </tr>\n",
       "  </thead>\n",
       "  <tbody>\n",
       "    <tr>\n",
       "      <td>count</td>\n",
       "      <td>15.000000</td>\n",
       "      <td>15.000000</td>\n",
       "      <td>15.000000</td>\n",
       "      <td>15.000000</td>\n",
       "    </tr>\n",
       "    <tr>\n",
       "      <td>mean</td>\n",
       "      <td>-0.173315</td>\n",
       "      <td>-0.433156</td>\n",
       "      <td>0.528200</td>\n",
       "      <td>-0.208761</td>\n",
       "    </tr>\n",
       "    <tr>\n",
       "      <td>std</td>\n",
       "      <td>0.997202</td>\n",
       "      <td>1.361230</td>\n",
       "      <td>0.746652</td>\n",
       "      <td>1.163149</td>\n",
       "    </tr>\n",
       "    <tr>\n",
       "      <td>min</td>\n",
       "      <td>-2.027722</td>\n",
       "      <td>-2.843500</td>\n",
       "      <td>-0.791811</td>\n",
       "      <td>-2.619161</td>\n",
       "    </tr>\n",
       "    <tr>\n",
       "      <td>25%</td>\n",
       "      <td>-0.791104</td>\n",
       "      <td>-1.369844</td>\n",
       "      <td>0.290394</td>\n",
       "      <td>-0.871293</td>\n",
       "    </tr>\n",
       "    <tr>\n",
       "      <td>50%</td>\n",
       "      <td>-0.358573</td>\n",
       "      <td>-0.023050</td>\n",
       "      <td>0.528952</td>\n",
       "      <td>-0.284169</td>\n",
       "    </tr>\n",
       "    <tr>\n",
       "      <td>75%</td>\n",
       "      <td>0.589671</td>\n",
       "      <td>0.403805</td>\n",
       "      <td>0.893739</td>\n",
       "      <td>0.559972</td>\n",
       "    </tr>\n",
       "    <tr>\n",
       "      <td>max</td>\n",
       "      <td>1.392580</td>\n",
       "      <td>1.505303</td>\n",
       "      <td>2.099296</td>\n",
       "      <td>1.696605</td>\n",
       "    </tr>\n",
       "  </tbody>\n",
       "</table>\n",
       "</div>"
      ],
      "text/plain": [
       "               A          B          C          D\n",
       "count  15.000000  15.000000  15.000000  15.000000\n",
       "mean   -0.173315  -0.433156   0.528200  -0.208761\n",
       "std     0.997202   1.361230   0.746652   1.163149\n",
       "min    -2.027722  -2.843500  -0.791811  -2.619161\n",
       "25%    -0.791104  -1.369844   0.290394  -0.871293\n",
       "50%    -0.358573  -0.023050   0.528952  -0.284169\n",
       "75%     0.589671   0.403805   0.893739   0.559972\n",
       "max     1.392580   1.505303   2.099296   1.696605"
      ]
     },
     "execution_count": 14,
     "metadata": {},
     "output_type": "execute_result"
    }
   ],
   "source": [
    "##general info about the dataframe\n",
    "df1.describe()"
   ]
  },
  {
   "cell_type": "code",
   "execution_count": 15,
   "metadata": {},
   "outputs": [
    {
     "data": {
      "text/html": [
       "<div>\n",
       "<style scoped>\n",
       "    .dataframe tbody tr th:only-of-type {\n",
       "        vertical-align: middle;\n",
       "    }\n",
       "\n",
       "    .dataframe tbody tr th {\n",
       "        vertical-align: top;\n",
       "    }\n",
       "\n",
       "    .dataframe thead th {\n",
       "        text-align: right;\n",
       "    }\n",
       "</style>\n",
       "<table border=\"1\" class=\"dataframe\">\n",
       "  <thead>\n",
       "    <tr style=\"text-align: right;\">\n",
       "      <th></th>\n",
       "      <th>A</th>\n",
       "      <th>B</th>\n",
       "      <th>C</th>\n",
       "      <th>D</th>\n",
       "    </tr>\n",
       "  </thead>\n",
       "  <tbody>\n",
       "    <tr>\n",
       "      <td>2020-06-22</td>\n",
       "      <td>-0.375397</td>\n",
       "      <td>-2.415875</td>\n",
       "      <td>0.635027</td>\n",
       "      <td>-0.998366</td>\n",
       "    </tr>\n",
       "    <tr>\n",
       "      <td>2020-06-29</td>\n",
       "      <td>0.489193</td>\n",
       "      <td>1.028506</td>\n",
       "      <td>1.615958</td>\n",
       "      <td>1.080049</td>\n",
       "    </tr>\n",
       "    <tr>\n",
       "      <td>2020-07-06</td>\n",
       "      <td>0.690150</td>\n",
       "      <td>-0.925103</td>\n",
       "      <td>0.363888</td>\n",
       "      <td>-0.397817</td>\n",
       "    </tr>\n",
       "    <tr>\n",
       "      <td>2020-07-13</td>\n",
       "      <td>-0.358573</td>\n",
       "      <td>-2.517298</td>\n",
       "      <td>0.865869</td>\n",
       "      <td>1.696605</td>\n",
       "    </tr>\n",
       "    <tr>\n",
       "      <td>2020-07-20</td>\n",
       "      <td>-0.805582</td>\n",
       "      <td>-0.023050</td>\n",
       "      <td>2.099296</td>\n",
       "      <td>0.740397</td>\n",
       "    </tr>\n",
       "  </tbody>\n",
       "</table>\n",
       "</div>"
      ],
      "text/plain": [
       "                   A         B         C         D\n",
       "2020-06-22 -0.375397 -2.415875  0.635027 -0.998366\n",
       "2020-06-29  0.489193  1.028506  1.615958  1.080049\n",
       "2020-07-06  0.690150 -0.925103  0.363888 -0.397817\n",
       "2020-07-13 -0.358573 -2.517298  0.865869  1.696605\n",
       "2020-07-20 -0.805582 -0.023050  2.099296  0.740397"
      ]
     },
     "execution_count": 15,
     "metadata": {},
     "output_type": "execute_result"
    }
   ],
   "source": [
    "#sorting the data frame, uncomment one and see the output.\n",
    "\n",
    "\n",
    "#df1.sort_values('C',ascending=True)\n",
    "#df1.sort_values('C',ascending=False)\n",
    "#df1.sort_index(axis=0,ascending=False)\n",
    "df1.sort_index(axis=0,ascending=True).head()"
   ]
  },
  {
   "cell_type": "code",
   "execution_count": 16,
   "metadata": {},
   "outputs": [
    {
     "data": {
      "text/plain": [
       "2020-06-22   -0.375397\n",
       "2020-06-29    0.489193\n",
       "2020-07-06    0.690150\n",
       "2020-07-13   -0.358573\n",
       "2020-07-20   -0.805582\n",
       "Freq: W-MON, Name: A, dtype: float64"
      ]
     },
     "execution_count": 16,
     "metadata": {},
     "output_type": "execute_result"
    }
   ],
   "source": [
    "#printing only the first column\n",
    "df1['A'].head()"
   ]
  },
  {
   "cell_type": "code",
   "execution_count": 17,
   "metadata": {},
   "outputs": [
    {
     "data": {
      "text/html": [
       "<div>\n",
       "<style scoped>\n",
       "    .dataframe tbody tr th:only-of-type {\n",
       "        vertical-align: middle;\n",
       "    }\n",
       "\n",
       "    .dataframe tbody tr th {\n",
       "        vertical-align: top;\n",
       "    }\n",
       "\n",
       "    .dataframe thead th {\n",
       "        text-align: right;\n",
       "    }\n",
       "</style>\n",
       "<table border=\"1\" class=\"dataframe\">\n",
       "  <thead>\n",
       "    <tr style=\"text-align: right;\">\n",
       "      <th></th>\n",
       "      <th>A</th>\n",
       "      <th>C</th>\n",
       "    </tr>\n",
       "  </thead>\n",
       "  <tbody>\n",
       "    <tr>\n",
       "      <td>2020-06-22</td>\n",
       "      <td>-0.375397</td>\n",
       "      <td>0.635027</td>\n",
       "    </tr>\n",
       "    <tr>\n",
       "      <td>2020-06-29</td>\n",
       "      <td>0.489193</td>\n",
       "      <td>1.615958</td>\n",
       "    </tr>\n",
       "    <tr>\n",
       "      <td>2020-07-06</td>\n",
       "      <td>0.690150</td>\n",
       "      <td>0.363888</td>\n",
       "    </tr>\n",
       "    <tr>\n",
       "      <td>2020-07-13</td>\n",
       "      <td>-0.358573</td>\n",
       "      <td>0.865869</td>\n",
       "    </tr>\n",
       "    <tr>\n",
       "      <td>2020-07-20</td>\n",
       "      <td>-0.805582</td>\n",
       "      <td>2.099296</td>\n",
       "    </tr>\n",
       "  </tbody>\n",
       "</table>\n",
       "</div>"
      ],
      "text/plain": [
       "                   A         C\n",
       "2020-06-22 -0.375397  0.635027\n",
       "2020-06-29  0.489193  1.615958\n",
       "2020-07-06  0.690150  0.363888\n",
       "2020-07-13 -0.358573  0.865869\n",
       "2020-07-20 -0.805582  2.099296"
      ]
     },
     "execution_count": 17,
     "metadata": {},
     "output_type": "execute_result"
    }
   ],
   "source": [
    "#printing the first and the third column\n",
    "df1[['A','C']].head()"
   ]
  },
  {
   "cell_type": "code",
   "execution_count": 18,
   "metadata": {},
   "outputs": [
    {
     "data": {
      "text/html": [
       "<div>\n",
       "<style scoped>\n",
       "    .dataframe tbody tr th:only-of-type {\n",
       "        vertical-align: middle;\n",
       "    }\n",
       "\n",
       "    .dataframe tbody tr th {\n",
       "        vertical-align: top;\n",
       "    }\n",
       "\n",
       "    .dataframe thead th {\n",
       "        text-align: right;\n",
       "    }\n",
       "</style>\n",
       "<table border=\"1\" class=\"dataframe\">\n",
       "  <thead>\n",
       "    <tr style=\"text-align: right;\">\n",
       "      <th></th>\n",
       "      <th>A</th>\n",
       "      <th>B</th>\n",
       "      <th>C</th>\n",
       "      <th>D</th>\n",
       "    </tr>\n",
       "  </thead>\n",
       "  <tbody>\n",
       "    <tr>\n",
       "      <td>2020-06-22</td>\n",
       "      <td>-0.375397</td>\n",
       "      <td>-2.415875</td>\n",
       "      <td>0.635027</td>\n",
       "      <td>-0.998366</td>\n",
       "    </tr>\n",
       "    <tr>\n",
       "      <td>2020-06-29</td>\n",
       "      <td>0.489193</td>\n",
       "      <td>1.028506</td>\n",
       "      <td>1.615958</td>\n",
       "      <td>1.080049</td>\n",
       "    </tr>\n",
       "    <tr>\n",
       "      <td>2020-07-06</td>\n",
       "      <td>0.690150</td>\n",
       "      <td>-0.925103</td>\n",
       "      <td>0.363888</td>\n",
       "      <td>-0.397817</td>\n",
       "    </tr>\n",
       "  </tbody>\n",
       "</table>\n",
       "</div>"
      ],
      "text/plain": [
       "                   A         B         C         D\n",
       "2020-06-22 -0.375397 -2.415875  0.635027 -0.998366\n",
       "2020-06-29  0.489193  1.028506  1.615958  1.080049\n",
       "2020-07-06  0.690150 -0.925103  0.363888 -0.397817"
      ]
     },
     "execution_count": 18,
     "metadata": {},
     "output_type": "execute_result"
    }
   ],
   "source": [
    "#printing the first to the third rows\n",
    "df1[0:3]"
   ]
  },
  {
   "cell_type": "code",
   "execution_count": 19,
   "metadata": {},
   "outputs": [
    {
     "data": {
      "text/html": [
       "<div>\n",
       "<style scoped>\n",
       "    .dataframe tbody tr th:only-of-type {\n",
       "        vertical-align: middle;\n",
       "    }\n",
       "\n",
       "    .dataframe tbody tr th {\n",
       "        vertical-align: top;\n",
       "    }\n",
       "\n",
       "    .dataframe thead th {\n",
       "        text-align: right;\n",
       "    }\n",
       "</style>\n",
       "<table border=\"1\" class=\"dataframe\">\n",
       "  <thead>\n",
       "    <tr style=\"text-align: right;\">\n",
       "      <th></th>\n",
       "      <th>A</th>\n",
       "      <th>C</th>\n",
       "    </tr>\n",
       "  </thead>\n",
       "  <tbody>\n",
       "    <tr>\n",
       "      <td>2020-06-22</td>\n",
       "      <td>-0.375397</td>\n",
       "      <td>0.635027</td>\n",
       "    </tr>\n",
       "    <tr>\n",
       "      <td>2020-06-29</td>\n",
       "      <td>0.489193</td>\n",
       "      <td>1.615958</td>\n",
       "    </tr>\n",
       "    <tr>\n",
       "      <td>2020-07-06</td>\n",
       "      <td>0.690150</td>\n",
       "      <td>0.363888</td>\n",
       "    </tr>\n",
       "    <tr>\n",
       "      <td>2020-07-13</td>\n",
       "      <td>-0.358573</td>\n",
       "      <td>0.865869</td>\n",
       "    </tr>\n",
       "    <tr>\n",
       "      <td>2020-07-20</td>\n",
       "      <td>-0.805582</td>\n",
       "      <td>2.099296</td>\n",
       "    </tr>\n",
       "  </tbody>\n",
       "</table>\n",
       "</div>"
      ],
      "text/plain": [
       "                   A         C\n",
       "2020-06-22 -0.375397  0.635027\n",
       "2020-06-29  0.489193  1.615958\n",
       "2020-07-06  0.690150  0.363888\n",
       "2020-07-13 -0.358573  0.865869\n",
       "2020-07-20 -0.805582  2.099296"
      ]
     },
     "execution_count": 19,
     "metadata": {},
     "output_type": "execute_result"
    }
   ],
   "source": [
    "#loc function is used when we know col names\n",
    "df1.loc[:,['A','C']].head()"
   ]
  },
  {
   "cell_type": "code",
   "execution_count": 20,
   "metadata": {},
   "outputs": [
    {
     "data": {
      "text/html": [
       "<div>\n",
       "<style scoped>\n",
       "    .dataframe tbody tr th:only-of-type {\n",
       "        vertical-align: middle;\n",
       "    }\n",
       "\n",
       "    .dataframe tbody tr th {\n",
       "        vertical-align: top;\n",
       "    }\n",
       "\n",
       "    .dataframe thead th {\n",
       "        text-align: right;\n",
       "    }\n",
       "</style>\n",
       "<table border=\"1\" class=\"dataframe\">\n",
       "  <thead>\n",
       "    <tr style=\"text-align: right;\">\n",
       "      <th></th>\n",
       "      <th>A</th>\n",
       "      <th>B</th>\n",
       "      <th>C</th>\n",
       "    </tr>\n",
       "  </thead>\n",
       "  <tbody>\n",
       "    <tr>\n",
       "      <td>2020-06-22</td>\n",
       "      <td>-0.375397</td>\n",
       "      <td>-2.415875</td>\n",
       "      <td>0.635027</td>\n",
       "    </tr>\n",
       "    <tr>\n",
       "      <td>2020-06-29</td>\n",
       "      <td>0.489193</td>\n",
       "      <td>1.028506</td>\n",
       "      <td>1.615958</td>\n",
       "    </tr>\n",
       "    <tr>\n",
       "      <td>2020-07-06</td>\n",
       "      <td>0.690150</td>\n",
       "      <td>-0.925103</td>\n",
       "      <td>0.363888</td>\n",
       "    </tr>\n",
       "    <tr>\n",
       "      <td>2020-07-13</td>\n",
       "      <td>-0.358573</td>\n",
       "      <td>-2.517298</td>\n",
       "      <td>0.865869</td>\n",
       "    </tr>\n",
       "    <tr>\n",
       "      <td>2020-07-20</td>\n",
       "      <td>-0.805582</td>\n",
       "      <td>-0.023050</td>\n",
       "      <td>2.099296</td>\n",
       "    </tr>\n",
       "    <tr>\n",
       "      <td>2020-07-27</td>\n",
       "      <td>0.256385</td>\n",
       "      <td>0.076932</td>\n",
       "      <td>0.576259</td>\n",
       "    </tr>\n",
       "    <tr>\n",
       "      <td>2020-08-03</td>\n",
       "      <td>1.392580</td>\n",
       "      <td>-1.814585</td>\n",
       "      <td>0.528952</td>\n",
       "    </tr>\n",
       "  </tbody>\n",
       "</table>\n",
       "</div>"
      ],
      "text/plain": [
       "                   A         B         C\n",
       "2020-06-22 -0.375397 -2.415875  0.635027\n",
       "2020-06-29  0.489193  1.028506  1.615958\n",
       "2020-07-06  0.690150 -0.925103  0.363888\n",
       "2020-07-13 -0.358573 -2.517298  0.865869\n",
       "2020-07-20 -0.805582 -0.023050  2.099296\n",
       "2020-07-27  0.256385  0.076932  0.576259\n",
       "2020-08-03  1.392580 -1.814585  0.528952"
      ]
     },
     "execution_count": 20,
     "metadata": {},
     "output_type": "execute_result"
    }
   ],
   "source": [
    "#iloc function used when we know the col numer postions\n",
    "df1.iloc[0:7,0:3]"
   ]
  },
  {
   "cell_type": "code",
   "execution_count": null,
   "metadata": {},
   "outputs": [],
   "source": []
  },
  {
   "cell_type": "code",
   "execution_count": 21,
   "metadata": {},
   "outputs": [
    {
     "name": "stdout",
     "output_type": "stream",
     "text": [
      "2020-06-22    False\n",
      "2020-06-29    False\n",
      "2020-07-06    False\n",
      "2020-07-13    False\n",
      "2020-07-20    False\n",
      "2020-07-27    False\n",
      "2020-08-03     True\n",
      "2020-08-10    False\n",
      "2020-08-17    False\n",
      "2020-08-24    False\n",
      "2020-08-31    False\n",
      "2020-09-07    False\n",
      "2020-09-14    False\n",
      "2020-09-21    False\n",
      "2020-09-28    False\n",
      "Freq: W-MON, Name: A, dtype: bool\n"
     ]
    },
    {
     "data": {
      "text/html": [
       "<div>\n",
       "<style scoped>\n",
       "    .dataframe tbody tr th:only-of-type {\n",
       "        vertical-align: middle;\n",
       "    }\n",
       "\n",
       "    .dataframe tbody tr th {\n",
       "        vertical-align: top;\n",
       "    }\n",
       "\n",
       "    .dataframe thead th {\n",
       "        text-align: right;\n",
       "    }\n",
       "</style>\n",
       "<table border=\"1\" class=\"dataframe\">\n",
       "  <thead>\n",
       "    <tr style=\"text-align: right;\">\n",
       "      <th></th>\n",
       "      <th>A</th>\n",
       "      <th>B</th>\n",
       "      <th>C</th>\n",
       "      <th>D</th>\n",
       "    </tr>\n",
       "  </thead>\n",
       "  <tbody>\n",
       "    <tr>\n",
       "      <td>2020-08-03</td>\n",
       "      <td>1.392580</td>\n",
       "      <td>-1.814585</td>\n",
       "      <td>0.528952</td>\n",
       "      <td>-0.450159</td>\n",
       "    </tr>\n",
       "    <tr>\n",
       "      <td>2020-08-10</td>\n",
       "      <td>1.166942</td>\n",
       "      <td>-0.096442</td>\n",
       "      <td>-0.583863</td>\n",
       "      <td>-2.013085</td>\n",
       "    </tr>\n",
       "    <tr>\n",
       "      <td>2020-09-21</td>\n",
       "      <td>1.097836</td>\n",
       "      <td>-2.843500</td>\n",
       "      <td>0.921609</td>\n",
       "      <td>0.388054</td>\n",
       "    </tr>\n",
       "  </tbody>\n",
       "</table>\n",
       "</div>"
      ],
      "text/plain": [
       "                   A         B         C         D\n",
       "2020-08-03  1.392580 -1.814585  0.528952 -0.450159\n",
       "2020-08-10  1.166942 -0.096442 -0.583863 -2.013085\n",
       "2020-09-21  1.097836 -2.843500  0.921609  0.388054"
      ]
     },
     "execution_count": 21,
     "metadata": {},
     "output_type": "execute_result"
    }
   ],
   "source": [
    "## the first function is printing the value for the rows which satisfies the conditions\n",
    "print(df1['A'] > 1.2)\n",
    "\n",
    "##this command uses the above argument as a filter\n",
    "df1[df1['A'] > 0.8]"
   ]
  },
  {
   "cell_type": "code",
   "execution_count": null,
   "metadata": {},
   "outputs": [],
   "source": []
  },
  {
   "cell_type": "markdown",
   "metadata": {},
   "source": [
    "##### Handiling Missing Data"
   ]
  },
  {
   "cell_type": "code",
   "execution_count": 22,
   "metadata": {},
   "outputs": [
    {
     "data": {
      "text/html": [
       "<div>\n",
       "<style scoped>\n",
       "    .dataframe tbody tr th:only-of-type {\n",
       "        vertical-align: middle;\n",
       "    }\n",
       "\n",
       "    .dataframe tbody tr th {\n",
       "        vertical-align: top;\n",
       "    }\n",
       "\n",
       "    .dataframe thead th {\n",
       "        text-align: right;\n",
       "    }\n",
       "</style>\n",
       "<table border=\"1\" class=\"dataframe\">\n",
       "  <thead>\n",
       "    <tr style=\"text-align: right;\">\n",
       "      <th></th>\n",
       "      <th>A</th>\n",
       "      <th>B</th>\n",
       "      <th>C</th>\n",
       "      <th>D</th>\n",
       "    </tr>\n",
       "  </thead>\n",
       "  <tbody>\n",
       "    <tr>\n",
       "      <td>2020-06-22</td>\n",
       "      <td>-0.375397</td>\n",
       "      <td>-2.415875</td>\n",
       "      <td>0.635027</td>\n",
       "      <td>-0.998366</td>\n",
       "    </tr>\n",
       "    <tr>\n",
       "      <td>2020-06-29</td>\n",
       "      <td>0.489193</td>\n",
       "      <td>1.028506</td>\n",
       "      <td>1.615958</td>\n",
       "      <td>1.080049</td>\n",
       "    </tr>\n",
       "    <tr>\n",
       "      <td>2020-07-06</td>\n",
       "      <td>0.690150</td>\n",
       "      <td>-0.925103</td>\n",
       "      <td>0.363888</td>\n",
       "      <td>-0.397817</td>\n",
       "    </tr>\n",
       "  </tbody>\n",
       "</table>\n",
       "</div>"
      ],
      "text/plain": [
       "                   A         B         C         D\n",
       "2020-06-22 -0.375397 -2.415875  0.635027 -0.998366\n",
       "2020-06-29  0.489193  1.028506  1.615958  1.080049\n",
       "2020-07-06  0.690150 -0.925103  0.363888 -0.397817"
      ]
     },
     "execution_count": 22,
     "metadata": {},
     "output_type": "execute_result"
    }
   ],
   "source": [
    "df1.head(3)"
   ]
  },
  {
   "cell_type": "code",
   "execution_count": null,
   "metadata": {},
   "outputs": [],
   "source": []
  },
  {
   "cell_type": "code",
   "execution_count": null,
   "metadata": {},
   "outputs": [],
   "source": []
  },
  {
   "cell_type": "code",
   "execution_count": 23,
   "metadata": {
    "scrolled": true
   },
   "outputs": [
    {
     "data": {
      "text/html": [
       "<div>\n",
       "<style scoped>\n",
       "    .dataframe tbody tr th:only-of-type {\n",
       "        vertical-align: middle;\n",
       "    }\n",
       "\n",
       "    .dataframe tbody tr th {\n",
       "        vertical-align: top;\n",
       "    }\n",
       "\n",
       "    .dataframe thead th {\n",
       "        text-align: right;\n",
       "    }\n",
       "</style>\n",
       "<table border=\"1\" class=\"dataframe\">\n",
       "  <thead>\n",
       "    <tr style=\"text-align: right;\">\n",
       "      <th></th>\n",
       "      <th>A</th>\n",
       "      <th>B</th>\n",
       "      <th>C</th>\n",
       "      <th>D</th>\n",
       "      <th>E</th>\n",
       "    </tr>\n",
       "  </thead>\n",
       "  <tbody>\n",
       "    <tr>\n",
       "      <td>2020-06-22</td>\n",
       "      <td>-0.375397</td>\n",
       "      <td>-2.415875</td>\n",
       "      <td>0.635027</td>\n",
       "      <td>-0.998366</td>\n",
       "      <td>NaN</td>\n",
       "    </tr>\n",
       "    <tr>\n",
       "      <td>2020-06-29</td>\n",
       "      <td>0.489193</td>\n",
       "      <td>1.028506</td>\n",
       "      <td>1.615958</td>\n",
       "      <td>1.080049</td>\n",
       "      <td>NaN</td>\n",
       "    </tr>\n",
       "    <tr>\n",
       "      <td>2020-07-06</td>\n",
       "      <td>0.690150</td>\n",
       "      <td>-0.925103</td>\n",
       "      <td>0.363888</td>\n",
       "      <td>-0.397817</td>\n",
       "      <td>NaN</td>\n",
       "    </tr>\n",
       "    <tr>\n",
       "      <td>2020-07-13</td>\n",
       "      <td>-0.358573</td>\n",
       "      <td>-2.517298</td>\n",
       "      <td>0.865869</td>\n",
       "      <td>1.696605</td>\n",
       "      <td>NaN</td>\n",
       "    </tr>\n",
       "  </tbody>\n",
       "</table>\n",
       "</div>"
      ],
      "text/plain": [
       "                   A         B         C         D   E\n",
       "2020-06-22 -0.375397 -2.415875  0.635027 -0.998366 NaN\n",
       "2020-06-29  0.489193  1.028506  1.615958  1.080049 NaN\n",
       "2020-07-06  0.690150 -0.925103  0.363888 -0.397817 NaN\n",
       "2020-07-13 -0.358573 -2.517298  0.865869  1.696605 NaN"
      ]
     },
     "execution_count": 23,
     "metadata": {},
     "output_type": "execute_result"
    }
   ],
   "source": [
    "d=df1.index\n",
    "df_4 = df1.reindex(index=d[0:4],columns=list(df1.columns)+['E'])\n",
    "#df_4 = df1.reindex(index=df1.index[0:4],columns=list(df1.columns)+['E'])\n",
    "df_4"
   ]
  },
  {
   "cell_type": "code",
   "execution_count": 24,
   "metadata": {},
   "outputs": [
    {
     "data": {
      "text/html": [
       "<div>\n",
       "<style scoped>\n",
       "    .dataframe tbody tr th:only-of-type {\n",
       "        vertical-align: middle;\n",
       "    }\n",
       "\n",
       "    .dataframe tbody tr th {\n",
       "        vertical-align: top;\n",
       "    }\n",
       "\n",
       "    .dataframe thead th {\n",
       "        text-align: right;\n",
       "    }\n",
       "</style>\n",
       "<table border=\"1\" class=\"dataframe\">\n",
       "  <thead>\n",
       "    <tr style=\"text-align: right;\">\n",
       "      <th></th>\n",
       "      <th>A</th>\n",
       "      <th>B</th>\n",
       "      <th>C</th>\n",
       "      <th>D</th>\n",
       "      <th>E</th>\n",
       "    </tr>\n",
       "  </thead>\n",
       "  <tbody>\n",
       "    <tr>\n",
       "      <td>2020-06-22</td>\n",
       "      <td>-0.375397</td>\n",
       "      <td>-2.415875</td>\n",
       "      <td>0.635027</td>\n",
       "      <td>-0.998366</td>\n",
       "      <td>0.7</td>\n",
       "    </tr>\n",
       "    <tr>\n",
       "      <td>2020-06-29</td>\n",
       "      <td>0.489193</td>\n",
       "      <td>1.028506</td>\n",
       "      <td>1.615958</td>\n",
       "      <td>1.080049</td>\n",
       "      <td>1.6</td>\n",
       "    </tr>\n",
       "    <tr>\n",
       "      <td>2020-07-06</td>\n",
       "      <td>0.690150</td>\n",
       "      <td>-0.925103</td>\n",
       "      <td>0.363888</td>\n",
       "      <td>-0.397817</td>\n",
       "      <td>NaN</td>\n",
       "    </tr>\n",
       "    <tr>\n",
       "      <td>2020-07-13</td>\n",
       "      <td>-0.358573</td>\n",
       "      <td>-2.517298</td>\n",
       "      <td>0.865869</td>\n",
       "      <td>1.696605</td>\n",
       "      <td>NaN</td>\n",
       "    </tr>\n",
       "  </tbody>\n",
       "</table>\n",
       "</div>"
      ],
      "text/plain": [
       "                   A         B         C         D    E\n",
       "2020-06-22 -0.375397 -2.415875  0.635027 -0.998366  0.7\n",
       "2020-06-29  0.489193  1.028506  1.615958  1.080049  1.6\n",
       "2020-07-06  0.690150 -0.925103  0.363888 -0.397817  NaN\n",
       "2020-07-13 -0.358573 -2.517298  0.865869  1.696605  NaN"
      ]
     },
     "execution_count": 24,
     "metadata": {},
     "output_type": "execute_result"
    }
   ],
   "source": [
    "#df_4.loc[d[0:2],'E']=1.2\n",
    "df_4.iloc[1,4]=1.6\n",
    "df_4.iloc[0,4]=0.7\n",
    "df_4"
   ]
  },
  {
   "cell_type": "code",
   "execution_count": 25,
   "metadata": {},
   "outputs": [
    {
     "data": {
      "text/html": [
       "<div>\n",
       "<style scoped>\n",
       "    .dataframe tbody tr th:only-of-type {\n",
       "        vertical-align: middle;\n",
       "    }\n",
       "\n",
       "    .dataframe tbody tr th {\n",
       "        vertical-align: top;\n",
       "    }\n",
       "\n",
       "    .dataframe thead th {\n",
       "        text-align: right;\n",
       "    }\n",
       "</style>\n",
       "<table border=\"1\" class=\"dataframe\">\n",
       "  <thead>\n",
       "    <tr style=\"text-align: right;\">\n",
       "      <th></th>\n",
       "      <th>A</th>\n",
       "      <th>B</th>\n",
       "      <th>C</th>\n",
       "      <th>D</th>\n",
       "      <th>E</th>\n",
       "    </tr>\n",
       "  </thead>\n",
       "  <tbody>\n",
       "    <tr>\n",
       "      <td>2020-06-22</td>\n",
       "      <td>False</td>\n",
       "      <td>False</td>\n",
       "      <td>False</td>\n",
       "      <td>False</td>\n",
       "      <td>False</td>\n",
       "    </tr>\n",
       "    <tr>\n",
       "      <td>2020-06-29</td>\n",
       "      <td>False</td>\n",
       "      <td>False</td>\n",
       "      <td>False</td>\n",
       "      <td>False</td>\n",
       "      <td>False</td>\n",
       "    </tr>\n",
       "    <tr>\n",
       "      <td>2020-07-06</td>\n",
       "      <td>False</td>\n",
       "      <td>False</td>\n",
       "      <td>False</td>\n",
       "      <td>False</td>\n",
       "      <td>True</td>\n",
       "    </tr>\n",
       "    <tr>\n",
       "      <td>2020-07-13</td>\n",
       "      <td>False</td>\n",
       "      <td>False</td>\n",
       "      <td>False</td>\n",
       "      <td>False</td>\n",
       "      <td>True</td>\n",
       "    </tr>\n",
       "  </tbody>\n",
       "</table>\n",
       "</div>"
      ],
      "text/plain": [
       "                A      B      C      D      E\n",
       "2020-06-22  False  False  False  False  False\n",
       "2020-06-29  False  False  False  False  False\n",
       "2020-07-06  False  False  False  False   True\n",
       "2020-07-13  False  False  False  False   True"
      ]
     },
     "execution_count": 25,
     "metadata": {},
     "output_type": "execute_result"
    }
   ],
   "source": [
    "df_4.isnull()"
   ]
  },
  {
   "cell_type": "code",
   "execution_count": 26,
   "metadata": {},
   "outputs": [
    {
     "data": {
      "text/plain": [
       "A    0\n",
       "B    0\n",
       "C    0\n",
       "D    0\n",
       "E    2\n",
       "dtype: int64"
      ]
     },
     "execution_count": 26,
     "metadata": {},
     "output_type": "execute_result"
    }
   ],
   "source": [
    "df_4.isnull().sum()"
   ]
  },
  {
   "cell_type": "code",
   "execution_count": 27,
   "metadata": {},
   "outputs": [
    {
     "name": "stdout",
     "output_type": "stream",
     "text": [
      "                   A         B         C         D    E\n",
      "2020-06-22 -0.375397 -2.415875  0.635027 -0.998366  0.7\n",
      "2020-06-29  0.489193  1.028506  1.615958  1.080049  1.6\n"
     ]
    },
    {
     "data": {
      "text/html": [
       "<div>\n",
       "<style scoped>\n",
       "    .dataframe tbody tr th:only-of-type {\n",
       "        vertical-align: middle;\n",
       "    }\n",
       "\n",
       "    .dataframe tbody tr th {\n",
       "        vertical-align: top;\n",
       "    }\n",
       "\n",
       "    .dataframe thead th {\n",
       "        text-align: right;\n",
       "    }\n",
       "</style>\n",
       "<table border=\"1\" class=\"dataframe\">\n",
       "  <thead>\n",
       "    <tr style=\"text-align: right;\">\n",
       "      <th></th>\n",
       "      <th>A</th>\n",
       "      <th>B</th>\n",
       "      <th>C</th>\n",
       "      <th>D</th>\n",
       "      <th>E</th>\n",
       "    </tr>\n",
       "  </thead>\n",
       "  <tbody>\n",
       "    <tr>\n",
       "      <td>2020-06-22</td>\n",
       "      <td>-0.375397</td>\n",
       "      <td>-2.415875</td>\n",
       "      <td>0.635027</td>\n",
       "      <td>-0.998366</td>\n",
       "      <td>0.7</td>\n",
       "    </tr>\n",
       "    <tr>\n",
       "      <td>2020-06-29</td>\n",
       "      <td>0.489193</td>\n",
       "      <td>1.028506</td>\n",
       "      <td>1.615958</td>\n",
       "      <td>1.080049</td>\n",
       "      <td>1.6</td>\n",
       "    </tr>\n",
       "    <tr>\n",
       "      <td>2020-07-06</td>\n",
       "      <td>0.690150</td>\n",
       "      <td>-0.925103</td>\n",
       "      <td>0.363888</td>\n",
       "      <td>-0.397817</td>\n",
       "      <td>NaN</td>\n",
       "    </tr>\n",
       "    <tr>\n",
       "      <td>2020-07-13</td>\n",
       "      <td>-0.358573</td>\n",
       "      <td>-2.517298</td>\n",
       "      <td>0.865869</td>\n",
       "      <td>1.696605</td>\n",
       "      <td>NaN</td>\n",
       "    </tr>\n",
       "  </tbody>\n",
       "</table>\n",
       "</div>"
      ],
      "text/plain": [
       "                   A         B         C         D    E\n",
       "2020-06-22 -0.375397 -2.415875  0.635027 -0.998366  0.7\n",
       "2020-06-29  0.489193  1.028506  1.615958  1.080049  1.6\n",
       "2020-07-06  0.690150 -0.925103  0.363888 -0.397817  NaN\n",
       "2020-07-13 -0.358573 -2.517298  0.865869  1.696605  NaN"
      ]
     },
     "execution_count": 27,
     "metadata": {},
     "output_type": "execute_result"
    }
   ],
   "source": [
    "#to remove the nulls\n",
    "\n",
    "print(df_4.dropna())\n",
    "df_4\n",
    "\n",
    "#df_4.dropna(inplace=True)"
   ]
  },
  {
   "cell_type": "code",
   "execution_count": 28,
   "metadata": {},
   "outputs": [
    {
     "name": "stdout",
     "output_type": "stream",
     "text": [
      "2020-06-22                                                  0.7\n",
      "2020-06-29                                                  1.6\n",
      "2020-07-06    <bound method Series.mean of 2020-06-22    0.7...\n",
      "2020-07-13    <bound method Series.mean of 2020-06-22    0.7...\n",
      "Freq: W-MON, Name: E, dtype: object\n"
     ]
    },
    {
     "data": {
      "text/html": [
       "<div>\n",
       "<style scoped>\n",
       "    .dataframe tbody tr th:only-of-type {\n",
       "        vertical-align: middle;\n",
       "    }\n",
       "\n",
       "    .dataframe tbody tr th {\n",
       "        vertical-align: top;\n",
       "    }\n",
       "\n",
       "    .dataframe thead th {\n",
       "        text-align: right;\n",
       "    }\n",
       "</style>\n",
       "<table border=\"1\" class=\"dataframe\">\n",
       "  <thead>\n",
       "    <tr style=\"text-align: right;\">\n",
       "      <th></th>\n",
       "      <th>A</th>\n",
       "      <th>B</th>\n",
       "      <th>C</th>\n",
       "      <th>D</th>\n",
       "      <th>E</th>\n",
       "    </tr>\n",
       "  </thead>\n",
       "  <tbody>\n",
       "    <tr>\n",
       "      <td>2020-06-22</td>\n",
       "      <td>-0.375397</td>\n",
       "      <td>-2.415875</td>\n",
       "      <td>0.635027</td>\n",
       "      <td>-0.998366</td>\n",
       "      <td>0.7</td>\n",
       "    </tr>\n",
       "    <tr>\n",
       "      <td>2020-06-29</td>\n",
       "      <td>0.489193</td>\n",
       "      <td>1.028506</td>\n",
       "      <td>1.615958</td>\n",
       "      <td>1.080049</td>\n",
       "      <td>1.6</td>\n",
       "    </tr>\n",
       "    <tr>\n",
       "      <td>2020-07-06</td>\n",
       "      <td>0.690150</td>\n",
       "      <td>-0.925103</td>\n",
       "      <td>0.363888</td>\n",
       "      <td>-0.397817</td>\n",
       "      <td>NaN</td>\n",
       "    </tr>\n",
       "    <tr>\n",
       "      <td>2020-07-13</td>\n",
       "      <td>-0.358573</td>\n",
       "      <td>-2.517298</td>\n",
       "      <td>0.865869</td>\n",
       "      <td>1.696605</td>\n",
       "      <td>NaN</td>\n",
       "    </tr>\n",
       "  </tbody>\n",
       "</table>\n",
       "</div>"
      ],
      "text/plain": [
       "                   A         B         C         D    E\n",
       "2020-06-22 -0.375397 -2.415875  0.635027 -0.998366  0.7\n",
       "2020-06-29  0.489193  1.028506  1.615958  1.080049  1.6\n",
       "2020-07-06  0.690150 -0.925103  0.363888 -0.397817  NaN\n",
       "2020-07-13 -0.358573 -2.517298  0.865869  1.696605  NaN"
      ]
     },
     "execution_count": 28,
     "metadata": {},
     "output_type": "execute_result"
    }
   ],
   "source": [
    "print(df_4['E'].fillna(df_4['E'].mean))\n",
    "#df_4.fillna(df_4['E'].mean)\n",
    "df_4"
   ]
  },
  {
   "cell_type": "code",
   "execution_count": 29,
   "metadata": {},
   "outputs": [
    {
     "data": {
      "text/html": [
       "<div>\n",
       "<style scoped>\n",
       "    .dataframe tbody tr th:only-of-type {\n",
       "        vertical-align: middle;\n",
       "    }\n",
       "\n",
       "    .dataframe tbody tr th {\n",
       "        vertical-align: top;\n",
       "    }\n",
       "\n",
       "    .dataframe thead th {\n",
       "        text-align: right;\n",
       "    }\n",
       "</style>\n",
       "<table border=\"1\" class=\"dataframe\">\n",
       "  <thead>\n",
       "    <tr style=\"text-align: right;\">\n",
       "      <th></th>\n",
       "      <th>A</th>\n",
       "      <th>B</th>\n",
       "      <th>C</th>\n",
       "      <th>D</th>\n",
       "      <th>E</th>\n",
       "    </tr>\n",
       "  </thead>\n",
       "  <tbody>\n",
       "    <tr>\n",
       "      <td>2020-06-22</td>\n",
       "      <td>-0.375397</td>\n",
       "      <td>-2.415875</td>\n",
       "      <td>0.635027</td>\n",
       "      <td>-0.998366</td>\n",
       "      <td>-0.375397</td>\n",
       "    </tr>\n",
       "    <tr>\n",
       "      <td>2020-06-29</td>\n",
       "      <td>0.489193</td>\n",
       "      <td>1.028506</td>\n",
       "      <td>1.615958</td>\n",
       "      <td>1.080049</td>\n",
       "      <td>0.489193</td>\n",
       "    </tr>\n",
       "    <tr>\n",
       "      <td>2020-07-06</td>\n",
       "      <td>0.690150</td>\n",
       "      <td>-0.925103</td>\n",
       "      <td>0.363888</td>\n",
       "      <td>-0.397817</td>\n",
       "      <td>0.69015</td>\n",
       "    </tr>\n",
       "    <tr>\n",
       "      <td>2020-07-13</td>\n",
       "      <td>-0.358573</td>\n",
       "      <td>-2.517298</td>\n",
       "      <td>0.865869</td>\n",
       "      <td>1.696605</td>\n",
       "      <td>-0.358573</td>\n",
       "    </tr>\n",
       "  </tbody>\n",
       "</table>\n",
       "</div>"
      ],
      "text/plain": [
       "                   A         B         C         D         E\n",
       "2020-06-22 -0.375397 -2.415875  0.635027 -0.998366 -0.375397\n",
       "2020-06-29  0.489193  1.028506  1.615958  1.080049  0.489193\n",
       "2020-07-06  0.690150 -0.925103  0.363888 -0.397817   0.69015\n",
       "2020-07-13 -0.358573 -2.517298  0.865869  1.696605 -0.358573"
      ]
     },
     "execution_count": 29,
     "metadata": {},
     "output_type": "execute_result"
    }
   ],
   "source": [
    "#under investigation\n",
    "#df_4['E']=df_4.fillna(df_4['E'].mean)\n",
    "df_4"
   ]
  },
  {
   "cell_type": "markdown",
   "metadata": {},
   "source": [
    "Refferenc \t\n",
    "    20) Replacing NAN/Null values with data\n",
    "\ttrain.loc[pd.isnull(train['Outlet_Size']),['Outlet_Size']] = 'Medium'\n",
    "train.loc[pd.isna(train.Outlet_Size),['Outlet_Size']] = \"Small\""
   ]
  },
  {
   "cell_type": "code",
   "execution_count": null,
   "metadata": {},
   "outputs": [],
   "source": []
  },
  {
   "cell_type": "code",
   "execution_count": null,
   "metadata": {},
   "outputs": [],
   "source": []
  },
  {
   "cell_type": "code",
   "execution_count": null,
   "metadata": {},
   "outputs": [],
   "source": []
  },
  {
   "cell_type": "code",
   "execution_count": null,
   "metadata": {},
   "outputs": [],
   "source": []
  },
  {
   "cell_type": "code",
   "execution_count": null,
   "metadata": {},
   "outputs": [],
   "source": []
  },
  {
   "cell_type": "code",
   "execution_count": null,
   "metadata": {},
   "outputs": [],
   "source": []
  },
  {
   "cell_type": "code",
   "execution_count": null,
   "metadata": {},
   "outputs": [],
   "source": []
  },
  {
   "cell_type": "code",
   "execution_count": null,
   "metadata": {},
   "outputs": [],
   "source": []
  },
  {
   "cell_type": "code",
   "execution_count": null,
   "metadata": {},
   "outputs": [],
   "source": []
  },
  {
   "cell_type": "code",
   "execution_count": null,
   "metadata": {},
   "outputs": [],
   "source": []
  },
  {
   "cell_type": "code",
   "execution_count": null,
   "metadata": {},
   "outputs": [],
   "source": []
  },
  {
   "cell_type": "code",
   "execution_count": null,
   "metadata": {},
   "outputs": [],
   "source": []
  },
  {
   "cell_type": "code",
   "execution_count": null,
   "metadata": {},
   "outputs": [],
   "source": []
  },
  {
   "cell_type": "code",
   "execution_count": null,
   "metadata": {},
   "outputs": [],
   "source": []
  },
  {
   "cell_type": "code",
   "execution_count": null,
   "metadata": {},
   "outputs": [],
   "source": []
  },
  {
   "cell_type": "code",
   "execution_count": null,
   "metadata": {},
   "outputs": [],
   "source": []
  },
  {
   "cell_type": "code",
   "execution_count": null,
   "metadata": {},
   "outputs": [],
   "source": []
  },
  {
   "cell_type": "code",
   "execution_count": null,
   "metadata": {},
   "outputs": [],
   "source": []
  },
  {
   "cell_type": "code",
   "execution_count": null,
   "metadata": {},
   "outputs": [],
   "source": []
  },
  {
   "cell_type": "code",
   "execution_count": null,
   "metadata": {},
   "outputs": [],
   "source": []
  },
  {
   "cell_type": "code",
   "execution_count": null,
   "metadata": {},
   "outputs": [],
   "source": []
  },
  {
   "cell_type": "code",
   "execution_count": null,
   "metadata": {},
   "outputs": [],
   "source": []
  },
  {
   "cell_type": "code",
   "execution_count": null,
   "metadata": {},
   "outputs": [],
   "source": []
  },
  {
   "cell_type": "code",
   "execution_count": null,
   "metadata": {},
   "outputs": [],
   "source": []
  },
  {
   "cell_type": "code",
   "execution_count": null,
   "metadata": {},
   "outputs": [],
   "source": []
  }
 ],
 "metadata": {
  "kernelspec": {
   "display_name": "Python 3",
   "language": "python",
   "name": "python3"
  },
  "language_info": {
   "codemirror_mode": {
    "name": "ipython",
    "version": 3
   },
   "file_extension": ".py",
   "mimetype": "text/x-python",
   "name": "python",
   "nbconvert_exporter": "python",
   "pygments_lexer": "ipython3",
   "version": "3.7.4"
  }
 },
 "nbformat": 4,
 "nbformat_minor": 2
}
