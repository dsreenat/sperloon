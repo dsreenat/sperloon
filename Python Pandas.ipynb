{
 "cells": [
  {
   "cell_type": "markdown",
   "metadata": {},
   "source": [
    "# Python Package : Pandas"
   ]
  },
  {
   "cell_type": "code",
   "execution_count": null,
   "metadata": {},
   "outputs": [],
   "source": []
  },
  {
   "cell_type": "code",
   "execution_count": 1,
   "metadata": {},
   "outputs": [],
   "source": [
    "#Importing Packages\n",
    "import numpy as np\n",
    "import pandas as pd"
   ]
  },
  {
   "cell_type": "code",
   "execution_count": null,
   "metadata": {},
   "outputs": [],
   "source": []
  },
  {
   "cell_type": "markdown",
   "metadata": {},
   "source": [
    "#### Pandas Seies"
   ]
  },
  {
   "cell_type": "markdown",
   "metadata": {},
   "source": [
    "#### More about pandas series here \n",
    "https://pandas.pydata.org/pandas-docs/stable/reference/api/pandas.Series.html?highlight=series#pandas.Series\n",
    "    "
   ]
  },
  {
   "cell_type": "code",
   "execution_count": 13,
   "metadata": {},
   "outputs": [
    {
     "name": "stdout",
     "output_type": "stream",
     "text": [
      "<class 'pandas.core.series.Series'>\n"
     ]
    },
    {
     "data": {
      "text/plain": [
       "0    1\n",
       "1    2\n",
       "2    3\n",
       "3    4\n",
       "4    5\n",
       "5    6\n",
       "dtype: int64"
      ]
     },
     "execution_count": 13,
     "metadata": {},
     "output_type": "execute_result"
    }
   ],
   "source": [
    "#creating a pandas serires\n",
    "pds = pd.Series([1,2,3,4,5,6])\n",
    "print(type(pds))\n",
    "pds"
   ]
  },
  {
   "cell_type": "code",
   "execution_count": 21,
   "metadata": {},
   "outputs": [],
   "source": [
    "#creating a pandas serires\n",
    "pds_1 = pd.Series([1,2,3,4,5,6,np.nan])\n"
   ]
  },
  {
   "cell_type": "code",
   "execution_count": 44,
   "metadata": {},
   "outputs": [
    {
     "name": "stdout",
     "output_type": "stream",
     "text": [
      "RangeIndex(start=0, stop=7, step=1)\n",
      "2nd Location using iloc  3.0\n",
      "2nd Location  3.0\n",
      "Shape of the series  (7,)\n",
      "Size of the series  7\n"
     ]
    }
   ],
   "source": [
    "#retriving the index of the serires,\n",
    "print(pds_1.index)\n",
    "\n",
    "#iloc used to select an element based on its location\n",
    "print(\"2nd Location using iloc \",pds_1.iloc[2])\n",
    "\n",
    "#alternate option\n",
    "print(\"2nd Location \",pds_1[2])\n",
    "\n",
    "#shape of the series\n",
    "print(\"Shape of the series \",pds_1.shape)\n",
    "\n",
    "#size of the series\n",
    "print(\"Size of the series \",pds_1.size)"
   ]
  },
  {
   "cell_type": "markdown",
   "metadata": {},
   "source": [
    "#### Date Range"
   ]
  },
  {
   "cell_type": "code",
   "execution_count": 19,
   "metadata": {},
   "outputs": [
    {
     "data": {
      "text/plain": [
       "DatetimeIndex(['2020-06-22', '2020-06-29', '2020-07-06', '2020-07-13',\n",
       "               '2020-07-20', '2020-07-27', '2020-08-03'],\n",
       "              dtype='datetime64[ns]', freq='W-MON')"
      ]
     },
     "execution_count": 19,
     "metadata": {},
     "output_type": "execute_result"
    }
   ],
   "source": [
    "#creating a datarange, here the starting date is given and how many sequence more is required. (periods=7)\n",
    "pd_dates = pd.date_range('20200617',periods=7, freq='W-MON') \n",
    "pd_dates"
   ]
  },
  {
   "cell_type": "markdown",
   "metadata": {},
   "source": [
    "More about this command and its optional functions <br>\n",
    "https://pandas.pydata.org/pandas-docs/stable/reference/api/pandas.date_range.html <br>\n",
    "https://pandas.pydata.org/pandas-docs/stable/user_guide/timeseries.html#timeseries-offset-aliases"
   ]
  },
  {
   "cell_type": "code",
   "execution_count": null,
   "metadata": {},
   "outputs": [],
   "source": []
  },
  {
   "cell_type": "code",
   "execution_count": 50,
   "metadata": {},
   "outputs": [
    {
     "name": "stdout",
     "output_type": "stream",
     "text": [
      "                   A         B         C         D\n",
      "2020-06-22 -1.673489  2.396230 -0.264467 -0.332857\n",
      "2020-06-29 -0.985818 -1.148629  0.708260 -0.604694\n",
      "2020-07-06  0.732387  1.593619 -1.123013  0.068043\n",
      "2020-07-13 -0.108881  0.845704  1.798759  1.872115\n",
      "2020-07-20 -0.537952 -0.435917 -2.110606 -1.570541\n",
      "2020-07-27  0.828437  0.304024  0.678605  0.438846\n",
      "2020-08-03  1.965351  0.626829 -1.094601 -0.101592\n",
      "\n",
      "\n",
      "             A   B   C   D\n",
      "2020-06-22  13  40   4  13\n",
      "2020-06-29  44  13   9  35\n",
      "2020-07-06  41  21  18  23\n",
      "2020-07-13  14  28  27  37\n",
      "2020-07-20   5  37  38  21\n",
      "2020-07-27   5  35  28  32\n",
      "2020-08-03   3  33  21  40\n"
     ]
    }
   ],
   "source": [
    "df1 =pd.DataFrame(np.random.randn(7,4),index=pd_dates,columns=[\"A\",\"B\",\"C\",\"D\"])\n",
    "df2 =pd.DataFrame(np.random.randint(1,45,size=(7,4)),index=pd_dates,columns=[\"A\",\"B\",\"C\",\"D\"])\n",
    "\n",
    "print(df1)\n",
    "print(\"\\n\")\n",
    "print(df2)"
   ]
  },
  {
   "cell_type": "code",
   "execution_count": null,
   "metadata": {},
   "outputs": [],
   "source": []
  },
  {
   "cell_type": "code",
   "execution_count": null,
   "metadata": {},
   "outputs": [],
   "source": []
  }
 ],
 "metadata": {
  "kernelspec": {
   "display_name": "Python 3",
   "language": "python",
   "name": "python3"
  },
  "language_info": {
   "codemirror_mode": {
    "name": "ipython",
    "version": 3
   },
   "file_extension": ".py",
   "mimetype": "text/x-python",
   "name": "python",
   "nbconvert_exporter": "python",
   "pygments_lexer": "ipython3",
   "version": "3.7.4"
  }
 },
 "nbformat": 4,
 "nbformat_minor": 2
}
