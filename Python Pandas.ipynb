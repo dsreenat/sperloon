{
 "cells": [
  {
   "cell_type": "markdown",
   "metadata": {},
   "source": [
    "# Python Package : Pandas  --> incomplete/Ongoing"
   ]
  },
  {
   "cell_type": "code",
   "execution_count": null,
   "metadata": {},
   "outputs": [],
   "source": []
  },
  {
   "cell_type": "code",
   "execution_count": 1,
   "metadata": {},
   "outputs": [],
   "source": [
    "#Importing Packages\n",
    "import numpy as np\n",
    "import pandas as pd"
   ]
  },
  {
   "cell_type": "code",
   "execution_count": null,
   "metadata": {},
   "outputs": [],
   "source": []
  },
  {
   "cell_type": "markdown",
   "metadata": {},
   "source": [
    "#### Pandas Seies"
   ]
  },
  {
   "cell_type": "markdown",
   "metadata": {},
   "source": [
    "#### More about pandas series here \n",
    "https://pandas.pydata.org/pandas-docs/stable/reference/api/pandas.Series.html?highlight=series#pandas.Series\n",
    "    "
   ]
  },
  {
   "cell_type": "code",
   "execution_count": 2,
   "metadata": {},
   "outputs": [
    {
     "name": "stdout",
     "output_type": "stream",
     "text": [
      "<class 'pandas.core.series.Series'>\n"
     ]
    },
    {
     "data": {
      "text/plain": [
       "0    1\n",
       "1    2\n",
       "2    3\n",
       "3    4\n",
       "4    5\n",
       "5    6\n",
       "dtype: int64"
      ]
     },
     "execution_count": 2,
     "metadata": {},
     "output_type": "execute_result"
    }
   ],
   "source": [
    "#creating a pandas serires\n",
    "pds = pd.Series([1,2,3,4,5,6])\n",
    "print(type(pds))\n",
    "pds"
   ]
  },
  {
   "cell_type": "code",
   "execution_count": 3,
   "metadata": {},
   "outputs": [
    {
     "data": {
      "text/plain": [
       "0    1.0\n",
       "1    2.0\n",
       "2    3.0\n",
       "3    4.0\n",
       "4    5.0\n",
       "5    6.0\n",
       "6    NaN\n",
       "dtype: float64"
      ]
     },
     "execution_count": 3,
     "metadata": {},
     "output_type": "execute_result"
    }
   ],
   "source": [
    "#creating a pandas serires\n",
    "pds_1 = pd.Series([1,2,3,4,5,6,np.nan])\n",
    "pds_1"
   ]
  },
  {
   "cell_type": "code",
   "execution_count": 4,
   "metadata": {},
   "outputs": [
    {
     "name": "stdout",
     "output_type": "stream",
     "text": [
      "RangeIndex(start=0, stop=7, step=1)\n",
      "2nd Location using iloc  3.0\n",
      "2nd Location  3.0\n",
      "Shape of the series  (7,)\n",
      "Size of the series  7\n"
     ]
    }
   ],
   "source": [
    "#retriving the index of the serires,\n",
    "print(pds_1.index)\n",
    "\n",
    "#iloc used to select an element based on its location\n",
    "print(\"2nd Location using iloc \",pds_1.iloc[2])\n",
    "\n",
    "#alternate option\n",
    "print(\"2nd Location \",pds_1[2])\n",
    "\n",
    "#shape of the series\n",
    "print(\"Shape of the series \",pds_1.shape)\n",
    "\n",
    "#size of the series\n",
    "print(\"Size of the series \",pds_1.size)"
   ]
  },
  {
   "cell_type": "markdown",
   "metadata": {},
   "source": [
    "#### Date Range"
   ]
  },
  {
   "cell_type": "code",
   "execution_count": 5,
   "metadata": {},
   "outputs": [
    {
     "data": {
      "text/plain": [
       "DatetimeIndex(['2020-06-22', '2020-06-29', '2020-07-06', '2020-07-13',\n",
       "               '2020-07-20', '2020-07-27', '2020-08-03'],\n",
       "              dtype='datetime64[ns]', freq='W-MON')"
      ]
     },
     "execution_count": 5,
     "metadata": {},
     "output_type": "execute_result"
    }
   ],
   "source": [
    "#creating a datarange, here the starting date is given and how many sequence more is required. (periods=7)\n",
    "pd_dates = pd.date_range('20200617',periods=7, freq='W-MON') \n",
    "pd_dates"
   ]
  },
  {
   "cell_type": "markdown",
   "metadata": {},
   "source": [
    "More about this command and its optional functions <br>\n",
    "https://pandas.pydata.org/pandas-docs/stable/reference/api/pandas.date_range.html <br>\n",
    "https://pandas.pydata.org/pandas-docs/stable/user_guide/timeseries.html#timeseries-offset-aliases"
   ]
  },
  {
   "cell_type": "code",
   "execution_count": null,
   "metadata": {},
   "outputs": [],
   "source": []
  },
  {
   "cell_type": "code",
   "execution_count": 6,
   "metadata": {},
   "outputs": [
    {
     "name": "stdout",
     "output_type": "stream",
     "text": [
      "                   A         B         C         D\n",
      "2020-06-22 -1.658151  1.190667 -0.910104  0.591804\n",
      "2020-06-29 -0.016784 -0.439309 -1.450324 -0.285418\n",
      "2020-07-06  0.067929 -0.002301 -2.202311  0.992971\n",
      "2020-07-13  0.926093 -0.041955 -0.436063 -0.910181\n",
      "2020-07-20  1.938488 -0.192488  2.131447 -0.965367\n",
      "2020-07-27 -0.788416  0.981249 -0.080653  0.219150\n",
      "2020-08-03  1.259946  0.002680  0.203290  0.209012\n",
      "\n",
      "\n",
      "             A   B   C   D\n",
      "2020-06-22   4  13  10  13\n",
      "2020-06-29  24  35  19  21\n",
      "2020-07-06   2  17   3  26\n",
      "2020-07-13  34  13  29  32\n",
      "2020-07-20  26  24   7  18\n",
      "2020-07-27  10  32  24  29\n",
      "2020-08-03  29  37  26  27\n"
     ]
    }
   ],
   "source": [
    "df1 =pd.DataFrame(np.random.randn(7,4),index=pd_dates,columns=[\"A\",\"B\",\"C\",\"D\"])\n",
    "df2 =pd.DataFrame(np.random.randint(1,45,size=(7,4)),index=pd_dates,columns=[\"A\",\"B\",\"C\",\"D\"])\n",
    "\n",
    "print(df1)\n",
    "print(\"\\n\")\n",
    "print(df2)"
   ]
  },
  {
   "cell_type": "code",
   "execution_count": null,
   "metadata": {},
   "outputs": [],
   "source": []
  },
  {
   "cell_type": "code",
   "execution_count": 10,
   "metadata": {},
   "outputs": [
    {
     "data": {
      "text/html": [
       "<div>\n",
       "<style scoped>\n",
       "    .dataframe tbody tr th:only-of-type {\n",
       "        vertical-align: middle;\n",
       "    }\n",
       "\n",
       "    .dataframe tbody tr th {\n",
       "        vertical-align: top;\n",
       "    }\n",
       "\n",
       "    .dataframe thead th {\n",
       "        text-align: right;\n",
       "    }\n",
       "</style>\n",
       "<table border=\"1\" class=\"dataframe\">\n",
       "  <thead>\n",
       "    <tr style=\"text-align: right;\">\n",
       "      <th></th>\n",
       "      <th>A</th>\n",
       "      <th>B</th>\n",
       "      <th>C</th>\n",
       "      <th>D</th>\n",
       "      <th>E</th>\n",
       "      <th>F</th>\n",
       "    </tr>\n",
       "  </thead>\n",
       "  <tbody>\n",
       "    <tr>\n",
       "      <td>0</td>\n",
       "      <td>1</td>\n",
       "      <td>2020-06-18</td>\n",
       "      <td>1.0</td>\n",
       "      <td>5</td>\n",
       "      <td>True</td>\n",
       "      <td>Pandas</td>\n",
       "    </tr>\n",
       "    <tr>\n",
       "      <td>1</td>\n",
       "      <td>2</td>\n",
       "      <td>2020-06-18</td>\n",
       "      <td>1.0</td>\n",
       "      <td>5</td>\n",
       "      <td>False</td>\n",
       "      <td>Pandas</td>\n",
       "    </tr>\n",
       "    <tr>\n",
       "      <td>2</td>\n",
       "      <td>3</td>\n",
       "      <td>2020-06-18</td>\n",
       "      <td>1.0</td>\n",
       "      <td>5</td>\n",
       "      <td>True</td>\n",
       "      <td>Pandas</td>\n",
       "    </tr>\n",
       "    <tr>\n",
       "      <td>3</td>\n",
       "      <td>4</td>\n",
       "      <td>2020-06-18</td>\n",
       "      <td>1.0</td>\n",
       "      <td>5</td>\n",
       "      <td>True</td>\n",
       "      <td>Pandas</td>\n",
       "    </tr>\n",
       "  </tbody>\n",
       "</table>\n",
       "</div>"
      ],
      "text/plain": [
       "   A          B    C  D      E       F\n",
       "0  1 2020-06-18  1.0  5   True  Pandas\n",
       "1  2 2020-06-18  1.0  5  False  Pandas\n",
       "2  3 2020-06-18  1.0  5   True  Pandas\n",
       "3  4 2020-06-18  1.0  5   True  Pandas"
      ]
     },
     "execution_count": 10,
     "metadata": {},
     "output_type": "execute_result"
    }
   ],
   "source": [
    "#Creating a data frame from a dictionary\n",
    "df_3 = pd.DataFrame({ 'A' : [1,2,3,4],\n",
    "                      'B' : pd.Timestamp('20200618'),\n",
    "                      'C' : pd.Series(1,index=list(range(4)),dtype=\"float32\"),\n",
    "                      'D' : np.array([5]*4,dtype='int32'),\n",
    "                      'E' : pd.Categorical(['True','False','True','True']),\n",
    "                      'F' : 'Pandas'})\n",
    "\n",
    "df_3"
   ]
  }
 ],
 "metadata": {
  "kernelspec": {
   "display_name": "Python 3",
   "language": "python",
   "name": "python3"
  },
  "language_info": {
   "codemirror_mode": {
    "name": "ipython",
    "version": 3
   },
   "file_extension": ".py",
   "mimetype": "text/x-python",
   "name": "python",
   "nbconvert_exporter": "python",
   "pygments_lexer": "ipython3",
   "version": "3.7.4"
  }
 },
 "nbformat": 4,
 "nbformat_minor": 2
}
