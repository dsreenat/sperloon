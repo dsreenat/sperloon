{
 "cells": [
  {
   "cell_type": "markdown",
   "metadata": {},
   "source": [
    "# Python Package : Pandas  --> incomplete/Ongoing"
   ]
  },
  {
   "cell_type": "code",
   "execution_count": null,
   "metadata": {},
   "outputs": [],
   "source": []
  },
  {
   "cell_type": "code",
   "execution_count": 1,
   "metadata": {},
   "outputs": [],
   "source": [
    "#Importing Packages\n",
    "import numpy as np\n",
    "import pandas as pd"
   ]
  },
  {
   "cell_type": "code",
   "execution_count": null,
   "metadata": {},
   "outputs": [],
   "source": []
  },
  {
   "cell_type": "markdown",
   "metadata": {},
   "source": [
    "#### Pandas Seies"
   ]
  },
  {
   "cell_type": "markdown",
   "metadata": {},
   "source": [
    "#### More about pandas series here \n",
    "https://pandas.pydata.org/pandas-docs/stable/reference/api/pandas.Series.html?highlight=series#pandas.Series\n",
    "    "
   ]
  },
  {
   "cell_type": "code",
   "execution_count": 2,
   "metadata": {},
   "outputs": [
    {
     "name": "stdout",
     "output_type": "stream",
     "text": [
      "<class 'pandas.core.series.Series'>\n"
     ]
    },
    {
     "data": {
      "text/plain": [
       "0    1\n",
       "1    2\n",
       "2    3\n",
       "3    4\n",
       "4    5\n",
       "5    6\n",
       "dtype: int64"
      ]
     },
     "execution_count": 2,
     "metadata": {},
     "output_type": "execute_result"
    }
   ],
   "source": [
    "#creating a pandas serires\n",
    "pds = pd.Series([1,2,3,4,5,6])\n",
    "print(type(pds))\n",
    "pds"
   ]
  },
  {
   "cell_type": "code",
   "execution_count": 3,
   "metadata": {},
   "outputs": [
    {
     "data": {
      "text/plain": [
       "0    1.0\n",
       "1    2.0\n",
       "2    3.0\n",
       "3    4.0\n",
       "4    5.0\n",
       "5    6.0\n",
       "6    NaN\n",
       "dtype: float64"
      ]
     },
     "execution_count": 3,
     "metadata": {},
     "output_type": "execute_result"
    }
   ],
   "source": [
    "#creating a pandas serires\n",
    "pds_1 = pd.Series([1,2,3,4,5,6,np.nan])\n",
    "pds_1"
   ]
  },
  {
   "cell_type": "code",
   "execution_count": 4,
   "metadata": {},
   "outputs": [
    {
     "name": "stdout",
     "output_type": "stream",
     "text": [
      "RangeIndex(start=0, stop=7, step=1)\n",
      "2nd Location using iloc  3.0\n",
      "2nd Location  3.0\n",
      "Shape of the series  (7,)\n",
      "Size of the series  7\n"
     ]
    }
   ],
   "source": [
    "#retriving the index of the serires,\n",
    "print(pds_1.index)\n",
    "\n",
    "#iloc used to select an element based on its location\n",
    "print(\"2nd Location using iloc \",pds_1.iloc[2])\n",
    "\n",
    "#alternate option\n",
    "print(\"2nd Location \",pds_1[2])\n",
    "\n",
    "#shape of the series\n",
    "print(\"Shape of the series \",pds_1.shape)\n",
    "\n",
    "#size of the series\n",
    "print(\"Size of the series \",pds_1.size)"
   ]
  },
  {
   "cell_type": "markdown",
   "metadata": {},
   "source": [
    "#### Date Range"
   ]
  },
  {
   "cell_type": "code",
   "execution_count": 5,
   "metadata": {},
   "outputs": [
    {
     "data": {
      "text/plain": [
       "DatetimeIndex(['2020-06-22', '2020-06-29', '2020-07-06', '2020-07-13',\n",
       "               '2020-07-20', '2020-07-27', '2020-08-03', '2020-08-10',\n",
       "               '2020-08-17', '2020-08-24', '2020-08-31', '2020-09-07',\n",
       "               '2020-09-14', '2020-09-21', '2020-09-28'],\n",
       "              dtype='datetime64[ns]', freq='W-MON')"
      ]
     },
     "execution_count": 5,
     "metadata": {},
     "output_type": "execute_result"
    }
   ],
   "source": [
    "#creating a datarange, here the starting date is given and how many sequence more is required. (periods=7)\n",
    "pd_dates = pd.date_range('20200617',periods=15, freq='W-MON') \n",
    "pd_dates"
   ]
  },
  {
   "cell_type": "markdown",
   "metadata": {},
   "source": [
    "More about this command and its optional functions <br>\n",
    "https://pandas.pydata.org/pandas-docs/stable/reference/api/pandas.date_range.html <br>\n",
    "https://pandas.pydata.org/pandas-docs/stable/user_guide/timeseries.html#timeseries-offset-aliases"
   ]
  },
  {
   "cell_type": "code",
   "execution_count": null,
   "metadata": {},
   "outputs": [],
   "source": []
  },
  {
   "cell_type": "code",
   "execution_count": 6,
   "metadata": {},
   "outputs": [
    {
     "name": "stdout",
     "output_type": "stream",
     "text": [
      "                   A         B         C         D\n",
      "2020-06-22 -0.325226  2.237981 -0.063950 -1.058515\n",
      "2020-06-29 -2.056759 -2.471595  0.975622  0.880131\n",
      "2020-07-06  1.595104  1.540341 -0.119756  0.532546\n",
      "2020-07-13 -1.085519 -0.230364 -2.015201  0.110318\n",
      "2020-07-20  1.551274 -0.452407  0.812804  0.826171\n",
      "2020-07-27 -1.216091 -0.593574 -1.023134  0.122795\n",
      "2020-08-03  0.971569 -1.368678 -0.352627  0.746151\n",
      "2020-08-10  1.311612 -0.696702 -0.473406  2.009396\n",
      "2020-08-17 -1.194186 -1.397508  0.152531 -0.717400\n",
      "2020-08-24 -1.453762  0.415799  0.195381 -0.913245\n",
      "2020-08-31 -0.944620 -2.439772  1.272683 -0.819872\n",
      "2020-09-07 -1.520700 -0.341874 -0.131000 -0.312698\n",
      "2020-09-14 -0.055418  0.786891  0.860067  1.584679\n",
      "2020-09-21 -0.125469  1.146073  0.448385  0.072907\n",
      "2020-09-28  0.994900  0.039647 -1.183156  1.178371\n",
      "\n",
      "\n",
      "             A   B   C   D\n",
      "2020-06-22  24  32  27  32\n",
      "2020-06-29  30  31   5   8\n",
      "2020-07-06  23  11  23  14\n",
      "2020-07-13   2  12   5   9\n",
      "2020-07-20  23  17  39  22\n",
      "2020-07-27  17   9  26  11\n",
      "2020-08-03  34  22  31  18\n",
      "2020-08-10   4  26  32  41\n",
      "2020-08-17  41  42   3  20\n",
      "2020-08-24  42   6  16  43\n",
      "2020-08-31  18  34  17  23\n",
      "2020-09-07  34  32  35  14\n",
      "2020-09-14  37  17  38  42\n",
      "2020-09-21  29  28   8  31\n",
      "2020-09-28  14  44   2  13\n"
     ]
    }
   ],
   "source": [
    "df1 =pd.DataFrame(np.random.randn(15,4),index=pd_dates,columns=[\"A\",\"B\",\"C\",\"D\"])\n",
    "df2 =pd.DataFrame(np.random.randint(1,45,size=(15,4)),index=pd_dates,columns=[\"A\",\"B\",\"C\",\"D\"])\n",
    "\n",
    "print(df1)\n",
    "print(\"\\n\")\n",
    "print(df2)"
   ]
  },
  {
   "cell_type": "code",
   "execution_count": 7,
   "metadata": {},
   "outputs": [
    {
     "data": {
      "text/html": [
       "<div>\n",
       "<style scoped>\n",
       "    .dataframe tbody tr th:only-of-type {\n",
       "        vertical-align: middle;\n",
       "    }\n",
       "\n",
       "    .dataframe tbody tr th {\n",
       "        vertical-align: top;\n",
       "    }\n",
       "\n",
       "    .dataframe thead th {\n",
       "        text-align: right;\n",
       "    }\n",
       "</style>\n",
       "<table border=\"1\" class=\"dataframe\">\n",
       "  <thead>\n",
       "    <tr style=\"text-align: right;\">\n",
       "      <th></th>\n",
       "      <th>A</th>\n",
       "      <th>B</th>\n",
       "      <th>C</th>\n",
       "      <th>D</th>\n",
       "    </tr>\n",
       "  </thead>\n",
       "  <tbody>\n",
       "    <tr>\n",
       "      <td>2020-06-22</td>\n",
       "      <td>-0.325226</td>\n",
       "      <td>2.237981</td>\n",
       "      <td>-0.063950</td>\n",
       "      <td>-1.058515</td>\n",
       "    </tr>\n",
       "    <tr>\n",
       "      <td>2020-06-29</td>\n",
       "      <td>-2.056759</td>\n",
       "      <td>-2.471595</td>\n",
       "      <td>0.975622</td>\n",
       "      <td>0.880131</td>\n",
       "    </tr>\n",
       "    <tr>\n",
       "      <td>2020-07-06</td>\n",
       "      <td>1.595104</td>\n",
       "      <td>1.540341</td>\n",
       "      <td>-0.119756</td>\n",
       "      <td>0.532546</td>\n",
       "    </tr>\n",
       "  </tbody>\n",
       "</table>\n",
       "</div>"
      ],
      "text/plain": [
       "                   A         B         C         D\n",
       "2020-06-22 -0.325226  2.237981 -0.063950 -1.058515\n",
       "2020-06-29 -2.056759 -2.471595  0.975622  0.880131\n",
       "2020-07-06  1.595104  1.540341 -0.119756  0.532546"
      ]
     },
     "execution_count": 7,
     "metadata": {},
     "output_type": "execute_result"
    }
   ],
   "source": [
    "#printing first 3 elements of the dataframe. if no value specified, it'll take the default value of 5\n",
    "df1.head(3)"
   ]
  },
  {
   "cell_type": "code",
   "execution_count": 8,
   "metadata": {},
   "outputs": [
    {
     "data": {
      "text/html": [
       "<div>\n",
       "<style scoped>\n",
       "    .dataframe tbody tr th:only-of-type {\n",
       "        vertical-align: middle;\n",
       "    }\n",
       "\n",
       "    .dataframe tbody tr th {\n",
       "        vertical-align: top;\n",
       "    }\n",
       "\n",
       "    .dataframe thead th {\n",
       "        text-align: right;\n",
       "    }\n",
       "</style>\n",
       "<table border=\"1\" class=\"dataframe\">\n",
       "  <thead>\n",
       "    <tr style=\"text-align: right;\">\n",
       "      <th></th>\n",
       "      <th>A</th>\n",
       "      <th>B</th>\n",
       "      <th>C</th>\n",
       "      <th>D</th>\n",
       "    </tr>\n",
       "  </thead>\n",
       "  <tbody>\n",
       "    <tr>\n",
       "      <td>2020-08-31</td>\n",
       "      <td>-0.944620</td>\n",
       "      <td>-2.439772</td>\n",
       "      <td>1.272683</td>\n",
       "      <td>-0.819872</td>\n",
       "    </tr>\n",
       "    <tr>\n",
       "      <td>2020-09-07</td>\n",
       "      <td>-1.520700</td>\n",
       "      <td>-0.341874</td>\n",
       "      <td>-0.131000</td>\n",
       "      <td>-0.312698</td>\n",
       "    </tr>\n",
       "    <tr>\n",
       "      <td>2020-09-14</td>\n",
       "      <td>-0.055418</td>\n",
       "      <td>0.786891</td>\n",
       "      <td>0.860067</td>\n",
       "      <td>1.584679</td>\n",
       "    </tr>\n",
       "    <tr>\n",
       "      <td>2020-09-21</td>\n",
       "      <td>-0.125469</td>\n",
       "      <td>1.146073</td>\n",
       "      <td>0.448385</td>\n",
       "      <td>0.072907</td>\n",
       "    </tr>\n",
       "    <tr>\n",
       "      <td>2020-09-28</td>\n",
       "      <td>0.994900</td>\n",
       "      <td>0.039647</td>\n",
       "      <td>-1.183156</td>\n",
       "      <td>1.178371</td>\n",
       "    </tr>\n",
       "  </tbody>\n",
       "</table>\n",
       "</div>"
      ],
      "text/plain": [
       "                   A         B         C         D\n",
       "2020-08-31 -0.944620 -2.439772  1.272683 -0.819872\n",
       "2020-09-07 -1.520700 -0.341874 -0.131000 -0.312698\n",
       "2020-09-14 -0.055418  0.786891  0.860067  1.584679\n",
       "2020-09-21 -0.125469  1.146073  0.448385  0.072907\n",
       "2020-09-28  0.994900  0.039647 -1.183156  1.178371"
      ]
     },
     "execution_count": 8,
     "metadata": {},
     "output_type": "execute_result"
    }
   ],
   "source": [
    "#peinitng the last 5 rows of the data frame\n",
    "df1.tail()"
   ]
  },
  {
   "cell_type": "code",
   "execution_count": 9,
   "metadata": {},
   "outputs": [
    {
     "data": {
      "text/plain": [
       "DatetimeIndex(['2020-06-22', '2020-06-29', '2020-07-06', '2020-07-13',\n",
       "               '2020-07-20', '2020-07-27', '2020-08-03', '2020-08-10',\n",
       "               '2020-08-17', '2020-08-24', '2020-08-31', '2020-09-07',\n",
       "               '2020-09-14', '2020-09-21', '2020-09-28'],\n",
       "              dtype='datetime64[ns]', freq='W-MON')"
      ]
     },
     "execution_count": 9,
     "metadata": {},
     "output_type": "execute_result"
    }
   ],
   "source": [
    "#printing the index values of the data frame.\n",
    "df1.index"
   ]
  },
  {
   "cell_type": "code",
   "execution_count": 10,
   "metadata": {},
   "outputs": [
    {
     "data": {
      "text/plain": [
       "Index(['A', 'B', 'C', 'D'], dtype='object')"
      ]
     },
     "execution_count": 10,
     "metadata": {},
     "output_type": "execute_result"
    }
   ],
   "source": [
    "#Prints column names\n",
    "df1.columns"
   ]
  },
  {
   "cell_type": "code",
   "execution_count": 11,
   "metadata": {},
   "outputs": [
    {
     "data": {
      "text/html": [
       "<div>\n",
       "<style scoped>\n",
       "    .dataframe tbody tr th:only-of-type {\n",
       "        vertical-align: middle;\n",
       "    }\n",
       "\n",
       "    .dataframe tbody tr th {\n",
       "        vertical-align: top;\n",
       "    }\n",
       "\n",
       "    .dataframe thead th {\n",
       "        text-align: right;\n",
       "    }\n",
       "</style>\n",
       "<table border=\"1\" class=\"dataframe\">\n",
       "  <thead>\n",
       "    <tr style=\"text-align: right;\">\n",
       "      <th></th>\n",
       "      <th>A</th>\n",
       "      <th>B</th>\n",
       "      <th>C</th>\n",
       "      <th>D</th>\n",
       "    </tr>\n",
       "  </thead>\n",
       "  <tbody>\n",
       "    <tr>\n",
       "      <td>count</td>\n",
       "      <td>15.000000</td>\n",
       "      <td>15.000000</td>\n",
       "      <td>15.000000</td>\n",
       "      <td>15.000000</td>\n",
       "    </tr>\n",
       "    <tr>\n",
       "      <td>mean</td>\n",
       "      <td>-0.236886</td>\n",
       "      <td>-0.255049</td>\n",
       "      <td>-0.042984</td>\n",
       "      <td>0.282782</td>\n",
       "    </tr>\n",
       "    <tr>\n",
       "      <td>std</td>\n",
       "      <td>1.239804</td>\n",
       "      <td>1.352577</td>\n",
       "      <td>0.890363</td>\n",
       "      <td>0.937594</td>\n",
       "    </tr>\n",
       "    <tr>\n",
       "      <td>min</td>\n",
       "      <td>-2.056759</td>\n",
       "      <td>-2.471595</td>\n",
       "      <td>-2.015201</td>\n",
       "      <td>-1.058515</td>\n",
       "    </tr>\n",
       "    <tr>\n",
       "      <td>25%</td>\n",
       "      <td>-1.205138</td>\n",
       "      <td>-1.032690</td>\n",
       "      <td>-0.413017</td>\n",
       "      <td>-0.515049</td>\n",
       "    </tr>\n",
       "    <tr>\n",
       "      <td>50%</td>\n",
       "      <td>-0.325226</td>\n",
       "      <td>-0.341874</td>\n",
       "      <td>-0.063950</td>\n",
       "      <td>0.122795</td>\n",
       "    </tr>\n",
       "    <tr>\n",
       "      <td>75%</td>\n",
       "      <td>0.983234</td>\n",
       "      <td>0.601345</td>\n",
       "      <td>0.630594</td>\n",
       "      <td>0.853151</td>\n",
       "    </tr>\n",
       "    <tr>\n",
       "      <td>max</td>\n",
       "      <td>1.595104</td>\n",
       "      <td>2.237981</td>\n",
       "      <td>1.272683</td>\n",
       "      <td>2.009396</td>\n",
       "    </tr>\n",
       "  </tbody>\n",
       "</table>\n",
       "</div>"
      ],
      "text/plain": [
       "               A          B          C          D\n",
       "count  15.000000  15.000000  15.000000  15.000000\n",
       "mean   -0.236886  -0.255049  -0.042984   0.282782\n",
       "std     1.239804   1.352577   0.890363   0.937594\n",
       "min    -2.056759  -2.471595  -2.015201  -1.058515\n",
       "25%    -1.205138  -1.032690  -0.413017  -0.515049\n",
       "50%    -0.325226  -0.341874  -0.063950   0.122795\n",
       "75%     0.983234   0.601345   0.630594   0.853151\n",
       "max     1.595104   2.237981   1.272683   2.009396"
      ]
     },
     "execution_count": 11,
     "metadata": {},
     "output_type": "execute_result"
    }
   ],
   "source": [
    "##general info about the dataframe\n",
    "df1.describe()"
   ]
  },
  {
   "cell_type": "code",
   "execution_count": 12,
   "metadata": {},
   "outputs": [
    {
     "data": {
      "text/html": [
       "<div>\n",
       "<style scoped>\n",
       "    .dataframe tbody tr th:only-of-type {\n",
       "        vertical-align: middle;\n",
       "    }\n",
       "\n",
       "    .dataframe tbody tr th {\n",
       "        vertical-align: top;\n",
       "    }\n",
       "\n",
       "    .dataframe thead th {\n",
       "        text-align: right;\n",
       "    }\n",
       "</style>\n",
       "<table border=\"1\" class=\"dataframe\">\n",
       "  <thead>\n",
       "    <tr style=\"text-align: right;\">\n",
       "      <th></th>\n",
       "      <th>A</th>\n",
       "      <th>B</th>\n",
       "      <th>C</th>\n",
       "      <th>D</th>\n",
       "    </tr>\n",
       "  </thead>\n",
       "  <tbody>\n",
       "    <tr>\n",
       "      <td>2020-06-22</td>\n",
       "      <td>-0.325226</td>\n",
       "      <td>2.237981</td>\n",
       "      <td>-0.063950</td>\n",
       "      <td>-1.058515</td>\n",
       "    </tr>\n",
       "    <tr>\n",
       "      <td>2020-06-29</td>\n",
       "      <td>-2.056759</td>\n",
       "      <td>-2.471595</td>\n",
       "      <td>0.975622</td>\n",
       "      <td>0.880131</td>\n",
       "    </tr>\n",
       "    <tr>\n",
       "      <td>2020-07-06</td>\n",
       "      <td>1.595104</td>\n",
       "      <td>1.540341</td>\n",
       "      <td>-0.119756</td>\n",
       "      <td>0.532546</td>\n",
       "    </tr>\n",
       "    <tr>\n",
       "      <td>2020-07-13</td>\n",
       "      <td>-1.085519</td>\n",
       "      <td>-0.230364</td>\n",
       "      <td>-2.015201</td>\n",
       "      <td>0.110318</td>\n",
       "    </tr>\n",
       "    <tr>\n",
       "      <td>2020-07-20</td>\n",
       "      <td>1.551274</td>\n",
       "      <td>-0.452407</td>\n",
       "      <td>0.812804</td>\n",
       "      <td>0.826171</td>\n",
       "    </tr>\n",
       "  </tbody>\n",
       "</table>\n",
       "</div>"
      ],
      "text/plain": [
       "                   A         B         C         D\n",
       "2020-06-22 -0.325226  2.237981 -0.063950 -1.058515\n",
       "2020-06-29 -2.056759 -2.471595  0.975622  0.880131\n",
       "2020-07-06  1.595104  1.540341 -0.119756  0.532546\n",
       "2020-07-13 -1.085519 -0.230364 -2.015201  0.110318\n",
       "2020-07-20  1.551274 -0.452407  0.812804  0.826171"
      ]
     },
     "execution_count": 12,
     "metadata": {},
     "output_type": "execute_result"
    }
   ],
   "source": [
    "#sorting the data frame, uncomment one and see the output.\n",
    "\n",
    "\n",
    "#df1.sort_values('C',ascending=True)\n",
    "#df1.sort_values('C',ascending=False)\n",
    "#df1.sort_index(axis=0,ascending=False)\n",
    "df1.sort_index(axis=0,ascending=True).head()"
   ]
  },
  {
   "cell_type": "code",
   "execution_count": 13,
   "metadata": {},
   "outputs": [
    {
     "data": {
      "text/plain": [
       "2020-06-22   -0.325226\n",
       "2020-06-29   -2.056759\n",
       "2020-07-06    1.595104\n",
       "2020-07-13   -1.085519\n",
       "2020-07-20    1.551274\n",
       "Freq: W-MON, Name: A, dtype: float64"
      ]
     },
     "execution_count": 13,
     "metadata": {},
     "output_type": "execute_result"
    }
   ],
   "source": [
    "#printing only the first column\n",
    "df1['A'].head()"
   ]
  },
  {
   "cell_type": "code",
   "execution_count": 14,
   "metadata": {},
   "outputs": [
    {
     "data": {
      "text/html": [
       "<div>\n",
       "<style scoped>\n",
       "    .dataframe tbody tr th:only-of-type {\n",
       "        vertical-align: middle;\n",
       "    }\n",
       "\n",
       "    .dataframe tbody tr th {\n",
       "        vertical-align: top;\n",
       "    }\n",
       "\n",
       "    .dataframe thead th {\n",
       "        text-align: right;\n",
       "    }\n",
       "</style>\n",
       "<table border=\"1\" class=\"dataframe\">\n",
       "  <thead>\n",
       "    <tr style=\"text-align: right;\">\n",
       "      <th></th>\n",
       "      <th>A</th>\n",
       "      <th>C</th>\n",
       "    </tr>\n",
       "  </thead>\n",
       "  <tbody>\n",
       "    <tr>\n",
       "      <td>2020-06-22</td>\n",
       "      <td>-0.325226</td>\n",
       "      <td>-0.063950</td>\n",
       "    </tr>\n",
       "    <tr>\n",
       "      <td>2020-06-29</td>\n",
       "      <td>-2.056759</td>\n",
       "      <td>0.975622</td>\n",
       "    </tr>\n",
       "    <tr>\n",
       "      <td>2020-07-06</td>\n",
       "      <td>1.595104</td>\n",
       "      <td>-0.119756</td>\n",
       "    </tr>\n",
       "    <tr>\n",
       "      <td>2020-07-13</td>\n",
       "      <td>-1.085519</td>\n",
       "      <td>-2.015201</td>\n",
       "    </tr>\n",
       "    <tr>\n",
       "      <td>2020-07-20</td>\n",
       "      <td>1.551274</td>\n",
       "      <td>0.812804</td>\n",
       "    </tr>\n",
       "  </tbody>\n",
       "</table>\n",
       "</div>"
      ],
      "text/plain": [
       "                   A         C\n",
       "2020-06-22 -0.325226 -0.063950\n",
       "2020-06-29 -2.056759  0.975622\n",
       "2020-07-06  1.595104 -0.119756\n",
       "2020-07-13 -1.085519 -2.015201\n",
       "2020-07-20  1.551274  0.812804"
      ]
     },
     "execution_count": 14,
     "metadata": {},
     "output_type": "execute_result"
    }
   ],
   "source": [
    "#printing the first and the third column\n",
    "df1[['A','C']].head()"
   ]
  },
  {
   "cell_type": "code",
   "execution_count": 15,
   "metadata": {},
   "outputs": [
    {
     "data": {
      "text/html": [
       "<div>\n",
       "<style scoped>\n",
       "    .dataframe tbody tr th:only-of-type {\n",
       "        vertical-align: middle;\n",
       "    }\n",
       "\n",
       "    .dataframe tbody tr th {\n",
       "        vertical-align: top;\n",
       "    }\n",
       "\n",
       "    .dataframe thead th {\n",
       "        text-align: right;\n",
       "    }\n",
       "</style>\n",
       "<table border=\"1\" class=\"dataframe\">\n",
       "  <thead>\n",
       "    <tr style=\"text-align: right;\">\n",
       "      <th></th>\n",
       "      <th>A</th>\n",
       "      <th>B</th>\n",
       "      <th>C</th>\n",
       "      <th>D</th>\n",
       "    </tr>\n",
       "  </thead>\n",
       "  <tbody>\n",
       "    <tr>\n",
       "      <td>2020-06-22</td>\n",
       "      <td>-0.325226</td>\n",
       "      <td>2.237981</td>\n",
       "      <td>-0.063950</td>\n",
       "      <td>-1.058515</td>\n",
       "    </tr>\n",
       "    <tr>\n",
       "      <td>2020-06-29</td>\n",
       "      <td>-2.056759</td>\n",
       "      <td>-2.471595</td>\n",
       "      <td>0.975622</td>\n",
       "      <td>0.880131</td>\n",
       "    </tr>\n",
       "    <tr>\n",
       "      <td>2020-07-06</td>\n",
       "      <td>1.595104</td>\n",
       "      <td>1.540341</td>\n",
       "      <td>-0.119756</td>\n",
       "      <td>0.532546</td>\n",
       "    </tr>\n",
       "  </tbody>\n",
       "</table>\n",
       "</div>"
      ],
      "text/plain": [
       "                   A         B         C         D\n",
       "2020-06-22 -0.325226  2.237981 -0.063950 -1.058515\n",
       "2020-06-29 -2.056759 -2.471595  0.975622  0.880131\n",
       "2020-07-06  1.595104  1.540341 -0.119756  0.532546"
      ]
     },
     "execution_count": 15,
     "metadata": {},
     "output_type": "execute_result"
    }
   ],
   "source": [
    "#printing the first to the third rows\n",
    "df1[0:3]"
   ]
  },
  {
   "cell_type": "code",
   "execution_count": 16,
   "metadata": {},
   "outputs": [
    {
     "data": {
      "text/html": [
       "<div>\n",
       "<style scoped>\n",
       "    .dataframe tbody tr th:only-of-type {\n",
       "        vertical-align: middle;\n",
       "    }\n",
       "\n",
       "    .dataframe tbody tr th {\n",
       "        vertical-align: top;\n",
       "    }\n",
       "\n",
       "    .dataframe thead th {\n",
       "        text-align: right;\n",
       "    }\n",
       "</style>\n",
       "<table border=\"1\" class=\"dataframe\">\n",
       "  <thead>\n",
       "    <tr style=\"text-align: right;\">\n",
       "      <th></th>\n",
       "      <th>A</th>\n",
       "      <th>C</th>\n",
       "    </tr>\n",
       "  </thead>\n",
       "  <tbody>\n",
       "    <tr>\n",
       "      <td>2020-06-22</td>\n",
       "      <td>-0.325226</td>\n",
       "      <td>-0.063950</td>\n",
       "    </tr>\n",
       "    <tr>\n",
       "      <td>2020-06-29</td>\n",
       "      <td>-2.056759</td>\n",
       "      <td>0.975622</td>\n",
       "    </tr>\n",
       "    <tr>\n",
       "      <td>2020-07-06</td>\n",
       "      <td>1.595104</td>\n",
       "      <td>-0.119756</td>\n",
       "    </tr>\n",
       "    <tr>\n",
       "      <td>2020-07-13</td>\n",
       "      <td>-1.085519</td>\n",
       "      <td>-2.015201</td>\n",
       "    </tr>\n",
       "    <tr>\n",
       "      <td>2020-07-20</td>\n",
       "      <td>1.551274</td>\n",
       "      <td>0.812804</td>\n",
       "    </tr>\n",
       "  </tbody>\n",
       "</table>\n",
       "</div>"
      ],
      "text/plain": [
       "                   A         C\n",
       "2020-06-22 -0.325226 -0.063950\n",
       "2020-06-29 -2.056759  0.975622\n",
       "2020-07-06  1.595104 -0.119756\n",
       "2020-07-13 -1.085519 -2.015201\n",
       "2020-07-20  1.551274  0.812804"
      ]
     },
     "execution_count": 16,
     "metadata": {},
     "output_type": "execute_result"
    }
   ],
   "source": [
    "#loc function is used when we know col names\n",
    "df1.loc[:,['A','C']].head()"
   ]
  },
  {
   "cell_type": "code",
   "execution_count": 17,
   "metadata": {},
   "outputs": [
    {
     "data": {
      "text/html": [
       "<div>\n",
       "<style scoped>\n",
       "    .dataframe tbody tr th:only-of-type {\n",
       "        vertical-align: middle;\n",
       "    }\n",
       "\n",
       "    .dataframe tbody tr th {\n",
       "        vertical-align: top;\n",
       "    }\n",
       "\n",
       "    .dataframe thead th {\n",
       "        text-align: right;\n",
       "    }\n",
       "</style>\n",
       "<table border=\"1\" class=\"dataframe\">\n",
       "  <thead>\n",
       "    <tr style=\"text-align: right;\">\n",
       "      <th></th>\n",
       "      <th>A</th>\n",
       "      <th>B</th>\n",
       "      <th>C</th>\n",
       "    </tr>\n",
       "  </thead>\n",
       "  <tbody>\n",
       "    <tr>\n",
       "      <td>2020-06-22</td>\n",
       "      <td>-0.325226</td>\n",
       "      <td>2.237981</td>\n",
       "      <td>-0.063950</td>\n",
       "    </tr>\n",
       "    <tr>\n",
       "      <td>2020-06-29</td>\n",
       "      <td>-2.056759</td>\n",
       "      <td>-2.471595</td>\n",
       "      <td>0.975622</td>\n",
       "    </tr>\n",
       "    <tr>\n",
       "      <td>2020-07-06</td>\n",
       "      <td>1.595104</td>\n",
       "      <td>1.540341</td>\n",
       "      <td>-0.119756</td>\n",
       "    </tr>\n",
       "    <tr>\n",
       "      <td>2020-07-13</td>\n",
       "      <td>-1.085519</td>\n",
       "      <td>-0.230364</td>\n",
       "      <td>-2.015201</td>\n",
       "    </tr>\n",
       "    <tr>\n",
       "      <td>2020-07-20</td>\n",
       "      <td>1.551274</td>\n",
       "      <td>-0.452407</td>\n",
       "      <td>0.812804</td>\n",
       "    </tr>\n",
       "    <tr>\n",
       "      <td>2020-07-27</td>\n",
       "      <td>-1.216091</td>\n",
       "      <td>-0.593574</td>\n",
       "      <td>-1.023134</td>\n",
       "    </tr>\n",
       "    <tr>\n",
       "      <td>2020-08-03</td>\n",
       "      <td>0.971569</td>\n",
       "      <td>-1.368678</td>\n",
       "      <td>-0.352627</td>\n",
       "    </tr>\n",
       "  </tbody>\n",
       "</table>\n",
       "</div>"
      ],
      "text/plain": [
       "                   A         B         C\n",
       "2020-06-22 -0.325226  2.237981 -0.063950\n",
       "2020-06-29 -2.056759 -2.471595  0.975622\n",
       "2020-07-06  1.595104  1.540341 -0.119756\n",
       "2020-07-13 -1.085519 -0.230364 -2.015201\n",
       "2020-07-20  1.551274 -0.452407  0.812804\n",
       "2020-07-27 -1.216091 -0.593574 -1.023134\n",
       "2020-08-03  0.971569 -1.368678 -0.352627"
      ]
     },
     "execution_count": 17,
     "metadata": {},
     "output_type": "execute_result"
    }
   ],
   "source": [
    "#iloc function used when we know the col numer postions\n",
    "df1.iloc[0:7,0:3]"
   ]
  },
  {
   "cell_type": "code",
   "execution_count": null,
   "metadata": {},
   "outputs": [],
   "source": []
  },
  {
   "cell_type": "code",
   "execution_count": null,
   "metadata": {},
   "outputs": [],
   "source": []
  },
  {
   "cell_type": "code",
   "execution_count": null,
   "metadata": {},
   "outputs": [],
   "source": []
  },
  {
   "cell_type": "code",
   "execution_count": null,
   "metadata": {},
   "outputs": [],
   "source": []
  },
  {
   "cell_type": "code",
   "execution_count": 18,
   "metadata": {},
   "outputs": [
    {
     "data": {
      "text/html": [
       "<div>\n",
       "<style scoped>\n",
       "    .dataframe tbody tr th:only-of-type {\n",
       "        vertical-align: middle;\n",
       "    }\n",
       "\n",
       "    .dataframe tbody tr th {\n",
       "        vertical-align: top;\n",
       "    }\n",
       "\n",
       "    .dataframe thead th {\n",
       "        text-align: right;\n",
       "    }\n",
       "</style>\n",
       "<table border=\"1\" class=\"dataframe\">\n",
       "  <thead>\n",
       "    <tr style=\"text-align: right;\">\n",
       "      <th></th>\n",
       "      <th>A</th>\n",
       "      <th>B</th>\n",
       "      <th>C</th>\n",
       "      <th>D</th>\n",
       "      <th>E</th>\n",
       "      <th>F</th>\n",
       "    </tr>\n",
       "  </thead>\n",
       "  <tbody>\n",
       "    <tr>\n",
       "      <td>0</td>\n",
       "      <td>1</td>\n",
       "      <td>2020-06-18</td>\n",
       "      <td>1.0</td>\n",
       "      <td>5</td>\n",
       "      <td>True</td>\n",
       "      <td>Pandas</td>\n",
       "    </tr>\n",
       "    <tr>\n",
       "      <td>1</td>\n",
       "      <td>2</td>\n",
       "      <td>2020-06-18</td>\n",
       "      <td>1.0</td>\n",
       "      <td>5</td>\n",
       "      <td>False</td>\n",
       "      <td>Pandas</td>\n",
       "    </tr>\n",
       "    <tr>\n",
       "      <td>2</td>\n",
       "      <td>3</td>\n",
       "      <td>2020-06-18</td>\n",
       "      <td>1.0</td>\n",
       "      <td>5</td>\n",
       "      <td>True</td>\n",
       "      <td>Pandas</td>\n",
       "    </tr>\n",
       "    <tr>\n",
       "      <td>3</td>\n",
       "      <td>4</td>\n",
       "      <td>2020-06-18</td>\n",
       "      <td>1.0</td>\n",
       "      <td>5</td>\n",
       "      <td>True</td>\n",
       "      <td>Pandas</td>\n",
       "    </tr>\n",
       "  </tbody>\n",
       "</table>\n",
       "</div>"
      ],
      "text/plain": [
       "   A          B    C  D      E       F\n",
       "0  1 2020-06-18  1.0  5   True  Pandas\n",
       "1  2 2020-06-18  1.0  5  False  Pandas\n",
       "2  3 2020-06-18  1.0  5   True  Pandas\n",
       "3  4 2020-06-18  1.0  5   True  Pandas"
      ]
     },
     "execution_count": 18,
     "metadata": {},
     "output_type": "execute_result"
    }
   ],
   "source": [
    "#Creating a data frame from a dictionary\n",
    "df3 = pd.DataFrame({ 'A' : [1,2,3,4],\n",
    "                      'B' : pd.Timestamp('20200618'),\n",
    "                      'C' : pd.Series(1,index=list(range(4)),dtype=\"float32\"),\n",
    "                      'D' : np.array([5]*4,dtype='int32'),\n",
    "                      'E' : pd.Categorical(['True','False','True','True']),\n",
    "                      'F' : 'Pandas'})\n",
    "\n",
    "df3"
   ]
  },
  {
   "cell_type": "code",
   "execution_count": 19,
   "metadata": {},
   "outputs": [
    {
     "data": {
      "text/plain": [
       "A             int64\n",
       "B    datetime64[ns]\n",
       "C           float32\n",
       "D             int32\n",
       "E          category\n",
       "F            object\n",
       "dtype: object"
      ]
     },
     "execution_count": 19,
     "metadata": {},
     "output_type": "execute_result"
    }
   ],
   "source": [
    "#Understanding the datatypes of columns in the dataframe\n",
    "df3.dtypes"
   ]
  },
  {
   "cell_type": "code",
   "execution_count": null,
   "metadata": {},
   "outputs": [],
   "source": []
  },
  {
   "cell_type": "code",
   "execution_count": 20,
   "metadata": {},
   "outputs": [
    {
     "data": {
      "text/plain": [
       "array([[1, Timestamp('2020-06-18 00:00:00'), 1.0, 5, 'True', 'Pandas'],\n",
       "       [2, Timestamp('2020-06-18 00:00:00'), 1.0, 5, 'False', 'Pandas'],\n",
       "       [3, Timestamp('2020-06-18 00:00:00'), 1.0, 5, 'True', 'Pandas'],\n",
       "       [4, Timestamp('2020-06-18 00:00:00'), 1.0, 5, 'True', 'Pandas']],\n",
       "      dtype=object)"
      ]
     },
     "execution_count": 20,
     "metadata": {},
     "output_type": "execute_result"
    }
   ],
   "source": [
    "#converting a dataframe to a numpy array\n",
    "df3.to_numpy()"
   ]
  },
  {
   "cell_type": "code",
   "execution_count": null,
   "metadata": {},
   "outputs": [],
   "source": []
  },
  {
   "cell_type": "code",
   "execution_count": null,
   "metadata": {},
   "outputs": [],
   "source": []
  },
  {
   "cell_type": "code",
   "execution_count": null,
   "metadata": {},
   "outputs": [],
   "source": []
  },
  {
   "cell_type": "code",
   "execution_count": null,
   "metadata": {},
   "outputs": [],
   "source": []
  },
  {
   "cell_type": "code",
   "execution_count": null,
   "metadata": {},
   "outputs": [],
   "source": []
  },
  {
   "cell_type": "code",
   "execution_count": null,
   "metadata": {},
   "outputs": [],
   "source": []
  },
  {
   "cell_type": "code",
   "execution_count": null,
   "metadata": {},
   "outputs": [],
   "source": []
  },
  {
   "cell_type": "code",
   "execution_count": null,
   "metadata": {},
   "outputs": [],
   "source": []
  },
  {
   "cell_type": "code",
   "execution_count": null,
   "metadata": {},
   "outputs": [],
   "source": []
  },
  {
   "cell_type": "code",
   "execution_count": null,
   "metadata": {},
   "outputs": [],
   "source": []
  },
  {
   "cell_type": "code",
   "execution_count": null,
   "metadata": {},
   "outputs": [],
   "source": []
  },
  {
   "cell_type": "code",
   "execution_count": null,
   "metadata": {},
   "outputs": [],
   "source": []
  },
  {
   "cell_type": "code",
   "execution_count": null,
   "metadata": {},
   "outputs": [],
   "source": []
  },
  {
   "cell_type": "code",
   "execution_count": null,
   "metadata": {},
   "outputs": [],
   "source": []
  },
  {
   "cell_type": "code",
   "execution_count": null,
   "metadata": {},
   "outputs": [],
   "source": []
  },
  {
   "cell_type": "code",
   "execution_count": null,
   "metadata": {},
   "outputs": [],
   "source": []
  },
  {
   "cell_type": "code",
   "execution_count": null,
   "metadata": {},
   "outputs": [],
   "source": []
  },
  {
   "cell_type": "code",
   "execution_count": null,
   "metadata": {},
   "outputs": [],
   "source": []
  },
  {
   "cell_type": "code",
   "execution_count": null,
   "metadata": {},
   "outputs": [],
   "source": []
  },
  {
   "cell_type": "code",
   "execution_count": null,
   "metadata": {},
   "outputs": [],
   "source": []
  },
  {
   "cell_type": "code",
   "execution_count": null,
   "metadata": {},
   "outputs": [],
   "source": []
  },
  {
   "cell_type": "code",
   "execution_count": null,
   "metadata": {},
   "outputs": [],
   "source": []
  },
  {
   "cell_type": "code",
   "execution_count": null,
   "metadata": {},
   "outputs": [],
   "source": []
  },
  {
   "cell_type": "code",
   "execution_count": null,
   "metadata": {},
   "outputs": [],
   "source": []
  },
  {
   "cell_type": "code",
   "execution_count": null,
   "metadata": {},
   "outputs": [],
   "source": []
  },
  {
   "cell_type": "code",
   "execution_count": null,
   "metadata": {},
   "outputs": [],
   "source": []
  },
  {
   "cell_type": "code",
   "execution_count": null,
   "metadata": {},
   "outputs": [],
   "source": []
  },
  {
   "cell_type": "code",
   "execution_count": null,
   "metadata": {},
   "outputs": [],
   "source": []
  },
  {
   "cell_type": "code",
   "execution_count": null,
   "metadata": {},
   "outputs": [],
   "source": []
  }
 ],
 "metadata": {
  "kernelspec": {
   "display_name": "Python 3",
   "language": "python",
   "name": "python3"
  },
  "language_info": {
   "codemirror_mode": {
    "name": "ipython",
    "version": 3
   },
   "file_extension": ".py",
   "mimetype": "text/x-python",
   "name": "python",
   "nbconvert_exporter": "python",
   "pygments_lexer": "ipython3",
   "version": "3.7.4"
  }
 },
 "nbformat": 4,
 "nbformat_minor": 2
}
