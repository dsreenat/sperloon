{
  "cells": [
    {
      "cell_type": "markdown",
      "metadata": {
        "id": "ladGyYZdpc4i"
      },
      "source": [
        "# Python Basics Learning Pack | Darshan Sreenath"
      ]
    },
    {
      "cell_type": "code",
      "execution_count": null,
      "metadata": {
        "id": "3qXPFmBmpc4j"
      },
      "outputs": [],
      "source": []
    },
    {
      "cell_type": "markdown",
      "metadata": {
        "id": "Gb0xQE44pc4j"
      },
      "source": [
        "#### Refferences\n",
        "https://www.pythoncheatsheet.org/ <br> https://www.w3schools.com/python/default.asp <br> https://www.geeksforgeeks.org/python-tutorial/?ref=leftbar-rightbar <br> https://www.edureka.co/blog/python-tutorial/?utm_source=youtube&utm_campaign=python-tutorial-020617-wr&utm_medium=description\n"
      ]
    },
    {
      "cell_type": "code",
      "execution_count": null,
      "metadata": {
        "id": "Ef-o2Nzkpc4j"
      },
      "outputs": [],
      "source": []
    },
    {
      "cell_type": "markdown",
      "metadata": {
        "id": "LKVIZsl4pc4k"
      },
      "source": [
        "## Day 1"
      ]
    },
    {
      "cell_type": "markdown",
      "metadata": {
        "id": "Z7QdP_VQpc4k"
      },
      "source": [
        "### Jupyter Notebook quick help\n",
        "#### m \t\t--> Markdown/comment <br>y \t\t--> code <br> A \t\t--> Insert line above <br>B\t\t --> insert line below <br>dd \t--> delete <br>\"-  \" \t--> bullet <br>z \t\t--> undo <br>f \t\t--> find and replace"
      ]
    },
    {
      "cell_type": "markdown",
      "metadata": {
        "id": "m4XGkF0upc4k"
      },
      "source": [
        "Lets start with printing a text. <br> here the \"\\n\" is used to start a new line while printing"
      ]
    },
    {
      "cell_type": "code",
      "execution_count": null,
      "metadata": {
        "id": "D1FxxUTkpc4k"
      },
      "outputs": [],
      "source": [
        "print(\"Hello there, I'm Darshan. \\nHow are you?\")"
      ]
    },
    {
      "cell_type": "code",
      "execution_count": null,
      "metadata": {
        "id": "Z57CQEQepc4l"
      },
      "outputs": [],
      "source": []
    },
    {
      "cell_type": "markdown",
      "metadata": {
        "id": "q5_UVyCRpc4l"
      },
      "source": [
        "Lets see the data types in python"
      ]
    },
    {
      "cell_type": "markdown",
      "metadata": {
        "id": "sNrD_vGSpc4l"
      },
      "source": [
        "#### Python has the following data types built-in by default, in these categories:\n",
        "#### Text Type\t\t:\tstr <br> Numeric Types\t:\tint, float, complex <br>Sequence Types\t:\tlist, tuple, range <br>Mapping Type\t:\tdict <br>Set Types\t\t:\tset, frozenset <br>Boolean Type\t:\tbool <br>Binary Types\t:\tbytes, bytearray, memoryview"
      ]
    },
    {
      "cell_type": "markdown",
      "metadata": {
        "id": "sSguZ09Fpc4l"
      },
      "source": [
        "Lets see some basic mathematical functions. <br>\n",
        "so we are assigining some values to few variables."
      ]
    },
    {
      "cell_type": "code",
      "execution_count": null,
      "metadata": {
        "id": "w_vL8Jv6pc4l"
      },
      "outputs": [],
      "source": [
        "a=10\n",
        "b=5\n",
        "c=6\n",
        "d=\"test\""
      ]
    },
    {
      "cell_type": "markdown",
      "metadata": {
        "id": "nXVpKGK7pc4m"
      },
      "source": [
        "lets see what kind of variable is that"
      ]
    },
    {
      "cell_type": "code",
      "execution_count": null,
      "metadata": {
        "id": "jw416PPQpc4m",
        "outputId": "55a4c02b-cd0f-49de-9450-cce8ad409cab"
      },
      "outputs": [
        {
          "data": {
            "text/plain": [
              "int"
            ]
          },
          "execution_count": 3,
          "metadata": {},
          "output_type": "execute_result"
        }
      ],
      "source": [
        "type(a) ## the command to check its type"
      ]
    },
    {
      "cell_type": "code",
      "execution_count": null,
      "metadata": {
        "id": "hMQ9kY9Zpc4m",
        "outputId": "e79b6999-bffc-421c-ce0a-a492a5498736"
      },
      "outputs": [
        {
          "name": "stdout",
          "output_type": "stream",
          "text": [
            "a = 10 \n",
            "b = 5 \n",
            "c = 6\n",
            "a+b = 15\n",
            "a-b = 5\n",
            "a/b = 2.0\n",
            "a*b = 50\n",
            "a**b = 100000  || its also called the exponentail function\n",
            "c%b = 1  || it gives the reminder\n"
          ]
        }
      ],
      "source": [
        "print (\"a =\",a,\"\\nb =\",b,\"\\nc =\",c)\n",
        "print(\"a+b =\",a+b)\n",
        "print(\"a-b =\",a-b)\n",
        "print(\"a/b =\",a/b)\n",
        "print(\"a*b =\",a*b)\n",
        "print(\"a**b =\",a**b, \" || its also called the exponentail function\")\n",
        "print(\"c%b =\",c%b, \" || it gives the reminder\")"
      ]
    },
    {
      "cell_type": "code",
      "execution_count": null,
      "metadata": {
        "id": "HmccYqqxpc4n"
      },
      "outputs": [],
      "source": [
        ""
      ]
    },
    {
      "cell_type": "markdown",
      "metadata": {
        "id": "TXGH0Vabpc4n"
      },
      "source": [
        "### String Operations"
      ]
    },
    {
      "cell_type": "code",
      "execution_count": null,
      "metadata": {
        "id": "mIK8rAxUpc4n",
        "outputId": "6f4aa552-8e7d-4ac8-fcad-18c1c7650960"
      },
      "outputs": [
        {
          "name": "stdout",
          "output_type": "stream",
          "text": [
            "Enter First Name\n",
            "Darshan\n",
            "\n",
            "Enter Last Name\n",
            "S\n"
          ]
        }
      ],
      "source": [
        "#Hardcoding and Dynamic Method  || note: if you want to use hardcoding remove the comment in line 2 and 3\n",
        "print(\"Enter First Name\")\n",
        "name1 = input()\n",
        "print(\"\\nEnter Last Name\")\n",
        "name2 = input()"
      ]
    },
    {
      "cell_type": "code",
      "execution_count": null,
      "metadata": {
        "id": "-asQ3vUxpc4n",
        "outputId": "656d4c2a-598e-44fc-ada3-a52c4c98fbd3"
      },
      "outputs": [
        {
          "name": "stdout",
          "output_type": "stream",
          "text": [
            "Darshan S\n"
          ]
        }
      ],
      "source": [
        "#string concat function\n",
        "print(name1+\" \"+name2)"
      ]
    },
    {
      "cell_type": "code",
      "execution_count": null,
      "metadata": {
        "id": "K5YByh6ypc4n",
        "outputId": "a29ff261-6b35-4ddf-d59b-0dc31bb1ee5c"
      },
      "outputs": [
        {
          "data": {
            "text/plain": [
              "'DarshanDarshanDarshan'"
            ]
          },
          "execution_count": 7,
          "metadata": {},
          "output_type": "execute_result"
        }
      ],
      "source": [
        "#repeating string\n",
        "name1*3"
      ]
    },
    {
      "cell_type": "code",
      "execution_count": null,
      "metadata": {
        "id": "yPsOtfRZpc4o",
        "outputId": "a44a42cd-2b24-4108-992c-86add8cbb89a"
      },
      "outputs": [
        {
          "data": {
            "text/plain": [
              "'Darshan_S_Darshan_S_Darshan_S_'"
            ]
          },
          "execution_count": 8,
          "metadata": {},
          "output_type": "execute_result"
        }
      ],
      "source": [
        "(name1+\"_\"+name2+\"_\")*3"
      ]
    },
    {
      "cell_type": "code",
      "execution_count": null,
      "metadata": {
        "id": "ykIEz4gipc4o",
        "outputId": "f210be09-5643-473a-bf67-c1ca37b5c901"
      },
      "outputs": [
        {
          "name": "stdout",
          "output_type": "stream",
          "text": [
            "  hello there how are you?    \n",
            "30\n",
            "  hello there how are you?\n",
            "26\n",
            "hello there how are you?    \n",
            "28\n",
            "hello there how are you?\n",
            "24 \n",
            "\n",
            "['', '', 'hello', 'there', 'how', 'are', 'you?', '', '', '', ''] \n",
            "\n",
            "['hello', 'there', 'how', 'are', 'you?'] \n",
            "\n",
            "['hello', 'there', 'how', 'are', 'you?'] \n",
            "\n",
            "blah blah blah%%% \n",
            "\n",
            "blah blah blah\n"
          ]
        }
      ],
      "source": [
        "#Removing spaces\n",
        "sentense = \"  hello there how are you?    \"\n",
        "sen =\"blah blah blah%%%\"\n",
        "print(sentense)\n",
        "print(len(sentense))\n",
        "\n",
        "print(sentense.rstrip())\n",
        "print(len(sentense.rstrip()))  ### removing spcae at right side.\n",
        "\n",
        "print(sentense.lstrip())       ### removing spaces at left side.\n",
        "print(len(sentense.lstrip()))\n",
        "\n",
        "\n",
        "print(sentense.strip())       ### removing space at both sides.\n",
        "print(len(sentense.strip()),\"\\n\")\n",
        "\n",
        "\n",
        "print(sentense.split(\" \"),\"\\n\")  ### splitting the sentenses into words whereever there is a space.\n",
        "\n",
        "print(sentense.strip().split(\" \"),\"\\n\")  ### removing spaces first, then splitting.\n",
        "\n",
        "new_var = sentense.strip().split(\" \")\n",
        "print(new_var,\"\\n\")\n",
        "\n",
        "print(sen,\"\\n\")\n",
        "print(sen.strip(\"%\"))  ### removing the undesired characters\n"
      ]
    },
    {
      "cell_type": "code",
      "execution_count": null,
      "metadata": {
        "id": "RBExD4mGpc4o"
      },
      "outputs": [],
      "source": []
    },
    {
      "cell_type": "code",
      "execution_count": null,
      "metadata": {
        "id": "JoJ5ZxHTpc4o"
      },
      "outputs": [],
      "source": []
    },
    {
      "cell_type": "code",
      "execution_count": null,
      "metadata": {
        "id": "02rz2tqspc4o",
        "outputId": "af5fc1bb-863e-433c-fd22-c432e0a5365a"
      },
      "outputs": [
        {
          "name": "stdout",
          "output_type": "stream",
          "text": [
            "What is your name?\n",
            "Sanju\n",
            "It is good to meet you, Sanju\n",
            "It is good to meet you,  Sanju\n",
            "Hi i'm Sanju, It is good to meet you, Darshan S\n",
            "Hi i'm Darshan S, It is good to meet you, Sanju\n"
          ]
        }
      ],
      "source": [
        "#Accepting values during runtime\n",
        "print('What is your name?')   # ask for their name\n",
        "myName = input()\n",
        "\n",
        "print('It is good to meet you, {}'.format(myName))\n",
        "##or you can print like\n",
        "\n",
        "print('It is good to meet you, ',myName)\n",
        "\n",
        "#printing multiple vatiables. using name1 and name2 used in the above section\n",
        "\n",
        "print(\"Hi i'm {0}, It is good to meet you, {1} {2}\".format(myName,name1,name2))\n",
        "\n",
        "print(\"Hi i'm {1} {2}, It is good to meet you, {0}\".format(myName,name1,name2))\n"
      ]
    },
    {
      "cell_type": "code",
      "execution_count": null,
      "metadata": {
        "id": "SvJVd3-bpc4p",
        "outputId": "1e2595a7-d799-4263-9f55-c2a55d8177e1"
      },
      "outputs": [
        {
          "name": "stdout",
          "output_type": "stream",
          "text": [
            "Sanju\n"
          ]
        },
        {
          "data": {
            "text/plain": [
              "6"
            ]
          },
          "execution_count": 11,
          "metadata": {},
          "output_type": "execute_result"
        }
      ],
      "source": [
        "#length function\n",
        "print(myName)\n",
        "len('myName')"
      ]
    },
    {
      "cell_type": "code",
      "execution_count": null,
      "metadata": {
        "id": "650-bt_Qpc4p",
        "outputId": "5453f396-1531-4121-e7fb-edc37cc38c3f"
      },
      "outputs": [
        {
          "name": "stdout",
          "output_type": "stream",
          "text": [
            "10\n",
            "<class 'int'>\n",
            "10\n",
            "<class 'str'>\n"
          ]
        }
      ],
      "source": [
        "#converting integer or any other data type to string.\n",
        "print(a)\n",
        "print(type(a))\n",
        "print(str(a))\n",
        "print(type(str(a)))"
      ]
    },
    {
      "cell_type": "code",
      "execution_count": null,
      "metadata": {
        "id": "OudYvZRUpc4p",
        "outputId": "e33a93ab-0e07-429b-e971-9368f7cc4ec3"
      },
      "outputs": [
        {
          "data": {
            "text/plain": [
              "'-3.14'"
            ]
          },
          "execution_count": 13,
          "metadata": {},
          "output_type": "execute_result"
        }
      ],
      "source": [
        "str(-3.14)"
      ]
    },
    {
      "cell_type": "code",
      "execution_count": null,
      "metadata": {
        "id": "vb4kA-_Ipc4p"
      },
      "outputs": [],
      "source": []
    },
    {
      "cell_type": "markdown",
      "metadata": {
        "id": "U_8gYaxBpc4p"
      },
      "source": [
        "### Boolean Operations"
      ]
    },
    {
      "cell_type": "code",
      "execution_count": null,
      "metadata": {
        "id": "wPLm79FNpc4p",
        "outputId": "2f84f6ad-4b35-4605-a096-9c69e988917a"
      },
      "outputs": [
        {
          "data": {
            "text/plain": [
              "True"
            ]
          },
          "execution_count": 14,
          "metadata": {},
          "output_type": "execute_result"
        }
      ],
      "source": [
        "5 > 3"
      ]
    },
    {
      "cell_type": "code",
      "execution_count": null,
      "metadata": {
        "id": "SF3gji5rpc4q",
        "outputId": "f84d94ef-3fa8-4c06-c35b-d81e4ca44ebf"
      },
      "outputs": [
        {
          "data": {
            "text/plain": [
              "False"
            ]
          },
          "execution_count": 15,
          "metadata": {},
          "output_type": "execute_result"
        }
      ],
      "source": [
        "42 == '42'"
      ]
    },
    {
      "cell_type": "code",
      "execution_count": null,
      "metadata": {
        "id": "0lwmNAn-pc4q",
        "outputId": "0caa73f3-0b65-4df6-d47a-181e15cd36ed"
      },
      "outputs": [
        {
          "data": {
            "text/plain": [
              "True"
            ]
          },
          "execution_count": 16,
          "metadata": {},
          "output_type": "execute_result"
        }
      ],
      "source": [
        "(4 < 5) and (5 < 6)"
      ]
    },
    {
      "cell_type": "code",
      "execution_count": null,
      "metadata": {
        "id": "EYubHghwpc4q",
        "outputId": "54f63beb-28c3-4768-cda4-ca42a51a88a2"
      },
      "outputs": [
        {
          "data": {
            "text/plain": [
              "True"
            ]
          },
          "execution_count": 17,
          "metadata": {},
          "output_type": "execute_result"
        }
      ],
      "source": [
        "2 + 2 == 4 and not 2 + 2 == 5 and 2 * 2 == 2 + 2\n",
        "\n",
        "#(2 + 2 == 4) and (not (2 + 2 == 5)) and (2 * 2 == 2 + 2)"
      ]
    },
    {
      "cell_type": "code",
      "execution_count": null,
      "metadata": {
        "id": "_eX1TF0tpc4q"
      },
      "outputs": [],
      "source": []
    },
    {
      "cell_type": "markdown",
      "metadata": {
        "id": "rIBq8vDJpc4q"
      },
      "source": [
        "### Increment/Decrement Operations"
      ]
    },
    {
      "cell_type": "code",
      "execution_count": null,
      "metadata": {
        "scrolled": true,
        "id": "gElDwNG4pc4q",
        "outputId": "e17dbe38-05c5-4c29-e297-8b88f7019221"
      },
      "outputs": [
        {
          "name": "stdout",
          "output_type": "stream",
          "text": [
            "ogiginal inc 9\n"
          ]
        }
      ],
      "source": [
        "### Increment/Decrement Operations\n",
        "\n",
        "inc=9\n",
        "print(\"ogiginal inc\",inc)"
      ]
    },
    {
      "cell_type": "code",
      "execution_count": null,
      "metadata": {
        "id": "t2FryUJMpc4r",
        "outputId": "6560aa87-c3e9-44a8-dd24-7359d32e65a3"
      },
      "outputs": [
        {
          "name": "stdout",
          "output_type": "stream",
          "text": [
            "enter a sample number\n",
            "85\n",
            "ogiginal inc 85\n",
            "updated/incremented inc 88\n",
            "updated/decremented inc 83\n"
          ]
        }
      ],
      "source": [
        "### Increment/Decrement Operations\n",
        "print(\"enter a sample number\")\n",
        "#inc=9\n",
        "inc=int(input())\n",
        "print(\"ogiginal inc\",inc)\n",
        "\n",
        "inc+=3 ## it is equivalent to inc=inc+3\n",
        "print(\"updated/incremented inc\",inc)\n",
        "\n",
        "inc-=5  ## it is equivalent to inc=inc-5\n",
        "print(\"updated/decremented inc\",inc)"
      ]
    },
    {
      "cell_type": "code",
      "execution_count": null,
      "metadata": {
        "id": "5suageh4pc4r"
      },
      "outputs": [],
      "source": []
    },
    {
      "cell_type": "markdown",
      "metadata": {
        "id": "rQDPwoqtpc4r"
      },
      "source": [
        "### More string opeations"
      ]
    },
    {
      "cell_type": "code",
      "execution_count": null,
      "metadata": {
        "id": "coDtFhJ0pc4r",
        "outputId": "8c41b9c7-7a4c-4e95-8a3c-fdedeb701a1a"
      },
      "outputs": [
        {
          "name": "stdout",
          "output_type": "stream",
          "text": [
            "7 Apples\n",
            "0th Location : 7\n",
            "5th Location : l\n",
            "2nd Location : A\n",
            "0th to 4th Location : 7 App\n",
            "note : when giving range it takes n-1 value for the upper limit\n",
            "Hope you got the idea by now\n"
          ]
        }
      ],
      "source": [
        "m_str_ops =\"7 Apples\"\n",
        "print(m_str_ops)\n",
        "print(\"0th Location :\",m_str_ops[0])\n",
        "print(\"5th Location :\",m_str_ops[5])\n",
        "print(\"2nd Location :\",m_str_ops[2])\n",
        "\n",
        "print(\"0th to 4th Location :\",m_str_ops[0:5])\n",
        "print(\"note : when giving range it takes n-1 value for the upper limit\")\n",
        "\n",
        "print(\"Hope you got the idea by now\")"
      ]
    },
    {
      "cell_type": "code",
      "execution_count": null,
      "metadata": {
        "id": "FnLRY5Gcpc4s",
        "outputId": "14a9d10c-f462-4352-eca6-813357533dba"
      },
      "outputs": [
        {
          "name": "stdout",
          "output_type": "stream",
          "text": [
            "Hello there, How are you?\n",
            "<class 'str'>\n",
            "splitting the sentense by ',' into a list \n",
            "['Hello there', ' How are you?']\n",
            "<class 'list'>\n",
            "\n",
            "Rejoining the splitted words\n"
          ]
        },
        {
          "data": {
            "text/plain": [
              "'Hello there, How are you?'"
            ]
          },
          "execution_count": 21,
          "metadata": {},
          "output_type": "execute_result"
        }
      ],
      "source": [
        "#Split and Join\n",
        "\n",
        "my_words=\"Hello there, How are you?\"\n",
        "print(my_words)\n",
        "print(type(my_words))\n",
        "\n",
        "print(\"splitting the sentense by ',' into a list \")\n",
        "my_words_split=my_words.split(',')\n",
        "\n",
        "\n",
        "print(my_words_split)\n",
        "print(type(my_words_split))\n",
        "\n",
        "print(\"\\nRejoining the splitted words\")\n",
        "#print(\" \".join(my_words_split))\n",
        "\",\".join(my_words_split)"
      ]
    },
    {
      "cell_type": "markdown",
      "metadata": {
        "id": "2Il8grTVpc4s"
      },
      "source": [
        "## Data Structures"
      ]
    },
    {
      "cell_type": "markdown",
      "metadata": {
        "id": "KNd9dBx-pc4s"
      },
      "source": [
        "#### The data structure available in python are as follows\n",
        "List <br> Tuples <br> Dictonary and <br> Sets"
      ]
    },
    {
      "cell_type": "markdown",
      "metadata": {
        "id": "zjqktIuPpc4s"
      },
      "source": [
        "#### List\n",
        "List (denoted by square brackets) <br>\n",
        "elements can be a character, a string or even be a list."
      ]
    },
    {
      "cell_type": "code",
      "execution_count": null,
      "metadata": {
        "id": "FbP7dLX3pc4s",
        "outputId": "578a2f82-9a81-4f69-e633-15c0bcc9289e"
      },
      "outputs": [
        {
          "name": "stdout",
          "output_type": "stream",
          "text": [
            "['python', 'R', 'SAS', 'BLAH', 'BLAH2', 'C', 'C++', 'Scala', 42]\n",
            "indexing examples\n",
            "0th elemet python\n",
            "2nd element SAS\n",
            "0-3rd element ['python', 'R', 'SAS', 'BLAH']\n",
            "here the count start from 0, and to get to 3rd element we need to follow the rule n+1\n",
            "i.e to get to 3rd we have give 0:4\n"
          ]
        }
      ],
      "source": [
        "trial_list =[]\n",
        "da_lang = ['python','R','SAS','BLAH','BLAH2','C','C++','Scala',42]\n",
        "\n",
        "print(da_lang)\n",
        "\n",
        "#indexing, similar as above.\n",
        "print(\"indexing examples\")\n",
        "print(\"0th elemet\",da_lang[0])\n",
        "print(\"2nd element\",da_lang[2])\n",
        "\n",
        "print(\"0-3rd element\",da_lang[0:4])\n",
        "print(\"here the count start from 0, and to get to 3rd element we need to follow the rule n+1\")\n",
        "print(\"i.e to get to 3rd we have give 0:4\")"
      ]
    },
    {
      "cell_type": "code",
      "execution_count": null,
      "metadata": {
        "id": "ZjohDHulpc4s",
        "outputId": "226f7fab-6b64-4e3a-c50f-327fc60bc76f"
      },
      "outputs": [
        {
          "name": "stdout",
          "output_type": "stream",
          "text": [
            "removing 42 from the da_lang list, with command da_lang.pop()\n",
            "['python', 'R', 'SAS', 'BLAH', 'BLAH2', 'C', 'C++', 'Scala']\n",
            "Note : if you keep on running this again and again, it'll keep on deleting the last element form the list\n",
            "pls give it a try, when you get error pls execute the line above to recreate the list\n"
          ]
        }
      ],
      "source": [
        "#functions in a list.\n",
        "#pop split join append\n",
        "\n",
        "print(\"removing 42 from the da_lang list, with command da_lang.pop()\")\n",
        "da_lang.pop() ## it deletes the last element.\n",
        "print(da_lang)\n",
        "print(\"Note : if you keep on running this again and again, it'll keep on deleting the last element form the list\")\n",
        "print(\"pls give it a try, when you get error pls execute the line above to recreate the list\")"
      ]
    },
    {
      "cell_type": "code",
      "execution_count": null,
      "metadata": {
        "id": "hEyZiRBbpc4s",
        "outputId": "308ef1ce-640f-4c34-d656-ef0a6e7df9aa"
      },
      "outputs": [
        {
          "name": "stdout",
          "output_type": "stream",
          "text": [
            "['python', 'R', 'SAS', 'BLAH2', 'C', 'C++', 'Scala']\n"
          ]
        }
      ],
      "source": [
        "#to remove an element has two options\n",
        "# 1) if you know the location we can use pop() function\n",
        "# 2) if you know the data content we can use remove function\n",
        "#example da_lang.remove('BLAH')\n",
        "da_lang.remove('BLAH')\n",
        "print(da_lang)"
      ]
    },
    {
      "cell_type": "code",
      "execution_count": null,
      "metadata": {
        "id": "xCOGYCmTpc4t",
        "outputId": "bcd6acc9-e6c0-4e46-c9da-1b47877f4a2e"
      },
      "outputs": [
        {
          "name": "stdout",
          "output_type": "stream",
          "text": [
            "to remove the word blah2 for the list, its at location 3, Soooo\n",
            "['python', 'R', 'SAS', 'C', 'C++', 'Scala']\n"
          ]
        }
      ],
      "source": [
        "#to remove specific value form a list.\n",
        "\n",
        "print(\"to remove the word blah2 for the list, its at location 3, Soooo\")\n",
        "da_lang.pop(3)\n",
        "print(da_lang)\n"
      ]
    },
    {
      "cell_type": "code",
      "execution_count": null,
      "metadata": {
        "id": "8qreEBHXpc4t",
        "outputId": "d59c277c-86dc-4363-a657-b37a3d68cff5"
      },
      "outputs": [
        {
          "name": "stdout",
          "output_type": "stream",
          "text": [
            "Adding a new language (Ruby) to the list, \n",
            "['python', 'R', 'SAS', 'C', 'C++', 'Scala', 'Ruby']\n"
          ]
        }
      ],
      "source": [
        "#to add to the list at the end\n",
        "print(\"Adding a new language (Ruby) to the list, \")\n",
        "da_lang.append(\"Ruby\")\n",
        "print(da_lang)"
      ]
    },
    {
      "cell_type": "code",
      "execution_count": null,
      "metadata": {
        "id": "_5vaq8mRpc4t",
        "outputId": "59746ee9-93bb-4856-8b4a-86d1db10f75c"
      },
      "outputs": [
        {
          "name": "stdout",
          "output_type": "stream",
          "text": [
            "['python', 'R', 'SAS', 'C', 'C++', 'Scala', 'Ruby']\n",
            "['English', 'python', 'R', 'SAS', 'C', 'C++', 'Scala', 'Ruby']\n"
          ]
        }
      ],
      "source": [
        "#adding to any specific location\n",
        "print(da_lang)\n",
        "da_lang.insert(0,'English')  ###inserting the word English at 0th Location\n",
        "print(da_lang)"
      ]
    },
    {
      "cell_type": "code",
      "execution_count": null,
      "metadata": {
        "id": "4oZSTRYopc4t",
        "outputId": "9871ceac-4467-426c-e723-6a748ce976d4"
      },
      "outputs": [
        {
          "name": "stdout",
          "output_type": "stream",
          "text": [
            "Before \n",
            " ['English', 'python', 'R', 'SAS', 'C', 'C++', 'Scala', 'Ruby']\n",
            "\n",
            "After\n",
            " ['Malayalam', 'python', 'R', 'SAS', 'C', 'C++', 'Scala', 'Ruby']\n"
          ]
        }
      ],
      "source": [
        "#Updating the values of the list\n",
        "#Changing English to Malayalam\n",
        "\n",
        "print(\"Before \\n\",da_lang)\n",
        "da_lang[0]='Malayalam'\n",
        "print(\"\\nAfter\\n\",da_lang)"
      ]
    },
    {
      "cell_type": "code",
      "execution_count": null,
      "metadata": {
        "id": "2Qs632zipc4t",
        "outputId": "3c02a563-3f92-4074-dfe1-dd571bc9814b"
      },
      "outputs": [
        {
          "name": "stdout",
          "output_type": "stream",
          "text": [
            "[3, 8, 12, 5, 9]\n",
            "sorted nums [3, 5, 8, 9, 12]\n",
            "length of nums 5\n",
            "max of nums 12\n",
            "min of nums 3\n"
          ]
        }
      ],
      "source": [
        "#Numeric operations in list\n",
        "\n",
        "nums=[3,8,12,5,9]\n",
        "print(nums)\n",
        "print(\"sorted nums\",sorted(nums))\n",
        "print(\"length of nums\",len(nums))\n",
        "print(\"max of nums\",max(nums))\n",
        "print(\"min of nums\",min(nums))"
      ]
    },
    {
      "cell_type": "code",
      "execution_count": null,
      "metadata": {
        "id": "cePMflLxpc4t",
        "outputId": "52b0df32-c225-495a-9ebb-ed3266b2802c"
      },
      "outputs": [
        {
          "name": "stdout",
          "output_type": "stream",
          "text": [
            "[[1, 2, 3], [4, 5, 6]]\n"
          ]
        },
        {
          "data": {
            "text/plain": [
              "5"
            ]
          },
          "execution_count": 30,
          "metadata": {},
          "output_type": "execute_result"
        }
      ],
      "source": [
        "#nested list\n",
        "nest_list = [[1,2,3],[4,5,6]]\n",
        "print(nest_list)\n",
        "\n",
        "nest_list[1][1]\n"
      ]
    },
    {
      "cell_type": "code",
      "execution_count": null,
      "metadata": {
        "id": "YP66cBBipc4u"
      },
      "outputs": [],
      "source": []
    },
    {
      "cell_type": "markdown",
      "metadata": {
        "id": "8-Jxkgtypc4u"
      },
      "source": [
        "### Tuples"
      ]
    },
    {
      "cell_type": "markdown",
      "metadata": {
        "id": "pnV_xXripc4u"
      },
      "source": [
        "it is very much similar to list, but it cannot be edited <br> so pop append insert etc functions will not work in tuples\n",
        "it is denoted by () brackets"
      ]
    },
    {
      "cell_type": "code",
      "execution_count": null,
      "metadata": {
        "id": "BHdHF_Lnpc4u",
        "outputId": "9fe22fc6-e875-4b75-ebbc-d701135838e2"
      },
      "outputs": [
        {
          "name": "stdout",
          "output_type": "stream",
          "text": [
            "('a', 'b', 'c')\n",
            "<class 'tuple'>\n"
          ]
        }
      ],
      "source": [
        "tup=(\"a\",\"b\",\"c\")\n",
        "print(tup)\n",
        "print(type(tup))"
      ]
    },
    {
      "cell_type": "code",
      "execution_count": null,
      "metadata": {
        "id": "McF3zaotpc4u"
      },
      "outputs": [],
      "source": [
        "# to change a tuple to a list\n",
        "da_tup = list(tup)"
      ]
    },
    {
      "cell_type": "code",
      "execution_count": null,
      "metadata": {
        "id": "t1cKO6Pepc4u",
        "outputId": "958e8e75-c9c9-40ac-d74f-f08a4a6f0c61"
      },
      "outputs": [
        {
          "data": {
            "text/plain": [
              "list"
            ]
          },
          "execution_count": 33,
          "metadata": {},
          "output_type": "execute_result"
        }
      ],
      "source": [
        "type(da_tup)"
      ]
    },
    {
      "cell_type": "code",
      "execution_count": null,
      "metadata": {
        "id": "xCGI0qQHpc4u",
        "outputId": "73980507-36dc-4f64-93a2-2207d41e793a"
      },
      "outputs": [
        {
          "data": {
            "text/plain": [
              "tuple"
            ]
          },
          "execution_count": 34,
          "metadata": {},
          "output_type": "execute_result"
        }
      ],
      "source": [
        "#to convet a list to a tuple\n",
        "tup_2 = tuple(da_tup)\n",
        "type(tup_2)"
      ]
    },
    {
      "cell_type": "code",
      "execution_count": null,
      "metadata": {
        "id": "UMjFB1xEpc4v"
      },
      "outputs": [],
      "source": []
    },
    {
      "cell_type": "markdown",
      "metadata": {
        "id": "WNiaoXLppc4v"
      },
      "source": [
        "### Dictionary"
      ]
    },
    {
      "cell_type": "markdown",
      "metadata": {
        "id": "pacP5DKjpc4v"
      },
      "source": [
        "Data is stored in a key value pair, for example <br> roll no 1 : ram <br> roll no 2 : pavi <br> roll no 3 : ravi <br>\n",
        "so when roll no 2 is called its corresponding value is retrived and used."
      ]
    },
    {
      "cell_type": "code",
      "execution_count": null,
      "metadata": {
        "id": "1CMqOEW3pc4v",
        "outputId": "ea0c3fd1-3df9-4f50-e6e8-065eb9891def"
      },
      "outputs": [
        {
          "name": "stdout",
          "output_type": "stream",
          "text": [
            "{'user_1': 'London', 'user_2': 'Lisbon', 'user_3': 'Paris'}\n"
          ]
        }
      ],
      "source": [
        "creds = {'user_1' : 'London', 'user_2' : 'Lisbon', 'user_3': 'Paris'}\n",
        "print(creds)"
      ]
    },
    {
      "cell_type": "code",
      "execution_count": null,
      "metadata": {
        "id": "lMtRcm6Dpc4v",
        "outputId": "e6d1e0f3-811b-4388-8d58-9643b04ba1e5"
      },
      "outputs": [
        {
          "name": "stdout",
          "output_type": "stream",
          "text": [
            "Lisbon\n"
          ]
        }
      ],
      "source": [
        "print(creds['user_2'])"
      ]
    },
    {
      "cell_type": "markdown",
      "metadata": {
        "id": "BxRaSTH6pc4v"
      },
      "source": [
        "#### Nested Dictonary"
      ]
    },
    {
      "cell_type": "code",
      "execution_count": null,
      "metadata": {
        "id": "9qY22bIPpc4v"
      },
      "outputs": [],
      "source": [
        "myfamily = {\n",
        "  \"child1\" : {\n",
        "    \"name\" : \"Emil\",\n",
        "    \"year\" : 2004\n",
        "  },\n",
        "  \"child2\" : {\n",
        "    \"name\" : \"Tobias\",\n",
        "    \"year\" : 2007\n",
        "  },\n",
        "  \"child3\" : {\n",
        "    \"name\" : \"Linus\",\n",
        "    \"year\" : 2011\n",
        "  }\n",
        "}\n"
      ]
    },
    {
      "cell_type": "code",
      "execution_count": null,
      "metadata": {
        "id": "e_YbhTXSpc4w",
        "outputId": "53538c8b-1822-4ecf-bdb4-78075bdd8bb2"
      },
      "outputs": [
        {
          "data": {
            "text/plain": [
              "2004"
            ]
          },
          "execution_count": 38,
          "metadata": {},
          "output_type": "execute_result"
        }
      ],
      "source": [
        "myfamily[\"child1\"][\"year\"]"
      ]
    },
    {
      "cell_type": "code",
      "execution_count": null,
      "metadata": {
        "id": "wpciFWQ9pc4w",
        "outputId": "27390b4a-f2a4-461c-d21e-dc52d25aa110"
      },
      "outputs": [
        {
          "data": {
            "text/plain": [
              "2004"
            ]
          },
          "execution_count": 39,
          "metadata": {},
          "output_type": "execute_result"
        }
      ],
      "source": [
        "myfamily.get(\"child1\").get(\"year\")"
      ]
    },
    {
      "cell_type": "code",
      "execution_count": null,
      "metadata": {
        "id": "cMCI7HkKpc4w"
      },
      "outputs": [],
      "source": []
    },
    {
      "cell_type": "markdown",
      "metadata": {
        "id": "Xf1yQWHOpc4w"
      },
      "source": [
        "### Sets"
      ]
    },
    {
      "cell_type": "markdown",
      "metadata": {
        "id": "duRZOhaxpc4w"
      },
      "source": [
        "set is an unordered collection of unique elements."
      ]
    },
    {
      "cell_type": "code",
      "execution_count": null,
      "metadata": {
        "id": "CLVjBAcTpc4w",
        "outputId": "13ca745b-c03e-49de-d871-14e111adbd37"
      },
      "outputs": [
        {
          "name": "stdout",
          "output_type": "stream",
          "text": [
            "<class 'list'>\n",
            "\n",
            " {1, 2, 3, 4, 5, 6}\n",
            "<class 'set'>\n",
            "\n",
            " {1, 2, 5, 6, 7, 9, 10}\n",
            "<class 'set'>\n"
          ]
        }
      ],
      "source": [
        "seta = [1,2,3,1,2,5,4,6]\n",
        "setb = [7,5,5,6,1,2,9,10]\n",
        "print(type(seta))\n",
        "set_a =set(seta)\n",
        "set_b =set(setb)\n",
        "\n",
        "print(\"\\n\",set_a)\n",
        "print(type(set_a))\n",
        "\n",
        "print(\"\\n\",set_b)\n",
        "print(type(set_b))\n"
      ]
    },
    {
      "cell_type": "code",
      "execution_count": null,
      "metadata": {
        "id": "PSJbBrE3pc4w",
        "outputId": "b235b641-8522-484f-f594-ab87fb7586da"
      },
      "outputs": [
        {
          "data": {
            "text/plain": [
              "{3, 4}"
            ]
          },
          "execution_count": 41,
          "metadata": {},
          "output_type": "execute_result"
        }
      ],
      "source": [
        "#what are all the elements present in set_a and not in set_b\n",
        "set_a.difference(set_b)"
      ]
    },
    {
      "cell_type": "code",
      "execution_count": null,
      "metadata": {
        "id": "NBBhwSaupc4w",
        "outputId": "c517b323-ee2b-4024-d7d8-be57c608dfbc"
      },
      "outputs": [
        {
          "data": {
            "text/plain": [
              "{1, 2, 3, 4, 5, 6, 7, 9, 10}"
            ]
          },
          "execution_count": 42,
          "metadata": {},
          "output_type": "execute_result"
        }
      ],
      "source": [
        "#combining both the sets together\n",
        "set_a.union(set_b)"
      ]
    },
    {
      "cell_type": "code",
      "execution_count": null,
      "metadata": {
        "id": "SHBezi86pc4x",
        "outputId": "cf71624c-bfc6-4feb-d52b-14b3dd48dd33"
      },
      "outputs": [
        {
          "data": {
            "text/plain": [
              "{1, 2, 5, 6}"
            ]
          },
          "execution_count": 43,
          "metadata": {},
          "output_type": "execute_result"
        }
      ],
      "source": [
        "#inetsection  --> it prints out the common in  both\n",
        "set_a.intersection(set_b)"
      ]
    },
    {
      "cell_type": "code",
      "execution_count": null,
      "metadata": {
        "id": "urVpVnh6pc4x",
        "outputId": "f2abc31d-24b5-4e6b-a6cb-a03a30395da7"
      },
      "outputs": [
        {
          "name": "stdout",
          "output_type": "stream",
          "text": [
            "{1, 2, 5, 6, 7, 9, 10}\n"
          ]
        }
      ],
      "source": [
        "#inetsection update --> update the result form intersection to seta || inshort replace seta with the  intersection value.\n",
        "set_a.intersection_update(set_b)\n",
        "print(set_b)"
      ]
    },
    {
      "cell_type": "code",
      "execution_count": null,
      "metadata": {
        "id": "c6UPM1nXpc4x",
        "outputId": "aeea1fc8-8293-4e01-f948-d76b74e7f7ce"
      },
      "outputs": [
        {
          "data": {
            "text/plain": [
              "{1, 2, 5, 6}"
            ]
          },
          "execution_count": 45,
          "metadata": {},
          "output_type": "execute_result"
        }
      ],
      "source": [
        "set_a"
      ]
    },
    {
      "cell_type": "code",
      "execution_count": null,
      "metadata": {
        "id": "L87RkYl9pc4x"
      },
      "outputs": [],
      "source": []
    },
    {
      "cell_type": "markdown",
      "metadata": {
        "id": "blPt-vwLpc4z"
      },
      "source": [
        "## Day 2"
      ]
    },
    {
      "cell_type": "markdown",
      "metadata": {
        "id": "SY_x3ZT6pc4z"
      },
      "source": [
        "### Conditions - If Else Statement"
      ]
    },
    {
      "cell_type": "markdown",
      "metadata": {
        "id": "KF4yqdhGpc4z"
      },
      "source": [
        "the 3 statemensts are<br>1) if <br> 2) else <br> 3) elif --> else-if"
      ]
    },
    {
      "cell_type": "code",
      "execution_count": null,
      "metadata": {
        "id": "veWk3Mkdpc4z",
        "outputId": "b174d895-e4ec-4ed3-ba31-6cc3896fcd98"
      },
      "outputs": [
        {
          "name": "stdout",
          "output_type": "stream",
          "text": [
            "enter a value for score between 0-100\n",
            "75\n"
          ]
        }
      ],
      "source": [
        "#eg\n",
        "print(\"enter a value for score between 0-100\")\n",
        "score =int(input())"
      ]
    },
    {
      "cell_type": "code",
      "execution_count": null,
      "metadata": {
        "id": "9bfW9pMKpc40",
        "outputId": "42e63d94-9430-4ba3-c001-4ee15fbd8ca9"
      },
      "outputs": [
        {
          "name": "stdout",
          "output_type": "stream",
          "text": [
            "First Class\n"
          ]
        }
      ],
      "source": [
        "if score == 100:\n",
        "    print(\"Perfect\")\n",
        "elif 85<=score<100 :\n",
        "    print(\"Distinction\")\n",
        "elif 70<=score<85 :\n",
        "    print(\"First Class\")\n",
        "elif 55<=score<70 :\n",
        "    print(\"Second Class\")\n",
        "elif 40<=score<45 :\n",
        "    print(\"Third Class\")\n",
        "else :\n",
        "    print(\"Failed\")"
      ]
    },
    {
      "cell_type": "markdown",
      "metadata": {
        "id": "hHTLRJolpc40"
      },
      "source": [
        "#### Multiple statements in a single line."
      ]
    },
    {
      "cell_type": "code",
      "execution_count": null,
      "metadata": {
        "id": "7NBStGCUpc40",
        "outputId": "539cc446-0ca2-42ab-a738-fc6a9b4bcaaa"
      },
      "outputs": [
        {
          "name": "stdout",
          "output_type": "stream",
          "text": [
            "ER1\n"
          ]
        }
      ],
      "source": [
        "ER0 = 330\n",
        "ER1 = 350\n",
        "print(\"ER0\") if ER0 > ER1 else print(\"=\") if ER0 == ER1 else print(\"ER1\")"
      ]
    },
    {
      "cell_type": "markdown",
      "metadata": {
        "id": "ILpDfGxXpc40"
      },
      "source": [
        "### Looping Statements"
      ]
    },
    {
      "cell_type": "markdown",
      "metadata": {
        "id": "RsSx0oRspc40"
      },
      "source": [
        "##### For Loop"
      ]
    },
    {
      "cell_type": "code",
      "execution_count": null,
      "metadata": {
        "id": "-wJ3Kx_Spc40",
        "outputId": "4a56bad8-4b73-4090-b698-e0d17262b0c8"
      },
      "outputs": [
        {
          "name": "stdout",
          "output_type": "stream",
          "text": [
            "0\n",
            "3\n",
            "6\n",
            "9\n",
            "12\n",
            "15\n",
            "18\n",
            "21\n",
            "24\n",
            "27\n",
            "30\n"
          ]
        }
      ],
      "source": [
        "#here in (0,31,3) || 0 --> starting ; 31 --> Ending ; 3 --> increment\n",
        "for i in range(0,31,3):\n",
        "    print(i)"
      ]
    },
    {
      "cell_type": "markdown",
      "metadata": {
        "id": "EXlwKtoIpc40"
      },
      "source": [
        "##### While Loop"
      ]
    },
    {
      "cell_type": "code",
      "execution_count": null,
      "metadata": {
        "id": "JZdMsdUJpc41",
        "outputId": "acdc0bd0-44fc-416b-ddb2-a196f5267b43"
      },
      "outputs": [
        {
          "name": "stdout",
          "output_type": "stream",
          "text": [
            "25\n",
            "30\n",
            "35\n",
            "40\n",
            "45\n",
            "50\n",
            "55\n",
            "the total value is: 245\n"
          ]
        }
      ],
      "source": [
        "#While Loop  || No predefined execution limit\n",
        "start =20;\n",
        "total =0;\n",
        "\n",
        "while start<=50 :\n",
        "    total+=start\n",
        "    start+=5\n",
        "    print(start)  ### till here is the body of the while loop function.\n",
        "######end of loop\n",
        "print(\"the total value is:\",total)"
      ]
    },
    {
      "cell_type": "markdown",
      "metadata": {
        "id": "IqmCVjJMpc41"
      },
      "source": [
        "### Nested Loops"
      ]
    },
    {
      "cell_type": "markdown",
      "metadata": {
        "id": "64RZHw4Fpc41"
      },
      "source": [
        "A nested loop is a loop inside a loop. <br>\n",
        "The \"inner loop\" will be executed one time for each iteration of the \"outer loop\":"
      ]
    },
    {
      "cell_type": "code",
      "execution_count": null,
      "metadata": {
        "id": "IpDQr8BKpc41",
        "outputId": "81b3e3b4-17b0-4ccb-f955-c9ebacf5431a"
      },
      "outputs": [
        {
          "name": "stdout",
          "output_type": "stream",
          "text": [
            "red apple\n",
            "red banana\n",
            "red cherry\n",
            "big apple\n",
            "big banana\n",
            "big cherry\n",
            "tasty apple\n",
            "tasty banana\n",
            "tasty cherry\n"
          ]
        }
      ],
      "source": [
        "adj = [\"red\", \"big\", \"tasty\"]\n",
        "fruits = [\"apple\", \"banana\", \"cherry\"]\n",
        "\n",
        "for x in adj:\n",
        "  for y in fruits:\n",
        "    print(x, y)"
      ]
    },
    {
      "cell_type": "markdown",
      "metadata": {
        "id": "x5pv1FP_pc41"
      },
      "source": [
        "### Break and Continue"
      ]
    },
    {
      "cell_type": "code",
      "execution_count": null,
      "metadata": {
        "id": "A-FMxXAWpc41",
        "outputId": "622b3f80-03b3-47cf-cb4f-4ea3e0d1e197"
      },
      "outputs": [
        {
          "name": "stdout",
          "output_type": "stream",
          "text": [
            "0\n",
            "1\n",
            "2\n",
            "3\n",
            "4\n",
            "5\n"
          ]
        }
      ],
      "source": [
        "#normal while loop\n",
        "i = 0\n",
        "while i < 6:\n",
        "  print(i)\n",
        "  i += 1"
      ]
    },
    {
      "cell_type": "code",
      "execution_count": null,
      "metadata": {
        "id": "lyCtyyRzpc41",
        "outputId": "c42d4565-6ace-4f58-c43a-8737df02c9ff"
      },
      "outputs": [
        {
          "name": "stdout",
          "output_type": "stream",
          "text": [
            "0\n",
            "1\n",
            "2\n",
            "3\n"
          ]
        }
      ],
      "source": [
        "### break statement, stopping at the point 3\n",
        "i = 0\n",
        "while i < 6:\n",
        "  print(i)\n",
        "  if i == 3:\n",
        "    break\n",
        "  i += 1"
      ]
    },
    {
      "cell_type": "code",
      "execution_count": null,
      "metadata": {
        "id": "ne9DCZOFpc41",
        "outputId": "2584720e-a8b6-4c4d-f0c7-d1ed91a9eacd"
      },
      "outputs": [
        {
          "name": "stdout",
          "output_type": "stream",
          "text": [
            "1\n",
            "2\n",
            "4\n",
            "5\n",
            "6\n"
          ]
        }
      ],
      "source": [
        "### Continue statement, skipp step 3\n",
        "i = 0\n",
        "while i < 6:\n",
        "  i += 1\n",
        "  if i == 3:\n",
        "    continue\n",
        "  print(i)"
      ]
    },
    {
      "cell_type": "code",
      "execution_count": null,
      "metadata": {
        "id": "V7o2yzWFpc42"
      },
      "outputs": [],
      "source": []
    },
    {
      "cell_type": "markdown",
      "metadata": {
        "id": "-3DM7nNepc42"
      },
      "source": [
        "### Comprehensions"
      ]
    },
    {
      "cell_type": "code",
      "execution_count": null,
      "metadata": {
        "id": "TrWfbLRxpc42"
      },
      "outputs": [],
      "source": [
        "square_lst =[]\n",
        "sqr_lst=[]"
      ]
    },
    {
      "cell_type": "code",
      "execution_count": null,
      "metadata": {
        "id": "FFVDpXm4pc42",
        "outputId": "96b501dc-1825-4b26-de47-95b5ec23230a"
      },
      "outputs": [
        {
          "name": "stdout",
          "output_type": "stream",
          "text": [
            "[1, 4, 9, 16, 25, 36, 49, 64, 81, 100]\n"
          ]
        }
      ],
      "source": [
        "#method 1 for printing square for a range of numbers\n",
        "for x in range (1,11,1) :\n",
        "    square_lst.append(x**2)\n",
        "\n",
        "print(square_lst)"
      ]
    },
    {
      "cell_type": "code",
      "execution_count": null,
      "metadata": {
        "id": "0E1MTx2mpc42",
        "outputId": "cab3174f-b842-415d-a45a-01285399d48c"
      },
      "outputs": [
        {
          "name": "stdout",
          "output_type": "stream",
          "text": [
            "[1, 4, 9, 16, 25, 36, 49, 64, 81, 100]\n"
          ]
        }
      ],
      "source": [
        "#method 2 for printing square for a range of numbers\n",
        "sqr_lst=[(x**2) for x in range(1,11,1)]\n",
        "print(sqr_lst)"
      ]
    },
    {
      "cell_type": "code",
      "execution_count": null,
      "metadata": {
        "id": "O2H6bAFCpc42"
      },
      "outputs": [],
      "source": []
    },
    {
      "cell_type": "code",
      "execution_count": null,
      "metadata": {
        "id": "e_BA7gnjpc42",
        "outputId": "43e42fcb-f021-43e3-c9e0-662dfe1adabc"
      },
      "outputs": [
        {
          "name": "stdout",
          "output_type": "stream",
          "text": [
            "['There', 'was', 'a', 'fox', 'which', 'was', 'brown', 'in', 'color', 'it', 'ran', 'fast']\n"
          ]
        }
      ],
      "source": [
        "para =[\"There was a fox\", \"which was brown in color\", \" it ran fast\"]\n",
        "wd_lst =[]\n",
        "\n",
        "for sentence in para :\n",
        "    for words in sentence.split():\n",
        "        wd_lst.append(words)\n",
        "\n",
        "print(wd_lst)"
      ]
    },
    {
      "cell_type": "code",
      "execution_count": null,
      "metadata": {
        "id": "QEpfdRhKpc43"
      },
      "outputs": [],
      "source": []
    },
    {
      "cell_type": "code",
      "execution_count": null,
      "metadata": {
        "id": "BKJIgUbMpc43",
        "outputId": "a4aae4a9-dc43-4793-f6c3-178d4c804ce9"
      },
      "outputs": [
        {
          "name": "stdout",
          "output_type": "stream",
          "text": [
            "['There', 'was', 'a', 'fox', 'which', 'was', 'brown', 'in', 'color', 'it', 'ran', 'fast']\n"
          ]
        }
      ],
      "source": [
        "wrd_lst = [words for sentence in para for words in sentence.split()]\n",
        "print(wrd_lst)"
      ]
    },
    {
      "cell_type": "code",
      "execution_count": null,
      "metadata": {
        "id": "Da5kxVfVpc43"
      },
      "outputs": [],
      "source": []
    },
    {
      "cell_type": "markdown",
      "metadata": {
        "id": "i76tNFR7pc43"
      },
      "source": [
        "### Functions"
      ]
    },
    {
      "cell_type": "markdown",
      "metadata": {
        "id": "HFqhN6Bzpc43"
      },
      "source": [
        "Function is any set of code. mostly used to run the same set of task at multiple sections in the program"
      ]
    },
    {
      "cell_type": "markdown",
      "metadata": {
        "id": "35DJmC6Xpc43"
      },
      "source": [
        "#### Syntax as follows\n",
        "def function_name(vaiable_optional) :  <br>\n",
        "     scope_of_the_function             <br>\n",
        "     reutn(x)"
      ]
    },
    {
      "cell_type": "code",
      "execution_count": null,
      "metadata": {
        "id": "_ugFq8Hzpc43"
      },
      "outputs": [],
      "source": [
        "#sample function --> usually defined before use.\n",
        "def sq(num) :\n",
        "    out=num**2;\n",
        "    return(out)"
      ]
    },
    {
      "cell_type": "code",
      "execution_count": null,
      "metadata": {
        "id": "7ZyD-BRCpc43",
        "outputId": "4e1ac19d-194c-4046-d8da-96dacde449e5"
      },
      "outputs": [
        {
          "data": {
            "text/plain": [
              "25"
            ]
          },
          "execution_count": 61,
          "metadata": {},
          "output_type": "execute_result"
        }
      ],
      "source": [
        "sq(5)"
      ]
    },
    {
      "cell_type": "markdown",
      "metadata": {
        "id": "ID9p03jKpc44"
      },
      "source": [
        "##### default value in a function"
      ]
    },
    {
      "cell_type": "code",
      "execution_count": null,
      "metadata": {
        "id": "_T3dXwpspc44",
        "outputId": "21d56fc9-09ae-4817-dc3e-1a7241875d65"
      },
      "outputs": [
        {
          "name": "stdout",
          "output_type": "stream",
          "text": [
            "I am from India\n",
            "I am from Norway\n"
          ]
        }
      ],
      "source": [
        "def my_function(country = \"Norway\"):\n",
        "  print(\"I am from \" + country)\n",
        "\n",
        "my_function(\"India\")\n",
        "my_function()\n"
      ]
    },
    {
      "cell_type": "code",
      "execution_count": null,
      "metadata": {
        "id": "mb1rZ1N-pc44"
      },
      "outputs": [],
      "source": []
    },
    {
      "cell_type": "markdown",
      "metadata": {
        "id": "72ARqsElpc44"
      },
      "source": [
        "##### when the number of argument to be passed to a function is unknow <br> add \"**\" before the parameter name: <br> here the parameter is name"
      ]
    },
    {
      "cell_type": "code",
      "execution_count": null,
      "metadata": {
        "id": "lJpM7Odupc44",
        "outputId": "de3a5104-295b-44c0-a26b-94fd155872fb"
      },
      "outputs": [
        {
          "name": "stdout",
          "output_type": "stream",
          "text": [
            "His last name is Sreenath\n"
          ]
        }
      ],
      "source": [
        "def my_function(**name):\n",
        "  print(\"His last name is \" + name[\"lname\"])\n",
        "\n",
        "my_function(fname = \"Sanju\", lname = \"Sreenath\")"
      ]
    },
    {
      "cell_type": "markdown",
      "metadata": {
        "id": "0i-nv_6Ipc44"
      },
      "source": [
        "#### Passing a List as an Argument"
      ]
    },
    {
      "cell_type": "code",
      "execution_count": null,
      "metadata": {
        "id": "98Yh7n-Tpc44",
        "outputId": "5b32d4f2-f157-4ad1-cbde-fed2c96dbe32"
      },
      "outputs": [
        {
          "name": "stdout",
          "output_type": "stream",
          "text": [
            "Audi\n",
            "VW\n",
            "Honda\n",
            "Fiat\n",
            "Ford\n"
          ]
        }
      ],
      "source": [
        "def my_function(my_arg):\n",
        "  for x in my_arg:\n",
        "    print(x)\n",
        "\n",
        "Cars = [\"Audi\", \"VW\", \"Honda\", \"Fiat\", \"Ford\"]\n",
        "\n",
        "my_function(Cars)"
      ]
    },
    {
      "cell_type": "code",
      "execution_count": null,
      "metadata": {
        "id": "d0pEYBYMpc45"
      },
      "outputs": [],
      "source": []
    },
    {
      "cell_type": "markdown",
      "metadata": {
        "id": "N7trlBoepc45"
      },
      "source": [
        "## Lambda Function\n",
        "function on the fly"
      ]
    },
    {
      "cell_type": "code",
      "execution_count": null,
      "metadata": {
        "id": "SdZt8ck1pc45"
      },
      "outputs": [],
      "source": [
        "#eg\n",
        "str_to_lst = lambda x : x.split();\n",
        "product = lambda x,y,z : (x*y)**z;\n",
        "sqr =lambda x : x**2;"
      ]
    },
    {
      "cell_type": "code",
      "execution_count": null,
      "metadata": {
        "id": "wQORYcUvpc45",
        "outputId": "4ba922b8-6f72-4f4a-c55d-85f0946fa082"
      },
      "outputs": [
        {
          "name": "stdout",
          "output_type": "stream",
          "text": [
            "hello there how are you?\n"
          ]
        },
        {
          "data": {
            "text/plain": [
              "['hello', 'there', 'how', 'are', 'you?']"
            ]
          },
          "execution_count": 66,
          "metadata": {},
          "output_type": "execute_result"
        }
      ],
      "source": [
        "str_to_lst(input())"
      ]
    },
    {
      "cell_type": "code",
      "execution_count": null,
      "metadata": {
        "id": "PiU2zl5zpc45",
        "outputId": "89512b38-3afd-4ee6-bde8-14c7882d59a1"
      },
      "outputs": [
        {
          "data": {
            "text/plain": [
              "567"
            ]
          },
          "execution_count": 67,
          "metadata": {},
          "output_type": "execute_result"
        }
      ],
      "source": [
        "product(2,3,4) - product(3,3,3)"
      ]
    },
    {
      "cell_type": "code",
      "execution_count": null,
      "metadata": {
        "id": "N65jAon7pc45",
        "outputId": "0246f41e-7ea7-476c-e0bf-fc7be30a2840"
      },
      "outputs": [
        {
          "data": {
            "text/plain": [
              "25"
            ]
          },
          "execution_count": 68,
          "metadata": {},
          "output_type": "execute_result"
        }
      ],
      "source": [
        "sqr(5)"
      ]
    },
    {
      "cell_type": "code",
      "execution_count": null,
      "metadata": {
        "id": "hID4E2iVpc45"
      },
      "outputs": [],
      "source": []
    },
    {
      "cell_type": "markdown",
      "metadata": {
        "id": "aCyAF21Hpc45"
      },
      "source": [
        "### Map, Reduce, Filter"
      ]
    },
    {
      "cell_type": "markdown",
      "metadata": {
        "id": "GmzB6JDKpc46"
      },
      "source": [
        "##### Map\n",
        "It applies the function to all the elements of an input list <br>\n",
        "syntax is as follows <br>\n",
        "map(function_to_apply,list_of_inputs)\n"
      ]
    },
    {
      "cell_type": "code",
      "execution_count": null,
      "metadata": {
        "id": "JRzxWEIopc46",
        "outputId": "66dcddb7-ab53-48a2-c751-ef3515defc66"
      },
      "outputs": [
        {
          "name": "stdout",
          "output_type": "stream",
          "text": [
            "[1, 2, 3, 4, 5, 6, 7, 8, 9, 10]\n"
          ]
        }
      ],
      "source": [
        "my_list = list(range(1,11,1))  ## creating a list with values from 1 to 10\n",
        "print(my_list)"
      ]
    },
    {
      "cell_type": "code",
      "execution_count": null,
      "metadata": {
        "id": "WP7bex0Bpc46",
        "outputId": "44a34015-0af9-4d8b-c1b2-891306fd8d5f"
      },
      "outputs": [
        {
          "name": "stdout",
          "output_type": "stream",
          "text": [
            "[1, 4, 9, 16, 25, 36, 49, 64, 81, 100]\n"
          ]
        }
      ],
      "source": [
        "squared_values =list(map(sqr,my_list))   ## squaring the elements form my_list and assigining it to squared_list\n",
        "#we are using map function for the same, here we are reusing an existing function sqr\n",
        "print(squared_values)  ## printing the squared value."
      ]
    },
    {
      "cell_type": "code",
      "execution_count": null,
      "metadata": {
        "id": "eYbjA8evpc46",
        "outputId": "fd412a64-8a53-4d84-982a-bc04b2bbb974"
      },
      "outputs": [
        {
          "name": "stdout",
          "output_type": "stream",
          "text": [
            "[1, 4, 9, 16, 25, 36, 49, 64, 81, 100]\n"
          ]
        }
      ],
      "source": [
        "squared_values =list(map(sq,my_list))  ## here we use another squaring function, which produces same result.\n",
        "print(squared_values)"
      ]
    },
    {
      "cell_type": "code",
      "execution_count": null,
      "metadata": {
        "id": "Mz2oEk-jpc46"
      },
      "outputs": [],
      "source": [
        "#instead of list of inputs we can give list of functions\n",
        "#eg\n",
        "\n",
        "def mul(x):\n",
        "    return(x*x);\n",
        "def add(x):\n",
        "    return(x+x);\n",
        "\n",
        "funct=[mul,add]\n",
        ""
      ]
    },
    {
      "cell_type": "code",
      "execution_count": null,
      "metadata": {
        "id": "YmSkljL8pc46",
        "outputId": "f2c47723-d546-436c-a6de-d5278427c8cf"
      },
      "outputs": [
        {
          "name": "stdout",
          "output_type": "stream",
          "text": [
            "[1, 2]\n",
            "[4, 4]\n",
            "[9, 6]\n",
            "[16, 8]\n"
          ]
        }
      ],
      "source": [
        "lst_fncts=[]\n",
        "for i in range(1,5):\n",
        "    lst_fncts= list(map(lambda x:x(i),funct))\n",
        "    print(lst_fncts)\n",
        "\n",
        "## here number 1 to 5 are genereated as part of range\n",
        "## then list \"funct\" has 2 custom functions, and the numbers generated is passed to both the custom functions\n"
      ]
    },
    {
      "cell_type": "code",
      "execution_count": null,
      "metadata": {
        "id": "Ee3nMtLPpc46"
      },
      "outputs": [],
      "source": []
    },
    {
      "cell_type": "markdown",
      "metadata": {
        "id": "4JqgOGA8pc47"
      },
      "source": [
        "##### Filter\n",
        "It applies the function to all the elements of an input list <br> and retuens only those which matches the conditions <br>\n",
        "syntax is as follows <br>\n",
        "map(function_to_apply,list_of_inputs)"
      ]
    },
    {
      "cell_type": "code",
      "execution_count": null,
      "metadata": {
        "id": "EwTijtghpc47",
        "outputId": "3b8e530c-2210-4183-c760-f82c7d45d193"
      },
      "outputs": [
        {
          "name": "stdout",
          "output_type": "stream",
          "text": [
            "[1, 2, 3, 4, 5, 6, 7, 8, 9, 10]\n",
            "[1, 2, 3, 4]\n"
          ]
        }
      ],
      "source": [
        "#eg\n",
        "print(my_list)\n",
        "less_than_5 = list(filter(lambda x : x <5 , my_list))\n",
        "\n",
        "print(less_than_5)"
      ]
    },
    {
      "cell_type": "code",
      "execution_count": null,
      "metadata": {
        "id": "b-SV44vbpc47"
      },
      "outputs": [],
      "source": []
    },
    {
      "cell_type": "markdown",
      "metadata": {
        "id": "Fa6lgMORpc47"
      },
      "source": [
        "##### Reduce\n",
        "It is used for computation of all the elements of an input list <br>"
      ]
    },
    {
      "cell_type": "code",
      "execution_count": null,
      "metadata": {
        "id": "L0NRANd3pc47"
      },
      "outputs": [],
      "source": [
        "import functools as ft"
      ]
    },
    {
      "cell_type": "code",
      "execution_count": null,
      "metadata": {
        "id": "BWmS6i4-pc47",
        "outputId": "312baab8-6964-4892-c432-d1fdbd5d85f4"
      },
      "outputs": [
        {
          "data": {
            "text/plain": [
              "[1, 2, 3, 4, 5, 6, 7, 8, 9, 10]"
            ]
          },
          "execution_count": 76,
          "metadata": {},
          "output_type": "execute_result"
        }
      ],
      "source": [
        "my_list"
      ]
    },
    {
      "cell_type": "code",
      "execution_count": null,
      "metadata": {
        "id": "cdwOVCWVpc47",
        "outputId": "6734a585-aec5-4e19-af35-f74b2429cb70"
      },
      "outputs": [
        {
          "data": {
            "text/plain": [
              "55"
            ]
          },
          "execution_count": 77,
          "metadata": {},
          "output_type": "execute_result"
        }
      ],
      "source": [
        "#using my_list from above\n",
        "#function to add all the elements of the list\n",
        "ft.reduce(lambda a,b : a+b , my_list)\n",
        "#its equivalent of 1+2+3+4+5+6+7+8+9+0"
      ]
    },
    {
      "cell_type": "markdown",
      "metadata": {
        "id": "tx6GMgyXpc47"
      },
      "source": [
        "my_list has values form 1 to 10 <br>\n",
        "here the first element form the list is assigned to 'a', then second element to 'b'. Then a and b are added to get 3 (1+2) <br>\n",
        "then the value 3 (1+2) is assigned to a and b is assigned with the next element form the list.<br>\n",
        "and this continues till the end of the list  "
      ]
    },
    {
      "cell_type": "code",
      "execution_count": null,
      "metadata": {
        "id": "J93g5_-epc48"
      },
      "outputs": [],
      "source": [
        "#example 2\n",
        "F = lambda x, y : x if (x>y) else y ### function to find largest number.\n",
        "F_list = [6,5,6,34,6,1,3,45,58,75,77]"
      ]
    },
    {
      "cell_type": "code",
      "execution_count": null,
      "metadata": {
        "id": "fhReRAEFpc48",
        "outputId": "e10b4179-0eab-4434-dc2f-65648dce1746"
      },
      "outputs": [
        {
          "data": {
            "text/plain": [
              "77"
            ]
          },
          "execution_count": 79,
          "metadata": {},
          "output_type": "execute_result"
        }
      ],
      "source": [
        "ft.reduce(F,F_list)\n",
        "#the explanation is similar to the above example."
      ]
    },
    {
      "cell_type": "code",
      "execution_count": null,
      "metadata": {
        "id": "QcouPys0pc48"
      },
      "outputs": [],
      "source": []
    },
    {
      "cell_type": "markdown",
      "metadata": {
        "id": "1wFaguavpc48"
      },
      "source": [
        "## Python Classes/Objects\n"
      ]
    },
    {
      "cell_type": "markdown",
      "metadata": {
        "id": "xUJP8NFhpc48"
      },
      "source": [
        "#### A Class is like an object constructor, or a \"blueprint\" for creating objects. <br> Create a class named Person, use the __init__() function to assign values for name and age:\n",
        "\n"
      ]
    },
    {
      "cell_type": "code",
      "execution_count": null,
      "metadata": {
        "id": "W9u3esFgpc48",
        "outputId": "f563a98d-40c6-42ee-f9c0-2959fc12991f"
      },
      "outputs": [
        {
          "name": "stdout",
          "output_type": "stream",
          "text": [
            "<__main__.Person object at 0x000001E900B06D48>\n"
          ]
        }
      ],
      "source": [
        "class Person:\n",
        "  def __init__(self, name, age, sex):\n",
        "    self.name = name\n",
        "    self.age = age\n",
        "    self.sex = sex\n",
        "\n",
        "\n",
        "p1 = Person(\"Sanju\", 31, \"M\")\n",
        "p2 = Person(\"Sreenath\", 27, \"M\")\n",
        "\n",
        "print(p1)"
      ]
    },
    {
      "cell_type": "code",
      "execution_count": null,
      "metadata": {
        "id": "lLrv-jf4pc48",
        "outputId": "d895fa79-1232-47f7-bd90-16d56e5cc25b"
      },
      "outputs": [
        {
          "name": "stdout",
          "output_type": "stream",
          "text": [
            "Sanju Sreenath\n"
          ]
        }
      ],
      "source": [
        "print(p1.name+\" \"+p2.name)"
      ]
    },
    {
      "cell_type": "code",
      "execution_count": null,
      "metadata": {
        "id": "YrfbuVZmpc48",
        "outputId": "c903f742-2afe-40e7-c074-57964bbc71bd"
      },
      "outputs": [
        {
          "name": "stdout",
          "output_type": "stream",
          "text": [
            "Hello my name is Sanju\n"
          ]
        }
      ],
      "source": [
        "#Insert a function that prints a greeting, and execute it on the p1 object:\n",
        "\n",
        "class Person:\n",
        "  def __init__(self, name, age):\n",
        "    self.name = name\n",
        "    self.age = age\n",
        "\n",
        "  def myfunc(self):\n",
        "    print(\"Hello my name is \" + self.name)\n",
        "\n",
        "p1 = Person(\"Sanju\", 31)\n",
        "p1.myfunc()"
      ]
    },
    {
      "cell_type": "code",
      "execution_count": null,
      "metadata": {
        "id": "mWr986HZpc49"
      },
      "outputs": [],
      "source": []
    },
    {
      "cell_type": "markdown",
      "metadata": {
        "id": "pY01pR9Gpc49"
      },
      "source": [
        "## File Handling,"
      ]
    },
    {
      "cell_type": "code",
      "execution_count": null,
      "metadata": {
        "id": "d0eboDx9pc49"
      },
      "outputs": [],
      "source": [
        "import os"
      ]
    },
    {
      "cell_type": "code",
      "execution_count": null,
      "metadata": {
        "id": "e0DCe6Nopc49"
      },
      "outputs": [],
      "source": [
        "## Function to read file\n",
        "def print_file(filename = \"demofile.txt\") :\n",
        "\tf = open(filename,\"r\")\n",
        "\tprint(f.read())\n",
        "\tf.close()\n",
        "\n",
        "#here the default print file is demofile.txt\n",
        "#to print anyother file in the same folder provide filename, PFB an example"
      ]
    },
    {
      "cell_type": "code",
      "execution_count": null,
      "metadata": {
        "id": "8sEdDHs2pc49",
        "outputId": "437260fc-0d87-4448-fc36-af80d48e3599"
      },
      "outputs": [
        {
          "name": "stdout",
          "output_type": "stream",
          "text": [
            "hello there \n",
            "this is the \n",
            "second test file to see\n",
            "whether the function wokrs fine or not\n"
          ]
        }
      ],
      "source": [
        "print_file(\"dsk_test.txt\")"
      ]
    },
    {
      "cell_type": "code",
      "execution_count": null,
      "metadata": {
        "id": "MtVMej75pc49",
        "outputId": "31d565c3-2d60-4d79-d65f-b51ed82c15ef"
      },
      "outputs": [
        {
          "name": "stdout",
          "output_type": "stream",
          "text": [
            "The file was present and is removed.\n"
          ]
        }
      ],
      "source": [
        "#checking the presence of files and deleting if its present\n",
        "if os.path.exists(\"demofile.txt\"):\n",
        "  os.remove(\"demofile.txt\")\n",
        "  print(\"The file was present and is removed.\")\n",
        "else:\n",
        "  print(\"The file does not exist.\")"
      ]
    },
    {
      "cell_type": "code",
      "execution_count": null,
      "metadata": {
        "id": "6pB8tMi6pc49"
      },
      "outputs": [],
      "source": [
        "#creating a file\n",
        "\n",
        "f = open(\"demofile.txt\",\"w\")\n",
        "f.write(\"Hello there this is a test file and hope you're doing well. Take Care.\")\n",
        "f.close()\n"
      ]
    },
    {
      "cell_type": "code",
      "execution_count": null,
      "metadata": {
        "id": "qoHOu0TSpc49",
        "outputId": "b5848d6e-2273-42a7-9ddb-895c5e5e09dd"
      },
      "outputs": [
        {
          "name": "stdout",
          "output_type": "stream",
          "text": [
            "Hello there this is a test file and hope you're doing well. Take Care.\n"
          ]
        }
      ],
      "source": [
        "print_file()"
      ]
    },
    {
      "cell_type": "code",
      "execution_count": null,
      "metadata": {
        "id": "YMKD0baUpc4-"
      },
      "outputs": [],
      "source": [
        "#upending a file\n",
        "\n",
        "f = open(\"demofile.txt\",\"a\")\n",
        "f.write(\"Lets now append this line at to the existing file, consider this test 2\")\n",
        "f.close()"
      ]
    },
    {
      "cell_type": "code",
      "execution_count": null,
      "metadata": {
        "id": "cyUf00qLpc4-",
        "outputId": "05902a85-d5cd-4be7-99d3-c86dec8e2f60"
      },
      "outputs": [
        {
          "name": "stdout",
          "output_type": "stream",
          "text": [
            "Hello there this is a test file and hope you're doing well. Take Care.Lets now append this line at to the existing file, consider this test 2\n"
          ]
        }
      ],
      "source": [
        "print_file()"
      ]
    }
  ],
  "metadata": {
    "kernelspec": {
      "display_name": "Python 3",
      "language": "python",
      "name": "python3"
    },
    "language_info": {
      "codemirror_mode": {
        "name": "ipython",
        "version": 3
      },
      "file_extension": ".py",
      "mimetype": "text/x-python",
      "name": "python",
      "nbconvert_exporter": "python",
      "pygments_lexer": "ipython3",
      "version": "3.7.4"
    },
    "colab": {
      "provenance": []
    }
  },
  "nbformat": 4,
  "nbformat_minor": 0
}