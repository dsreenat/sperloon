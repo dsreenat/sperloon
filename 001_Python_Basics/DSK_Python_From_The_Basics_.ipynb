{
  "cells": [
    {
      "cell_type": "markdown",
      "metadata": {
        "id": "view-in-github",
        "colab_type": "text"
      },
      "source": [
        "<a href=\"https://colab.research.google.com/github/dsreenat/sperloon/blob/master/001_Python_Basics/DSK_Python_From_The_Basics_.ipynb\" target=\"_parent\"><img src=\"https://colab.research.google.com/assets/colab-badge.svg\" alt=\"Open In Colab\"/></a>"
      ]
    },
    {
      "cell_type": "markdown",
      "metadata": {
        "id": "isNBZVVEHvjP"
      },
      "source": [
        "# Python Basics Learning Pack"
      ]
    },
    {
      "cell_type": "code",
      "execution_count": null,
      "metadata": {
        "id": "kxQz7x1tHvjR"
      },
      "outputs": [],
      "source": []
    },
    {
      "cell_type": "markdown",
      "metadata": {
        "id": "Okpr1m_jHvjR"
      },
      "source": [
        "#### Refferences\n",
        "https://www.pythoncheatsheet.org/ <br> https://www.w3schools.com/python/default.asp <br> https://www.geeksforgeeks.org/python-tutorial/?ref=leftbar-rightbar <br> https://www.edureka.co/blog/python-tutorial/?utm_source=youtube&utm_campaign=python-tutorial-020617-wr&utm_medium=description <br>https://www.youtube.com/watch?v=jzdiR44e0-0"
      ]
    },
    {
      "cell_type": "code",
      "execution_count": null,
      "metadata": {
        "id": "ldqAg3smHvjS"
      },
      "outputs": [],
      "source": []
    },
    {
      "cell_type": "markdown",
      "metadata": {
        "id": "xXCxg8uQHvjS"
      },
      "source": [
        "## Day 1"
      ]
    },
    {
      "cell_type": "markdown",
      "metadata": {
        "id": "3O_5ctsgHvjS"
      },
      "source": [
        "### Jupyter Notebook quick help\n",
        "#### m \t\t--> Markdown/comment <br>y \t\t--> code <br> A \t\t--> Insert line above <br>B\t\t --> insert line below <br>dd \t--> delete <br>\"-  \" \t--> bullet <br>z \t\t--> undo <br>f \t\t--> find and replace"
      ]
    },
    {
      "cell_type": "markdown",
      "metadata": {
        "id": "brYTRGc9HvjS"
      },
      "source": [
        "Lets start with printing a text. <br> here the \"\\n\" is used to start a new line while printing"
      ]
    },
    {
      "cell_type": "code",
      "execution_count": 2,
      "metadata": {
        "id": "BVJjDcxXHvjS",
        "colab": {
          "base_uri": "https://localhost:8080/"
        },
        "outputId": "e07e9ac6-e3ce-4f21-b784-fc8c1eb06091"
      },
      "outputs": [
        {
          "output_type": "stream",
          "name": "stdout",
          "text": [
            "Hello there, I'm Darshan. \n",
            "Hope you're doing well :-)\n"
          ]
        }
      ],
      "source": [
        "print(\"Hello there, I'm Darshan. \\nHope you're doing well :-)\")"
      ]
    },
    {
      "cell_type": "code",
      "execution_count": 1,
      "metadata": {
        "id": "vr_y4vduHvjT"
      },
      "outputs": [],
      "source": []
    },
    {
      "cell_type": "markdown",
      "metadata": {
        "id": "TIk2rn7dHvjT"
      },
      "source": [
        "Lets see the data types in python"
      ]
    },
    {
      "cell_type": "markdown",
      "metadata": {
        "id": "DNc4JsnpHvjT"
      },
      "source": [
        "#### Python has the following data types built-in by default, in these categories:\n",
        "#### Text Type\t\t:\tstr <br> Numeric Types\t:\tint, float, complex <br>Sequence Types\t:\tlist, tuple, range <br>Mapping Type\t:\tdict <br>Set Types\t\t:\tset, frozenset <br>Boolean Type\t:\tbool <br>Binary Types\t:\tbytes, bytearray, memoryview"
      ]
    },
    {
      "cell_type": "markdown",
      "metadata": {
        "id": "nXdh42nZHvjU"
      },
      "source": [
        "Lets see some basic mathematical functions. <br>\n",
        "so we are assigining some values to few variables."
      ]
    },
    {
      "cell_type": "code",
      "execution_count": 6,
      "metadata": {
        "id": "Z_OtIoHGHvjU"
      },
      "outputs": [],
      "source": [
        "a=10\n",
        "b=5\n",
        "c=6.5\n",
        "d=\"test\""
      ]
    },
    {
      "cell_type": "markdown",
      "metadata": {
        "id": "P-c3nwxyHvjU"
      },
      "source": [
        "lets see what kind of variable is that"
      ]
    },
    {
      "cell_type": "code",
      "execution_count": 4,
      "metadata": {
        "id": "tgGTUzW7HvjU",
        "outputId": "ed812db9-ddb4-493b-ed41-14dce1b71c2c",
        "colab": {
          "base_uri": "https://localhost:8080/"
        }
      },
      "outputs": [
        {
          "output_type": "execute_result",
          "data": {
            "text/plain": [
              "int"
            ]
          },
          "metadata": {},
          "execution_count": 4
        }
      ],
      "source": [
        "type(a) ## the command to check its type"
      ]
    },
    {
      "cell_type": "code",
      "source": [
        "type(d) ## the command to check its type"
      ],
      "metadata": {
        "colab": {
          "base_uri": "https://localhost:8080/"
        },
        "id": "wueFY_uOWnH7",
        "outputId": "d2b6e785-b082-41b9-ddae-66e3b0ab48d7"
      },
      "execution_count": 5,
      "outputs": [
        {
          "output_type": "execute_result",
          "data": {
            "text/plain": [
              "str"
            ]
          },
          "metadata": {},
          "execution_count": 5
        }
      ]
    },
    {
      "cell_type": "code",
      "source": [
        "type(c) ## the command to check its type"
      ],
      "metadata": {
        "colab": {
          "base_uri": "https://localhost:8080/"
        },
        "id": "G0GE0-aYW1-O",
        "outputId": "b6fa8be7-56b4-43b8-df2b-5f122bc39f3e"
      },
      "execution_count": 7,
      "outputs": [
        {
          "output_type": "execute_result",
          "data": {
            "text/plain": [
              "float"
            ]
          },
          "metadata": {},
          "execution_count": 7
        }
      ]
    },
    {
      "cell_type": "code",
      "execution_count": 8,
      "metadata": {
        "id": "PlSnfF0oHvjV",
        "outputId": "25b6595a-d705-44f0-a114-5faa6b308b90",
        "colab": {
          "base_uri": "https://localhost:8080/"
        }
      },
      "outputs": [
        {
          "output_type": "stream",
          "name": "stdout",
          "text": [
            "a = 10 \n",
            "b = 5 \n",
            "c = 6.5\n",
            "a+b = 15\n",
            "a-b = 5\n",
            "a/b = 2.0\n",
            "a*b = 50\n",
            "a**b = 100000  || its also called the exponentail function\n",
            "c%b = 1.5  || it gives the reminder\n"
          ]
        }
      ],
      "source": [
        "print (\"a =\",a,\"\\nb =\",b,\"\\nc =\",c)\n",
        "print(\"a+b =\",a+b)\n",
        "print(\"a-b =\",a-b)\n",
        "print(\"a/b =\",a/b)\n",
        "print(\"a*b =\",a*b)\n",
        "print(\"a**b =\",a**b, \" || its also called the exponentail function\")\n",
        "print(\"c%b =\",c%b, \" || it gives the reminder\")"
      ]
    },
    {
      "cell_type": "code",
      "execution_count": 4,
      "metadata": {
        "id": "cuYeHz4bHvjV"
      },
      "outputs": [],
      "source": []
    },
    {
      "cell_type": "markdown",
      "metadata": {
        "id": "itA3ABJiHvjV"
      },
      "source": [
        "### String Operations"
      ]
    },
    {
      "cell_type": "code",
      "execution_count": 9,
      "metadata": {
        "id": "fAeQyMtnHvjW",
        "outputId": "37280658-0c32-4828-f24b-75d16008694b",
        "colab": {
          "base_uri": "https://localhost:8080/"
        }
      },
      "outputs": [
        {
          "name": "stdout",
          "output_type": "stream",
          "text": [
            "Enter First Name\n",
            "Darshan\n",
            "\n",
            "Enter Last Name\n",
            "Sreenath'\n"
          ]
        }
      ],
      "source": [
        "#Hardcoding and Dynamic Method  || note: if you want to use hardcoding remove the comment in line 2 and 3\n",
        "print(\"Enter First Name\")\n",
        "name1 = input()\n",
        "print(\"\\nEnter Last Name\")\n",
        "name2 = input()"
      ]
    },
    {
      "cell_type": "code",
      "execution_count": 10,
      "metadata": {
        "id": "-Wt6FCgzHvjW",
        "outputId": "2776f1de-7b22-4bf7-d995-b23dfd7fd2cf",
        "colab": {
          "base_uri": "https://localhost:8080/"
        }
      },
      "outputs": [
        {
          "output_type": "stream",
          "name": "stdout",
          "text": [
            "Darshan Sreenath'\n"
          ]
        }
      ],
      "source": [
        "#string concat function\n",
        "print(name1+\" \"+name2)"
      ]
    },
    {
      "cell_type": "code",
      "execution_count": 11,
      "metadata": {
        "id": "9c1EIE1VHvjW",
        "outputId": "e716aded-a41b-4fdd-dc51-177fbc1c0f94",
        "colab": {
          "base_uri": "https://localhost:8080/",
          "height": 35
        }
      },
      "outputs": [
        {
          "output_type": "execute_result",
          "data": {
            "text/plain": [
              "'DarshanDarshanDarshan'"
            ],
            "application/vnd.google.colaboratory.intrinsic+json": {
              "type": "string"
            }
          },
          "metadata": {},
          "execution_count": 11
        }
      ],
      "source": [
        "#repeating string\n",
        "name1*3"
      ]
    },
    {
      "cell_type": "code",
      "execution_count": 12,
      "metadata": {
        "id": "BXLnBr-yHvjW",
        "outputId": "296c904a-19e1-4b28-ae78-f6580a65137b",
        "colab": {
          "base_uri": "https://localhost:8080/",
          "height": 35
        }
      },
      "outputs": [
        {
          "output_type": "execute_result",
          "data": {
            "text/plain": [
              "\"Darshan_Sreenath'_Darshan_Sreenath'_Darshan_Sreenath'_\""
            ],
            "application/vnd.google.colaboratory.intrinsic+json": {
              "type": "string"
            }
          },
          "metadata": {},
          "execution_count": 12
        }
      ],
      "source": [
        "(name1+\"_\"+name2+\"_\")*3"
      ]
    },
    {
      "cell_type": "code",
      "execution_count": 13,
      "metadata": {
        "id": "Sr5xDwNQHvjW",
        "outputId": "4d00a672-991f-4d24-ac69-97f0c8e24a40",
        "colab": {
          "base_uri": "https://localhost:8080/"
        }
      },
      "outputs": [
        {
          "output_type": "stream",
          "name": "stdout",
          "text": [
            "The contents of Input sentense is :   hello there how are you?        \n",
            "length of sentense is : 34\n"
          ]
        }
      ],
      "source": [
        "#Removing spaces\n",
        "sentense = \"  hello there how are you?        \"\n",
        "sen =\"blah blah blah%%%\"\n",
        "print(\"The contents of Input sentense is :\" ,sentense)\n",
        "print(\"length of sentense is :\",len(sentense))\n"
      ]
    },
    {
      "cell_type": "code",
      "source": [
        "print(\"The contents of Input sentense after strip function :\", sentense.rstrip())\n",
        "print(\"length of sentense after strip function :\",len(sentense.rstrip()))  ### removing spcae at right side.\n"
      ],
      "metadata": {
        "colab": {
          "base_uri": "https://localhost:8080/"
        },
        "id": "IzT6P7QKT5lM",
        "outputId": "a845893d-e357-43e4-c2df-97ce4e05f164"
      },
      "execution_count": 14,
      "outputs": [
        {
          "output_type": "stream",
          "name": "stdout",
          "text": [
            "The contents of Input sentense after strip function :   hello there how are you?\n",
            "length of sentense after strip function : 26\n"
          ]
        }
      ]
    },
    {
      "cell_type": "code",
      "execution_count": 15,
      "metadata": {
        "id": "bXy_q3sDHvjX",
        "colab": {
          "base_uri": "https://localhost:8080/"
        },
        "outputId": "fadcbb45-ea41-46e0-bb17-aa2a28860cc7"
      },
      "outputs": [
        {
          "output_type": "stream",
          "name": "stdout",
          "text": [
            "After lstrip function : hello there how are you?        \n",
            "length After lstrip function : 32\n"
          ]
        }
      ],
      "source": [
        "print(\"After lstrip function :\",sentense.lstrip())       ### removing spaces at left side.\n",
        "print(\"length After lstrip function :\",len(sentense.lstrip()))\n"
      ]
    },
    {
      "cell_type": "code",
      "execution_count": 16,
      "metadata": {
        "id": "arlftvI5HvjX",
        "colab": {
          "base_uri": "https://localhost:8080/"
        },
        "outputId": "3cd48008-9cd0-4fbb-a722-b0ee430f6117"
      },
      "outputs": [
        {
          "output_type": "stream",
          "name": "stdout",
          "text": [
            "After strip function: hello there how are you?\n",
            "length After strip function : 24 \n",
            "\n"
          ]
        }
      ],
      "source": [
        "print(\"After strip function:\",sentense.strip())       ### removing space at both sides.\n",
        "print(\"length After strip function :\",len(sentense.strip()),\"\\n\")\n"
      ]
    },
    {
      "cell_type": "code",
      "source": [
        "print(sentense.split(\" \"),\"\\n\")  ### splitting the sentenses into words whereever there is a space."
      ],
      "metadata": {
        "colab": {
          "base_uri": "https://localhost:8080/"
        },
        "id": "LCshoc79UBJG",
        "outputId": "725865bc-a032-451d-e96c-6c4adb566708"
      },
      "execution_count": 17,
      "outputs": [
        {
          "output_type": "stream",
          "name": "stdout",
          "text": [
            "['', '', 'hello', 'there', 'how', 'are', 'you?', '', '', '', '', '', '', '', ''] \n",
            "\n"
          ]
        }
      ]
    },
    {
      "cell_type": "code",
      "source": [
        "print(sentense.strip().split(\" \"),\"\\n\")  ### removing spaces first, then splitting.\n"
      ],
      "metadata": {
        "colab": {
          "base_uri": "https://localhost:8080/"
        },
        "id": "pULEspNJUBUm",
        "outputId": "06fa5d1f-5973-4bb2-fff9-e0f116c03397"
      },
      "execution_count": 18,
      "outputs": [
        {
          "output_type": "stream",
          "name": "stdout",
          "text": [
            "['hello', 'there', 'how', 'are', 'you?'] \n",
            "\n"
          ]
        }
      ]
    },
    {
      "cell_type": "code",
      "source": [
        "new_var = sentense.strip().split(\" \")\n",
        "print(new_var,\"\\n\")\n",
        "\n"
      ],
      "metadata": {
        "colab": {
          "base_uri": "https://localhost:8080/"
        },
        "id": "-tdN7gnpUN3k",
        "outputId": "3f9fc631-222a-425e-bf25-65f41f372701"
      },
      "execution_count": 19,
      "outputs": [
        {
          "output_type": "stream",
          "name": "stdout",
          "text": [
            "['hello', 'there', 'how', 'are', 'you?'] \n",
            "\n"
          ]
        }
      ]
    },
    {
      "cell_type": "code",
      "source": [
        "print(sen,\"\\n\")\n",
        "print(sen.strip(\"%\"))  ### removing the undesired characters"
      ],
      "metadata": {
        "colab": {
          "base_uri": "https://localhost:8080/"
        },
        "id": "6u9-uzKSUN__",
        "outputId": "e457cd7f-0a56-4fd8-f659-4d56ade5bd0d"
      },
      "execution_count": 20,
      "outputs": [
        {
          "output_type": "stream",
          "name": "stdout",
          "text": [
            "blah blah blah%%% \n",
            "\n",
            "blah blah blah\n"
          ]
        }
      ]
    },
    {
      "cell_type": "code",
      "source": [],
      "metadata": {
        "id": "sdwADaUxUOEP"
      },
      "execution_count": null,
      "outputs": []
    },
    {
      "cell_type": "code",
      "source": [],
      "metadata": {
        "id": "4BcnZBFsUOP-"
      },
      "execution_count": null,
      "outputs": []
    },
    {
      "cell_type": "code",
      "execution_count": 22,
      "metadata": {
        "id": "LBY0LRvNHvjX",
        "outputId": "e1575c27-12ad-49dc-adca-a69daf51b081",
        "colab": {
          "base_uri": "https://localhost:8080/"
        }
      },
      "outputs": [
        {
          "output_type": "stream",
          "name": "stdout",
          "text": [
            "What is your name?\n",
            "Darsh\n",
            "It is good to meet you, Darsh\n",
            "It is good to meet you,  Darsh\n",
            "Hi i'm Darsh, It is good to meet you, Darshan Sreenath'\n",
            "Hi i'm Darshan Sreenath', It is good to meet you, Darsh\n"
          ]
        }
      ],
      "source": [
        "#Accepting values during runtime\n",
        "print('What is your name?')   # ask for their name\n",
        "myName = input()\n",
        "\n",
        "print('It is good to meet you, {}'.format(myName))\n",
        "##or you can print like\n",
        "\n",
        "print('It is good to meet you, ',myName)\n",
        "\n",
        "#printing multiple vatiables. using name1 and name2 used in the above section\n",
        "\n",
        "print(\"Hi i'm {0}, It is good to meet you, {1} {2}\".format(myName,name1,name2))\n",
        "\n",
        "print(\"Hi i'm {1} {2}, It is good to meet you, {0}\".format(myName,name1,name2))\n"
      ]
    },
    {
      "cell_type": "code",
      "execution_count": 23,
      "metadata": {
        "id": "IZQ8o_BxHvjX",
        "outputId": "8d2c0457-e401-48cc-9495-272142782a22",
        "colab": {
          "base_uri": "https://localhost:8080/"
        }
      },
      "outputs": [
        {
          "output_type": "stream",
          "name": "stdout",
          "text": [
            "Darsh\n"
          ]
        },
        {
          "output_type": "execute_result",
          "data": {
            "text/plain": [
              "6"
            ]
          },
          "metadata": {},
          "execution_count": 23
        }
      ],
      "source": [
        "#length function\n",
        "print(myName)\n",
        "len('myName')"
      ]
    },
    {
      "cell_type": "code",
      "execution_count": 24,
      "metadata": {
        "id": "zrIZ-_jJHvjX",
        "outputId": "785f008e-21e2-4757-90ab-b668fe5dce54",
        "colab": {
          "base_uri": "https://localhost:8080/"
        }
      },
      "outputs": [
        {
          "output_type": "stream",
          "name": "stdout",
          "text": [
            "10\n",
            "<class 'int'>\n",
            "10\n",
            "<class 'str'>\n"
          ]
        }
      ],
      "source": [
        "#converting integer or any other data type to string.\n",
        "print(a)\n",
        "print(type(a))\n",
        "print(str(a))\n",
        "print(type(str(a)))"
      ]
    },
    {
      "cell_type": "code",
      "execution_count": 25,
      "metadata": {
        "id": "6JKLYuVUHvjY",
        "outputId": "8fc7e91a-f353-44b6-9ddd-f4c3c6e8e3b8",
        "colab": {
          "base_uri": "https://localhost:8080/",
          "height": 35
        }
      },
      "outputs": [
        {
          "output_type": "execute_result",
          "data": {
            "text/plain": [
              "'-3.14'"
            ],
            "application/vnd.google.colaboratory.intrinsic+json": {
              "type": "string"
            }
          },
          "metadata": {},
          "execution_count": 25
        }
      ],
      "source": [
        "str(-3.14)"
      ]
    },
    {
      "cell_type": "code",
      "execution_count": 13,
      "metadata": {
        "id": "4XBQrXAQHvjY"
      },
      "outputs": [],
      "source": []
    },
    {
      "cell_type": "markdown",
      "metadata": {
        "id": "MkfVx0leHvjY"
      },
      "source": [
        "### Boolean Operations"
      ]
    },
    {
      "cell_type": "code",
      "execution_count": 26,
      "metadata": {
        "id": "7FRIE7X8HvjY",
        "outputId": "6effebb7-2e77-4904-a145-96ffe7f396e5",
        "colab": {
          "base_uri": "https://localhost:8080/"
        }
      },
      "outputs": [
        {
          "output_type": "execute_result",
          "data": {
            "text/plain": [
              "True"
            ]
          },
          "metadata": {},
          "execution_count": 26
        }
      ],
      "source": [
        "5 > 3"
      ]
    },
    {
      "cell_type": "code",
      "execution_count": 27,
      "metadata": {
        "id": "30tUZvgiHvjY",
        "outputId": "eae7d843-0ca6-4ab8-c788-a9453af9e35f",
        "colab": {
          "base_uri": "https://localhost:8080/"
        }
      },
      "outputs": [
        {
          "output_type": "execute_result",
          "data": {
            "text/plain": [
              "False"
            ]
          },
          "metadata": {},
          "execution_count": 27
        }
      ],
      "source": [
        "42 == '42'"
      ]
    },
    {
      "cell_type": "code",
      "source": [
        "43 != 42"
      ],
      "metadata": {
        "colab": {
          "base_uri": "https://localhost:8080/"
        },
        "id": "0gb_7x2uZxFV",
        "outputId": "2debb527-13a6-43aa-a99b-50e72fefc112"
      },
      "execution_count": 30,
      "outputs": [
        {
          "output_type": "execute_result",
          "data": {
            "text/plain": [
              "True"
            ]
          },
          "metadata": {},
          "execution_count": 30
        }
      ]
    },
    {
      "cell_type": "code",
      "execution_count": 28,
      "metadata": {
        "id": "TLULiPBuHvjY",
        "outputId": "fd5b96f1-aed5-44e4-c2c7-92468c34b402",
        "colab": {
          "base_uri": "https://localhost:8080/"
        }
      },
      "outputs": [
        {
          "output_type": "execute_result",
          "data": {
            "text/plain": [
              "True"
            ]
          },
          "metadata": {},
          "execution_count": 28
        }
      ],
      "source": [
        "(4 < 5) and (5 < 6)"
      ]
    },
    {
      "cell_type": "code",
      "execution_count": 29,
      "metadata": {
        "id": "TTMw6WiXHvjY",
        "outputId": "4a09f07c-b35a-4ee4-b99d-d71400a6fb29",
        "colab": {
          "base_uri": "https://localhost:8080/"
        }
      },
      "outputs": [
        {
          "output_type": "execute_result",
          "data": {
            "text/plain": [
              "True"
            ]
          },
          "metadata": {},
          "execution_count": 29
        }
      ],
      "source": [
        "2 + 2 == 4 and not 2 + 2 == 5 and 2 * 2 == 2 + 2\n",
        "\n",
        "#(2 + 2 == 4) and (not (2 + 2 == 5)) and (2 * 2 == 2 + 2)"
      ]
    },
    {
      "cell_type": "code",
      "execution_count": 17,
      "metadata": {
        "id": "ClAAy3XjHvjZ"
      },
      "outputs": [],
      "source": []
    },
    {
      "cell_type": "markdown",
      "metadata": {
        "id": "nJCPIG6EHvjZ"
      },
      "source": [
        "### Increment/Decrement Operations"
      ]
    },
    {
      "cell_type": "code",
      "execution_count": 31,
      "metadata": {
        "scrolled": true,
        "id": "a8gTUP1hHvjZ",
        "outputId": "6bb45ba3-134f-4ed2-fe1a-2e14c3d748b8",
        "colab": {
          "base_uri": "https://localhost:8080/"
        }
      },
      "outputs": [
        {
          "output_type": "stream",
          "name": "stdout",
          "text": [
            "ogiginal inc 9\n"
          ]
        }
      ],
      "source": [
        "### Increment/Decrement Operations\n",
        "\n",
        "inc=9\n",
        "print(\"ogiginal inc\",inc)"
      ]
    },
    {
      "cell_type": "code",
      "execution_count": 32,
      "metadata": {
        "id": "PX41_6oUHvjZ",
        "outputId": "78ae0ffc-f104-4956-b420-b99ded78195f",
        "colab": {
          "base_uri": "https://localhost:8080/"
        }
      },
      "outputs": [
        {
          "output_type": "stream",
          "name": "stdout",
          "text": [
            "enter a sample number\n",
            "75\n",
            "ogiginal inc 75\n",
            "updated/incremented inc 78\n",
            "updated/decremented inc 73\n"
          ]
        }
      ],
      "source": [
        "### Increment/Decrement Operations\n",
        "print(\"enter a sample number\")\n",
        "#inc=9\n",
        "inc=int(input())\n",
        "print(\"ogiginal inc\",inc)\n",
        "\n",
        "inc+=3 ## it is equivalent to inc=inc+3  --> inc+=3\n",
        "print(\"updated/incremented inc\",inc)\n",
        "\n",
        "inc-=5  ## it is equivalent to inc=inc-5\n",
        "print(\"updated/decremented inc\",inc)"
      ]
    },
    {
      "cell_type": "code",
      "execution_count": 19,
      "metadata": {
        "id": "OX8T1f30Hvja"
      },
      "outputs": [],
      "source": []
    },
    {
      "cell_type": "markdown",
      "metadata": {
        "id": "of3rvc0cHvja"
      },
      "source": [
        "### More string opeations"
      ]
    },
    {
      "cell_type": "code",
      "execution_count": 38,
      "metadata": {
        "id": "trXQ9zgdHvja",
        "outputId": "49e90b9b-9093-491f-858f-2b55ae96eef7",
        "colab": {
          "base_uri": "https://localhost:8080/"
        }
      },
      "outputs": [
        {
          "output_type": "stream",
          "name": "stdout",
          "text": [
            "variable type :  <class 'str'>\n",
            "7 Apples\n",
            "0th Location : 7\n",
            "5th Location :  \n",
            "2nd Location : A\n",
            "2nd Location : p\n",
            "0th to 4th Location : Apple\n",
            "note : when giving range it takes n-1 value for the upper limit\n",
            "Hope you got the idea by now\n"
          ]
        }
      ],
      "source": [
        "m_str_ops =\"7 Apples\"\n",
        "print(\"variable type : \",type(m_str_ops))\n",
        "print(m_str_ops)\n",
        "print(\"0th Location :\",m_str_ops[0])\n",
        "print(\"5th Location :\",m_str_ops[1])\n",
        "print(\"2nd Location :\",m_str_ops[2])\n",
        "print(\"2nd Location :\",m_str_ops[3])\n",
        "\n",
        "print(\"0th to 4th Location :\",m_str_ops[2:7])\n",
        "print(\"note : when giving range it takes n-1 value for the upper limit\")\n",
        "\n",
        "print(\"Hope you got the idea by now\")"
      ]
    },
    {
      "cell_type": "code",
      "execution_count": 39,
      "metadata": {
        "id": "tO6pT3-hHvjb",
        "outputId": "167ca057-592c-4f27-c9a3-e48aedb77525",
        "colab": {
          "base_uri": "https://localhost:8080/",
          "height": 156
        }
      },
      "outputs": [
        {
          "output_type": "stream",
          "name": "stdout",
          "text": [
            "Hello there, How are you?\n",
            "<class 'str'>\n",
            "splitting the sentense by ',' into a list \n",
            "['Hello there', ' How are you?']\n",
            "<class 'list'>\n",
            "\n",
            "Rejoining the splitted words\n"
          ]
        },
        {
          "output_type": "execute_result",
          "data": {
            "text/plain": [
              "'Hello there, How are you?'"
            ],
            "application/vnd.google.colaboratory.intrinsic+json": {
              "type": "string"
            }
          },
          "metadata": {},
          "execution_count": 39
        }
      ],
      "source": [
        "#Split and Join\n",
        "\n",
        "my_words=\"Hello there, How are you?\"\n",
        "print(my_words)\n",
        "print(type(my_words))\n",
        "\n",
        "print(\"splitting the sentense by ',' into a list \")\n",
        "my_words_split=my_words.split(',')\n",
        "\n",
        "\n",
        "print(my_words_split)\n",
        "print(type(my_words_split))\n",
        "\n",
        "print(\"\\nRejoining the splitted words\")\n",
        "#print(\" \".join(my_words_split))\n",
        "\",\".join(my_words_split)"
      ]
    },
    {
      "cell_type": "code",
      "source": [
        "print(\"First element of my_words_split list : \",my_words_split[0])\n",
        "\n",
        "print(\"Type of the varibale my_words_split is : \", type(my_words_split))\n"
      ],
      "metadata": {
        "colab": {
          "base_uri": "https://localhost:8080/"
        },
        "id": "KhvYVAlJbshF",
        "outputId": "3401a6ce-0aeb-4d1e-e314-ae37268f33bf"
      },
      "execution_count": 43,
      "outputs": [
        {
          "output_type": "stream",
          "name": "stdout",
          "text": [
            "First element of my_words_split list :  Hello there\n",
            "Type of the varibale my_words_split is :  <class 'list'>\n"
          ]
        }
      ]
    },
    {
      "cell_type": "code",
      "source": [
        "## Joining the list elements into a string\n",
        "New_string = \",\".join(my_words_split)\n",
        "print(New_string)\n",
        "print(type(New_string))"
      ],
      "metadata": {
        "colab": {
          "base_uri": "https://localhost:8080/"
        },
        "id": "TZ6k77EQckGX",
        "outputId": "3539705f-28bd-43d3-d5c9-1077fa1214c9"
      },
      "execution_count": 45,
      "outputs": [
        {
          "output_type": "stream",
          "name": "stdout",
          "text": [
            "Hello there, How are you?\n",
            "<class 'str'>\n"
          ]
        }
      ]
    },
    {
      "cell_type": "code",
      "source": [
        "\"_\".join([\"Kollam\",\"Kerala\",\"India\"]) ## join function will take only list as arguments.\n",
        "## the space in the above code is the seperator between elements in the list"
      ],
      "metadata": {
        "colab": {
          "base_uri": "https://localhost:8080/",
          "height": 35
        },
        "id": "QZPuujjydBjT",
        "outputId": "e65427d7-a93e-4ddb-e136-37ef660405f2"
      },
      "execution_count": 52,
      "outputs": [
        {
          "output_type": "execute_result",
          "data": {
            "text/plain": [
              "'Kollam_Kerala_India'"
            ],
            "application/vnd.google.colaboratory.intrinsic+json": {
              "type": "string"
            }
          },
          "metadata": {},
          "execution_count": 52
        }
      ]
    },
    {
      "cell_type": "markdown",
      "metadata": {
        "id": "BKecCXC2Hvjb"
      },
      "source": [
        "## Data Structures"
      ]
    },
    {
      "cell_type": "markdown",
      "metadata": {
        "id": "MbSuKCg0Hvjb"
      },
      "source": [
        "#### The data structure available in python are as follows\n",
        "List <br> Tuples <br> Dictonary and <br> Sets"
      ]
    },
    {
      "cell_type": "markdown",
      "metadata": {
        "id": "V_aZSLLdHvjb"
      },
      "source": [
        "#### List\n",
        "List (denoted by square brackets) <br>\n",
        "elements can be a character, a string or even be a list."
      ]
    },
    {
      "cell_type": "code",
      "execution_count": 75,
      "metadata": {
        "id": "aJUGUYt5Hvjb",
        "outputId": "33c8ef95-f103-4747-aa92-3d9df189a7fb",
        "colab": {
          "base_uri": "https://localhost:8080/"
        }
      },
      "outputs": [
        {
          "output_type": "stream",
          "name": "stdout",
          "text": [
            "['python', 'R', 'SAS', 'BLAH', 'BLAH2', 'C', 'C++', 'Scala', 42]\n",
            "indexing examples\n",
            "0th elemet python\n",
            "2nd element SAS\n",
            "0-3rd element ['python', 'R', 'SAS', 'BLAH']\n",
            "here the count start from 0, and to get to 3rd element we need to follow the rule n+1\n",
            "i.e to get to 3rd we have give 0:4\n"
          ]
        }
      ],
      "source": [
        "trial_list =[]\n",
        "da_lang = ['python','R','SAS','BLAH','BLAH2','C','C++','Scala',42]\n",
        "\n",
        "print(da_lang)\n",
        "\n",
        "#indexing, similar as above.\n",
        "print(\"indexing examples\")\n",
        "print(\"0th elemet\",da_lang[0])\n",
        "print(\"2nd element\",da_lang[2])\n",
        "\n",
        "print(\"0-3rd element\",da_lang[0:4])\n",
        "print(\"here the count start from 0, and to get to 3rd element we need to follow the rule n+1\")\n",
        "print(\"i.e to get to 3rd we have give 0:4\")"
      ]
    },
    {
      "cell_type": "code",
      "execution_count": 76,
      "metadata": {
        "id": "WvqfWLvrHvjc",
        "outputId": "e52e6713-9df2-41c5-aba3-2460cf7ae843",
        "colab": {
          "base_uri": "https://localhost:8080/"
        }
      },
      "outputs": [
        {
          "output_type": "stream",
          "name": "stdout",
          "text": [
            "removing 42 from the da_lang list, with command da_lang.pop()\n",
            "['python', 'R', 'SAS', 'BLAH', 'BLAH2', 'C', 'C++', 'Scala']\n",
            "Note : if you keep on running this again and again, it'll keep on deleting the last element form the list\n",
            "pls give it a try, when you get error pls execute the line above to recreate the list\n"
          ]
        }
      ],
      "source": [
        "#functions in a list.\n",
        "#pop split join append\n",
        "\n",
        "print(\"removing 42 from the da_lang list, with command da_lang.pop()\")\n",
        "da_lang.pop() ## it deletes the last element.\n",
        "print(da_lang)\n",
        "print(\"Note : if you keep on running this again and again, it'll keep on deleting the last element form the list\")\n",
        "print(\"pls give it a try, when you get error pls execute the line above to recreate the list\")"
      ]
    },
    {
      "cell_type": "code",
      "execution_count": 77,
      "metadata": {
        "id": "gKEIGcPWHvjc",
        "outputId": "fe5746ea-9ee6-499a-c71f-7a7e93273643",
        "colab": {
          "base_uri": "https://localhost:8080/"
        }
      },
      "outputs": [
        {
          "output_type": "stream",
          "name": "stdout",
          "text": [
            "before removing :  ['python', 'R', 'SAS', 'BLAH', 'BLAH2', 'C', 'C++', 'Scala']\n",
            "after removing :  ['python', 'R', 'SAS', 'BLAH2', 'C', 'C++', 'Scala']\n"
          ]
        }
      ],
      "source": [
        "#to remove an element has two options\n",
        "# 1) if you know the location we can use pop() function\n",
        "# 2) if you know the data content we can use remove function\n",
        "#example da_lang.remove('BLAH')\n",
        "print(\"before removing : \", da_lang)\n",
        "da_lang.remove('BLAH')\n",
        "print(\"after removing : \", da_lang)"
      ]
    },
    {
      "cell_type": "code",
      "execution_count": 78,
      "metadata": {
        "id": "ddm3vogrHvjc",
        "outputId": "1d7dbdfe-2eb2-4f65-dc93-321f42f721cb",
        "colab": {
          "base_uri": "https://localhost:8080/"
        }
      },
      "outputs": [
        {
          "output_type": "stream",
          "name": "stdout",
          "text": [
            "to remove the word blah2 for the list, its at location 3, Soooo\n",
            "before removing :  ['python', 'R', 'SAS', 'BLAH2', 'C', 'C++', 'Scala']\n",
            "after removing :  ['python', 'R', 'SAS', 'C', 'C++', 'Scala']\n"
          ]
        }
      ],
      "source": [
        "#to remove specific value form a list.\n",
        "\n",
        "print(\"to remove the word blah2 for the list, its at location 3, Soooo\")\n",
        "print(\"before removing : \", da_lang)\n",
        "da_lang.pop(3)\n",
        "print(\"after removing : \", da_lang)\n"
      ]
    },
    {
      "cell_type": "code",
      "execution_count": 80,
      "metadata": {
        "id": "G5S2NUSBHvjc",
        "outputId": "8e30c5c7-1341-4927-f272-c0fbf9afc040",
        "colab": {
          "base_uri": "https://localhost:8080/"
        }
      },
      "outputs": [
        {
          "output_type": "stream",
          "name": "stdout",
          "text": [
            "Adding a new language (Ruby) to the list, \n",
            "before adding :  ['python', 'R', 'SAS', 'C', 'C++', 'Scala', 'Ruby']\n",
            "after adding :  ['python', 'R', 'SAS', 'C', 'C++', 'Scala', 'Ruby', 'Ruby']\n"
          ]
        }
      ],
      "source": [
        "#to add to the list at the end\n",
        "print(\"Adding a new language (Ruby) to the list, \")\n",
        "print(\"before adding : \", da_lang)\n",
        "da_lang.append(\"Ruby\")\n",
        "print(\"after adding : \", da_lang)"
      ]
    },
    {
      "cell_type": "code",
      "execution_count": 81,
      "metadata": {
        "id": "qssCYCJtHvjd",
        "outputId": "2f209a3b-89fa-41e8-c02c-fa82ac26288e",
        "colab": {
          "base_uri": "https://localhost:8080/"
        }
      },
      "outputs": [
        {
          "output_type": "stream",
          "name": "stdout",
          "text": [
            "['python', 'R', 'SAS', 'C', 'C++', 'Scala', 'Ruby', 'Ruby']\n",
            "before adding :  ['python', 'R', 'SAS', 'C', 'C++', 'Scala', 'Ruby', 'Ruby']\n",
            "after adding :  ['English', 'python', 'R', 'SAS', 'C', 'C++', 'Scala', 'Ruby', 'Ruby']\n"
          ]
        }
      ],
      "source": [
        "#adding to any specific location\n",
        "print(\"before adding : \", da_lang)\n",
        "da_lang.insert(0,'English')  ###inserting the word English at 0th Location\n",
        "print(\"after adding : \", da_lang)"
      ]
    },
    {
      "cell_type": "code",
      "execution_count": 82,
      "metadata": {
        "id": "OznvQgtZHvjd",
        "outputId": "5c222b2a-34f9-4a16-af3d-c2a01e32ea51",
        "colab": {
          "base_uri": "https://localhost:8080/"
        }
      },
      "outputs": [
        {
          "output_type": "stream",
          "name": "stdout",
          "text": [
            "Before \n",
            " ['English', 'python', 'R', 'SAS', 'C', 'C++', 'Scala', 'Ruby', 'Ruby']\n",
            "\n",
            "After\n",
            " ['Malayalam', 'python', 'R', 'SAS', 'C', 'C++', 'Scala', 'Ruby', 'Ruby']\n"
          ]
        }
      ],
      "source": [
        "#Updating the values of the list\n",
        "#Changing English to Malayalam\n",
        "\n",
        "print(\"Before \\n\",da_lang)\n",
        "da_lang[0]='Malayalam'\n",
        "print(\"\\nAfter\\n\",da_lang)"
      ]
    },
    {
      "cell_type": "code",
      "source": [
        "## Sorting operation in a list\n",
        "alphabets = ['a','b','c','d','o','p','q','r','s','t','u','v','w','x','y','z','e','f','g','h','i','j','k','l','m','n']\n",
        "words = ['hello','kerala','india','singapore','england','belgium']\n",
        "print(sorted(words))\n",
        "print(sorted(alphabets,reverse=True))"
      ],
      "metadata": {
        "colab": {
          "base_uri": "https://localhost:8080/"
        },
        "id": "0C7JHjLRgJ3j",
        "outputId": "7983187f-8bb1-4460-b0a2-cc29d602a0d0"
      },
      "execution_count": 86,
      "outputs": [
        {
          "output_type": "stream",
          "name": "stdout",
          "text": [
            "['belgium', 'england', 'hello', 'india', 'kerala', 'singapore']\n",
            "['z', 'y', 'x', 'w', 'v', 'u', 't', 's', 'r', 'q', 'p', 'o', 'n', 'm', 'l', 'k', 'j', 'i', 'h', 'g', 'f', 'e', 'd', 'c', 'b', 'a']\n"
          ]
        }
      ]
    },
    {
      "cell_type": "code",
      "execution_count": 83,
      "metadata": {
        "id": "dtNbkmELHvjd",
        "outputId": "984643d4-25a9-4027-b07f-8fe278394b53",
        "colab": {
          "base_uri": "https://localhost:8080/"
        }
      },
      "outputs": [
        {
          "output_type": "stream",
          "name": "stdout",
          "text": [
            "[3, 8, 12, 5, 9, 1, 15, 1]\n",
            "sorted nums [1, 1, 3, 5, 8, 9, 12, 15]\n",
            "length of nums 8\n",
            "max of nums 15\n",
            "min of nums 1\n",
            "no of instances of the number 1: 2\n",
            "nums2, reversed order nums : [15, 12, 9, 8, 5, 3, 1, 1]\n"
          ]
        }
      ],
      "source": [
        "#Numeric operations in list\n",
        "\n",
        "nums=[3,8,12,5,9,1,15,1]\n",
        "print(nums)\n",
        "print(\"sorted nums\",sorted(nums))\n",
        "print(\"length of nums\",len(nums))\n",
        "print(\"max of nums\",max(nums))\n",
        "print(\"min of nums\",min(nums))\n",
        "print(\"no of instances of the number 1:\", nums.count(1))\n",
        "nums_2 = nums\n",
        "nums_2.sort(reverse=True)\n",
        "print(\"nums2, reversed order nums :\",nums_2)"
      ]
    },
    {
      "cell_type": "code",
      "execution_count": 87,
      "metadata": {
        "id": "cfyNPuAsHvjd",
        "outputId": "03ab57e5-6970-48a4-f030-fc91cc816803",
        "colab": {
          "base_uri": "https://localhost:8080/"
        }
      },
      "outputs": [
        {
          "output_type": "stream",
          "name": "stdout",
          "text": [
            "[[1, 2, 3], [4, 5, 6]]\n"
          ]
        },
        {
          "output_type": "execute_result",
          "data": {
            "text/plain": [
              "5"
            ]
          },
          "metadata": {},
          "execution_count": 87
        }
      ],
      "source": [
        "#nested list\n",
        "nest_list = [[1,2,3],[4,5,6]]\n",
        "print(nest_list)\n",
        "\n",
        "nest_list[1][1]\n"
      ]
    },
    {
      "cell_type": "code",
      "execution_count": 30,
      "metadata": {
        "id": "nmKor0uLHvje"
      },
      "outputs": [],
      "source": []
    },
    {
      "cell_type": "markdown",
      "metadata": {
        "id": "lAYNEdwfHvje"
      },
      "source": [
        "### Tuples"
      ]
    },
    {
      "cell_type": "markdown",
      "metadata": {
        "id": "8Bizn2IdHvje"
      },
      "source": [
        "it is very much similar to list, but it cannot be edited <br> so pop append insert etc functions will not work in tuples\n",
        "it is denoted by () brackets"
      ]
    },
    {
      "cell_type": "code",
      "execution_count": 88,
      "metadata": {
        "id": "X_-VaKQwHvje",
        "outputId": "3b792e1d-424c-44b9-850f-01fb264505bc",
        "colab": {
          "base_uri": "https://localhost:8080/"
        }
      },
      "outputs": [
        {
          "output_type": "stream",
          "name": "stdout",
          "text": [
            "('a', 'b', 'c')\n",
            "<class 'tuple'>\n"
          ]
        }
      ],
      "source": [
        "tup=(\"a\",\"b\",\"c\")\n",
        "print(tup)\n",
        "print(type(tup))"
      ]
    },
    {
      "cell_type": "code",
      "execution_count": 89,
      "metadata": {
        "id": "C5m8mvwQHvje"
      },
      "outputs": [],
      "source": [
        "# to change a tuple to a list\n",
        "da_tup = list(tup)"
      ]
    },
    {
      "cell_type": "code",
      "execution_count": 90,
      "metadata": {
        "id": "Wp7XylfEHvje",
        "outputId": "95c61081-2658-410f-edd8-8ffa3a3daddf",
        "colab": {
          "base_uri": "https://localhost:8080/"
        }
      },
      "outputs": [
        {
          "output_type": "execute_result",
          "data": {
            "text/plain": [
              "list"
            ]
          },
          "metadata": {},
          "execution_count": 90
        }
      ],
      "source": [
        "type(da_tup)"
      ]
    },
    {
      "cell_type": "code",
      "execution_count": 91,
      "metadata": {
        "id": "58qOKC7fHvjf",
        "outputId": "7fba5692-1cd4-4fe1-ea86-087e211c3755",
        "colab": {
          "base_uri": "https://localhost:8080/"
        }
      },
      "outputs": [
        {
          "output_type": "execute_result",
          "data": {
            "text/plain": [
              "tuple"
            ]
          },
          "metadata": {},
          "execution_count": 91
        }
      ],
      "source": [
        "#to convet a list to a tuple\n",
        "tup_2 = tuple(da_tup)\n",
        "type(tup_2)"
      ]
    },
    {
      "cell_type": "code",
      "execution_count": 34,
      "metadata": {
        "id": "1BTMmsVMHvjf"
      },
      "outputs": [],
      "source": []
    },
    {
      "cell_type": "markdown",
      "metadata": {
        "id": "CBtkeIY5Hvjf"
      },
      "source": [
        "### Dictionary"
      ]
    },
    {
      "cell_type": "markdown",
      "metadata": {
        "id": "hI11G0YMHvjf"
      },
      "source": [
        "Data is stored in a key value pair, for example <br> roll no 1 : ram <br> roll no 2 : pavi <br> roll no 3 : ravi <br>\n",
        "so when roll no 2 is called its corresponding value is retrived and used."
      ]
    },
    {
      "cell_type": "code",
      "execution_count": 95,
      "metadata": {
        "id": "wPZ3T3fRHvjf",
        "outputId": "c5c8c145-c460-45fc-a18c-3d02a8fbb2ba",
        "colab": {
          "base_uri": "https://localhost:8080/"
        }
      },
      "outputs": [
        {
          "output_type": "stream",
          "name": "stdout",
          "text": [
            "{'user_1': 'London', 'user_2': 'Lisbon', 'user_3': 'Paris'}\n"
          ]
        }
      ],
      "source": [
        "creds = {'user_1' : 'London', 'user_2' : 'Lisbon', 'user_3': 'Paris'}\n",
        "print(creds)"
      ]
    },
    {
      "cell_type": "code",
      "execution_count": 36,
      "metadata": {
        "id": "s1_MFkIPHvjg",
        "outputId": "937231d9-4c93-4b86-bce6-da73469d982f",
        "colab": {
          "base_uri": "https://localhost:8080/"
        }
      },
      "outputs": [
        {
          "output_type": "stream",
          "name": "stdout",
          "text": [
            "Lisbon\n"
          ]
        }
      ],
      "source": [
        "print(creds['user_2'])"
      ]
    },
    {
      "cell_type": "markdown",
      "metadata": {
        "id": "KGikueBlHvjg"
      },
      "source": [
        "#### Nested Dictonary"
      ]
    },
    {
      "cell_type": "code",
      "execution_count": 96,
      "metadata": {
        "id": "rWgF5raVHvjg"
      },
      "outputs": [],
      "source": [
        "myfamily = {\n",
        "  \"child1\" : {\n",
        "    \"name\" : \"Emil\",\n",
        "    \"year\" : 2004\n",
        "  },\n",
        "  \"child2\" : {\n",
        "    \"name\" : \"Tobias\",\n",
        "    \"year\" : 2007\n",
        "  },\n",
        "  \"child3\" : {\n",
        "    \"name\" : \"Linus\",\n",
        "    \"year\" : 2011\n",
        "  }\n",
        "}\n"
      ]
    },
    {
      "cell_type": "code",
      "execution_count": 97,
      "metadata": {
        "id": "6hn9kRBdHvjg",
        "outputId": "5c2ee2db-1ea4-4989-be2e-51ca799541cc",
        "colab": {
          "base_uri": "https://localhost:8080/"
        }
      },
      "outputs": [
        {
          "output_type": "execute_result",
          "data": {
            "text/plain": [
              "2004"
            ]
          },
          "metadata": {},
          "execution_count": 97
        }
      ],
      "source": [
        "## Access method 1\n",
        "myfamily[\"child1\"][\"year\"]"
      ]
    },
    {
      "cell_type": "code",
      "execution_count": 98,
      "metadata": {
        "id": "Izl-tJi8Hvjg",
        "outputId": "47a173a3-bec8-45b9-b44e-af02f4fed327",
        "colab": {
          "base_uri": "https://localhost:8080/"
        }
      },
      "outputs": [
        {
          "output_type": "execute_result",
          "data": {
            "text/plain": [
              "2004"
            ]
          },
          "metadata": {},
          "execution_count": 98
        }
      ],
      "source": [
        "## Access method 2\n",
        "myfamily.get(\"child1\").get(\"year\")"
      ]
    },
    {
      "cell_type": "code",
      "execution_count": 39,
      "metadata": {
        "id": "fzdYKRzhHvjg"
      },
      "outputs": [],
      "source": []
    },
    {
      "cell_type": "markdown",
      "metadata": {
        "id": "5_292cdAHvjh"
      },
      "source": [
        "### Sets"
      ]
    },
    {
      "cell_type": "markdown",
      "metadata": {
        "id": "BRb-Vkb2Hvjh"
      },
      "source": [
        "set is an unordered collection of unique elements."
      ]
    },
    {
      "cell_type": "code",
      "execution_count": 108,
      "metadata": {
        "id": "U6wIcPqZHvjh",
        "outputId": "6ff6c7d7-414d-46b2-b85f-25d0b4e68d54",
        "colab": {
          "base_uri": "https://localhost:8080/"
        }
      },
      "outputs": [
        {
          "output_type": "stream",
          "name": "stdout",
          "text": [
            "set_a :\n",
            " {1, 2, 3, 4, 5, 6} \n",
            "\n",
            "type of set_a  <class 'set'> \n",
            "\n",
            "set_b :\n",
            " {1, 2, 5, 6, 7, 9, 10} \n",
            "\n",
            "type of set_b  <class 'set'> \n",
            "\n"
          ]
        }
      ],
      "source": [
        "seta = [1,2,3,1,2,5,4,6] ## this is a list\n",
        "setb = [7,5,5,6,1,2,9,10] ## this is a list\n",
        "#print(type(seta))\n",
        "set_a =set(seta)\n",
        "set_b =set(setb)\n",
        "\n",
        "print(\"set_a :\\n\",set_a, \"\\n\")\n",
        "print(\"type of set_a \" , type(set_a), \"\\n\")\n",
        "\n",
        "print(\"set_b :\\n\",set_b, \"\\n\")\n",
        "print(\"type of set_b \",type(set_b),\"\\n\")\n"
      ]
    },
    {
      "cell_type": "code",
      "execution_count": 103,
      "metadata": {
        "id": "2GBOI-A1Hvjh",
        "outputId": "4271c025-8450-4041-db13-715c8eaa9f3e",
        "colab": {
          "base_uri": "https://localhost:8080/"
        }
      },
      "outputs": [
        {
          "output_type": "execute_result",
          "data": {
            "text/plain": [
              "{3, 4}"
            ]
          },
          "metadata": {},
          "execution_count": 103
        }
      ],
      "source": [
        "#what are all the elements present in set_a and not in set_b\n",
        "set_a.difference(set_b)"
      ]
    },
    {
      "cell_type": "code",
      "source": [
        "set_b.difference(set_a)"
      ],
      "metadata": {
        "colab": {
          "base_uri": "https://localhost:8080/"
        },
        "id": "Ist_K0N1jeXE",
        "outputId": "3c742818-ab94-42d3-eca5-8641de76a5fa"
      },
      "execution_count": 104,
      "outputs": [
        {
          "output_type": "execute_result",
          "data": {
            "text/plain": [
              "{7, 9, 10}"
            ]
          },
          "metadata": {},
          "execution_count": 104
        }
      ]
    },
    {
      "cell_type": "code",
      "execution_count": 105,
      "metadata": {
        "id": "REx4GjDXHvjh",
        "outputId": "d49a0121-0bae-4eca-879e-b62698d17f1c",
        "colab": {
          "base_uri": "https://localhost:8080/"
        }
      },
      "outputs": [
        {
          "output_type": "execute_result",
          "data": {
            "text/plain": [
              "{1, 2, 3, 4, 5, 6, 7, 9, 10}"
            ]
          },
          "metadata": {},
          "execution_count": 105
        }
      ],
      "source": [
        "#combining both the sets together\n",
        "set_a.union(set_b)"
      ]
    },
    {
      "cell_type": "code",
      "execution_count": 109,
      "metadata": {
        "id": "jLUhayz4Hvji",
        "outputId": "4b907dc3-34ba-431a-d687-9513f3082af0",
        "colab": {
          "base_uri": "https://localhost:8080/"
        }
      },
      "outputs": [
        {
          "output_type": "execute_result",
          "data": {
            "text/plain": [
              "{1, 2, 5, 6}"
            ]
          },
          "metadata": {},
          "execution_count": 109
        }
      ],
      "source": [
        "#inetsection  --> it prints out the common in  both\n",
        "set_a.intersection(set_b)"
      ]
    },
    {
      "cell_type": "code",
      "execution_count": 110,
      "metadata": {
        "id": "u6ucZY4VHvji",
        "outputId": "f9c6821e-c197-415b-c80c-7f9e670ff813",
        "colab": {
          "base_uri": "https://localhost:8080/"
        }
      },
      "outputs": [
        {
          "output_type": "stream",
          "name": "stdout",
          "text": [
            "before value : {1, 2, 3, 4, 5, 6}\n",
            "after update {1, 2, 5, 6}\n"
          ]
        }
      ],
      "source": [
        "#inetsection update --> update the result from intersection to seta || inshort replace seta with the  intersection value.\n",
        "print(\"before value :\",set_a)\n",
        "set_a.intersection_update(set_b)\n",
        "print(\"after update\",set_a)"
      ]
    },
    {
      "cell_type": "code",
      "execution_count": 45,
      "metadata": {
        "id": "DJvGpt7FHvji"
      },
      "outputs": [],
      "source": []
    },
    {
      "cell_type": "markdown",
      "metadata": {
        "id": "gySo5SLFHvjj"
      },
      "source": [
        "## Day 2"
      ]
    },
    {
      "cell_type": "markdown",
      "metadata": {
        "id": "Ghtlj7eTHvjj"
      },
      "source": [
        "### Conditions - If Else Statement"
      ]
    },
    {
      "cell_type": "markdown",
      "metadata": {
        "id": "psPaIxIPHvjj"
      },
      "source": [
        "the 3 statemensts are<br>1) if <br> 2) else <br> 3) elif --> else-if"
      ]
    },
    {
      "cell_type": "code",
      "execution_count": 46,
      "metadata": {
        "id": "9q6m21T1Hvjj",
        "outputId": "b0b52164-781b-4c6a-e1fe-0e958511a4bb",
        "colab": {
          "base_uri": "https://localhost:8080/"
        }
      },
      "outputs": [
        {
          "name": "stdout",
          "output_type": "stream",
          "text": [
            "enter a value for score between 0-100\n",
            "87\n"
          ]
        }
      ],
      "source": [
        "#eg\n",
        "print(\"enter a value for score between 0-100\")\n",
        "score =int(input())"
      ]
    },
    {
      "cell_type": "code",
      "execution_count": 47,
      "metadata": {
        "id": "q7dv7uYOHvjj",
        "outputId": "e8b92d2b-6cf6-4c09-c5bb-2d52823dc37e",
        "colab": {
          "base_uri": "https://localhost:8080/"
        }
      },
      "outputs": [
        {
          "output_type": "stream",
          "name": "stdout",
          "text": [
            "Distinction\n"
          ]
        }
      ],
      "source": [
        "if score == 100:\n",
        "    print(\"Perfect\")\n",
        "elif 85<=score<100 :\n",
        "    print(\"Distinction\")\n",
        "elif 70<=score<85 :\n",
        "    print(\"First Class\")\n",
        "elif 55<=score<70 :\n",
        "    print(\"Second Class\")\n",
        "elif 40<=score<45 :\n",
        "    print(\"Third Class\")\n",
        "else :\n",
        "    print(\"Failed\")"
      ]
    },
    {
      "cell_type": "markdown",
      "metadata": {
        "id": "EE5zQj8PHvjj"
      },
      "source": [
        "#### Multiple statements in a single line."
      ]
    },
    {
      "cell_type": "code",
      "execution_count": 48,
      "metadata": {
        "id": "yxbxYOguHvjk",
        "outputId": "256ffee9-4c3f-4377-f4af-e4b36fac614a",
        "colab": {
          "base_uri": "https://localhost:8080/"
        }
      },
      "outputs": [
        {
          "output_type": "stream",
          "name": "stdout",
          "text": [
            "ER1\n"
          ]
        }
      ],
      "source": [
        "ER0 = 330\n",
        "ER1 = 350\n",
        "print(\"ER0\") if ER0 > ER1 else print(\"=\") if ER0 == ER1 else print(\"ER1\")"
      ]
    },
    {
      "cell_type": "markdown",
      "metadata": {
        "id": "LZa-gPb8Hvjk"
      },
      "source": [
        "### Looping Statements"
      ]
    },
    {
      "cell_type": "markdown",
      "metadata": {
        "id": "sWBzIgN7Hvjk"
      },
      "source": [
        "##### For Loop"
      ]
    },
    {
      "cell_type": "code",
      "execution_count": 49,
      "metadata": {
        "id": "bHRck9pBHvjk",
        "outputId": "aeb5693d-901b-4bd3-f395-356fe3c600aa",
        "colab": {
          "base_uri": "https://localhost:8080/"
        }
      },
      "outputs": [
        {
          "output_type": "stream",
          "name": "stdout",
          "text": [
            "0\n",
            "3\n",
            "6\n",
            "9\n",
            "12\n",
            "15\n",
            "18\n",
            "21\n",
            "24\n",
            "27\n",
            "30\n"
          ]
        }
      ],
      "source": [
        "#here in (0,31,3) || 0 --> starting ; 31 --> Ending ; 3 --> increment\n",
        "for i in range(0,31,3):\n",
        "    print(i)"
      ]
    },
    {
      "cell_type": "markdown",
      "metadata": {
        "id": "ZHku8s3CHvjk"
      },
      "source": [
        "##### While Loop"
      ]
    },
    {
      "cell_type": "code",
      "execution_count": 50,
      "metadata": {
        "id": "tklopmkVHvjk",
        "outputId": "5e85f50e-7d20-400c-8e3e-a933059c9eb2",
        "colab": {
          "base_uri": "https://localhost:8080/"
        }
      },
      "outputs": [
        {
          "output_type": "stream",
          "name": "stdout",
          "text": [
            "25\n",
            "30\n",
            "35\n",
            "40\n",
            "45\n",
            "50\n",
            "55\n",
            "the total value is: 245\n"
          ]
        }
      ],
      "source": [
        "#While Loop  || No predefined execution limit\n",
        "start =20;\n",
        "total =0;\n",
        "\n",
        "while start<=50 :\n",
        "    total+=start\n",
        "    start+=5\n",
        "    print(start)  ### till here is the body of the while loop function.\n",
        "######end of loop\n",
        "print(\"the total value is:\",total)"
      ]
    },
    {
      "cell_type": "markdown",
      "metadata": {
        "id": "EowtYcIbHvjl"
      },
      "source": [
        "### Nested Loops"
      ]
    },
    {
      "cell_type": "markdown",
      "metadata": {
        "id": "MrZDSmpkHvjl"
      },
      "source": [
        "A nested loop is a loop inside a loop. <br>\n",
        "The \"inner loop\" will be executed one time for each iteration of the \"outer loop\":"
      ]
    },
    {
      "cell_type": "code",
      "execution_count": 51,
      "metadata": {
        "id": "h5noLZkUHvjl",
        "outputId": "21c37f6a-5620-4f01-ca5a-5cbabf2b314d",
        "colab": {
          "base_uri": "https://localhost:8080/"
        }
      },
      "outputs": [
        {
          "output_type": "stream",
          "name": "stdout",
          "text": [
            "red apple\n",
            "red banana\n",
            "red cherry\n",
            "big apple\n",
            "big banana\n",
            "big cherry\n",
            "tasty apple\n",
            "tasty banana\n",
            "tasty cherry\n"
          ]
        }
      ],
      "source": [
        "adj = [\"red\", \"big\", \"tasty\"]\n",
        "fruits = [\"apple\", \"banana\", \"cherry\"]\n",
        "\n",
        "for x in adj:\n",
        "  for y in fruits:\n",
        "    print(x, y)"
      ]
    },
    {
      "cell_type": "markdown",
      "metadata": {
        "id": "1iJdiIDTHvjl"
      },
      "source": [
        "### Break and Continue"
      ]
    },
    {
      "cell_type": "code",
      "execution_count": 52,
      "metadata": {
        "id": "qAZLbFWJHvjl",
        "outputId": "fa69f403-2f9f-48ff-860d-a270a96cdd3d",
        "colab": {
          "base_uri": "https://localhost:8080/"
        }
      },
      "outputs": [
        {
          "output_type": "stream",
          "name": "stdout",
          "text": [
            "0\n",
            "1\n",
            "2\n",
            "3\n",
            "4\n",
            "5\n"
          ]
        }
      ],
      "source": [
        "#normal while loop\n",
        "i = 0\n",
        "while i < 6:\n",
        "  print(i)\n",
        "  i += 1"
      ]
    },
    {
      "cell_type": "code",
      "execution_count": 53,
      "metadata": {
        "id": "LwfM11BnHvjm",
        "outputId": "3d4ad6a1-482a-4958-ab91-579f0820380e",
        "colab": {
          "base_uri": "https://localhost:8080/"
        }
      },
      "outputs": [
        {
          "output_type": "stream",
          "name": "stdout",
          "text": [
            "0\n",
            "1\n",
            "2\n",
            "3\n"
          ]
        }
      ],
      "source": [
        "### break statement, stopping at the point 3\n",
        "i = 0\n",
        "while i < 6:\n",
        "  print(i)\n",
        "  if i == 3:\n",
        "    break\n",
        "  i += 1"
      ]
    },
    {
      "cell_type": "code",
      "execution_count": 54,
      "metadata": {
        "id": "vf4ZoqcLHvjm",
        "outputId": "8d994f54-f46a-4329-c8a3-45cb7bd6882b",
        "colab": {
          "base_uri": "https://localhost:8080/"
        }
      },
      "outputs": [
        {
          "output_type": "stream",
          "name": "stdout",
          "text": [
            "1\n",
            "2\n",
            "4\n",
            "5\n",
            "6\n"
          ]
        }
      ],
      "source": [
        "### Continue statement, skipp step 3\n",
        "i = 0\n",
        "while i < 6:\n",
        "  i += 1\n",
        "  if i == 3:\n",
        "    continue\n",
        "  print(i)"
      ]
    },
    {
      "cell_type": "code",
      "execution_count": 54,
      "metadata": {
        "id": "Sv12D1cYHvjm"
      },
      "outputs": [],
      "source": []
    },
    {
      "cell_type": "markdown",
      "metadata": {
        "id": "SWN-Aw9rHvjm"
      },
      "source": [
        "### Comprehensions"
      ]
    },
    {
      "cell_type": "code",
      "execution_count": 55,
      "metadata": {
        "id": "L2f0pzPFHvjm"
      },
      "outputs": [],
      "source": [
        "square_lst =[]\n",
        "sqr_lst=[]"
      ]
    },
    {
      "cell_type": "code",
      "execution_count": 56,
      "metadata": {
        "id": "-cG7tEX6Hvjn",
        "outputId": "2be97343-e6d0-49f6-85e9-bdd70f48c4cf",
        "colab": {
          "base_uri": "https://localhost:8080/"
        }
      },
      "outputs": [
        {
          "output_type": "stream",
          "name": "stdout",
          "text": [
            "[1, 4, 9, 16, 25, 36, 49, 64, 81, 100]\n"
          ]
        }
      ],
      "source": [
        "#method 1 for printing square for a range of numbers\n",
        "for x in range (1,11,1) :\n",
        "    square_lst.append(x**2)\n",
        "\n",
        "print(square_lst)"
      ]
    },
    {
      "cell_type": "code",
      "execution_count": 57,
      "metadata": {
        "id": "2gKAuN2LHvjn",
        "outputId": "153149c2-1d88-4afe-cddf-7ac13849fbef",
        "colab": {
          "base_uri": "https://localhost:8080/"
        }
      },
      "outputs": [
        {
          "output_type": "stream",
          "name": "stdout",
          "text": [
            "[1, 4, 9, 16, 25, 36, 49, 64, 81, 100]\n"
          ]
        }
      ],
      "source": [
        "#method 2 for printing square for a range of numbers\n",
        "sqr_lst=[(x**2) for x in range(1,11,1)]\n",
        "print(sqr_lst)"
      ]
    },
    {
      "cell_type": "code",
      "execution_count": 57,
      "metadata": {
        "id": "RMMCgUBKHvjn"
      },
      "outputs": [],
      "source": []
    },
    {
      "cell_type": "code",
      "execution_count": 58,
      "metadata": {
        "id": "9Kbk-ereHvjn",
        "outputId": "70f7bd16-d536-48a3-8896-d9045f2a0f51",
        "colab": {
          "base_uri": "https://localhost:8080/"
        }
      },
      "outputs": [
        {
          "output_type": "stream",
          "name": "stdout",
          "text": [
            "['There', 'was', 'a', 'fox', 'which', 'was', 'brown', 'in', 'color', 'it', 'ran', 'fast']\n"
          ]
        }
      ],
      "source": [
        "para =[\"There was a fox\", \"which was brown in color\", \" it ran fast\"]\n",
        "wd_lst =[]\n",
        "\n",
        "for sentence in para :\n",
        "    for words in sentence.split():\n",
        "        wd_lst.append(words)\n",
        "\n",
        "print(wd_lst)"
      ]
    },
    {
      "cell_type": "code",
      "execution_count": 58,
      "metadata": {
        "id": "oOzKB2QIHvjn"
      },
      "outputs": [],
      "source": []
    },
    {
      "cell_type": "code",
      "execution_count": 59,
      "metadata": {
        "id": "eF0x0Q9sHvjn",
        "outputId": "3fb5f37e-5781-4357-83a2-ced765b89923",
        "colab": {
          "base_uri": "https://localhost:8080/"
        }
      },
      "outputs": [
        {
          "output_type": "stream",
          "name": "stdout",
          "text": [
            "['There', 'was', 'a', 'fox', 'which', 'was', 'brown', 'in', 'color', 'it', 'ran', 'fast']\n"
          ]
        }
      ],
      "source": [
        "wrd_lst = [words for sentence in para for words in sentence.split()]\n",
        "print(wrd_lst)"
      ]
    },
    {
      "cell_type": "code",
      "execution_count": 59,
      "metadata": {
        "id": "FPV8AhG0Hvjo"
      },
      "outputs": [],
      "source": []
    },
    {
      "cell_type": "markdown",
      "metadata": {
        "id": "qaq9Ch0sHvjo"
      },
      "source": [
        "### Functions"
      ]
    },
    {
      "cell_type": "markdown",
      "metadata": {
        "id": "vxKP8En2Hvjo"
      },
      "source": [
        "Function is any set of code. mostly used to run the same set of task at multiple sections in the program"
      ]
    },
    {
      "cell_type": "markdown",
      "metadata": {
        "id": "trusLLlKHvjo"
      },
      "source": [
        "#### Syntax as follows\n",
        "def function_name(vaiable_optional) :  <br>\n",
        "     scope_of_the_function             <br>\n",
        "     reutn(x)"
      ]
    },
    {
      "cell_type": "code",
      "execution_count": 60,
      "metadata": {
        "id": "sq3L-mjFHvjo"
      },
      "outputs": [],
      "source": [
        "#sample function --> usually defined before use.\n",
        "def sq(num) :\n",
        "    out=num**2;\n",
        "    return(out)"
      ]
    },
    {
      "cell_type": "code",
      "execution_count": 61,
      "metadata": {
        "id": "JeNOfYYMHvjo",
        "outputId": "4ab984b7-47a6-42f0-a08e-210d861f2105",
        "colab": {
          "base_uri": "https://localhost:8080/"
        }
      },
      "outputs": [
        {
          "output_type": "execute_result",
          "data": {
            "text/plain": [
              "25"
            ]
          },
          "metadata": {},
          "execution_count": 61
        }
      ],
      "source": [
        "sq(5)"
      ]
    },
    {
      "cell_type": "markdown",
      "metadata": {
        "id": "C026c2fcHvjp"
      },
      "source": [
        "##### default value in a function"
      ]
    },
    {
      "cell_type": "code",
      "execution_count": 62,
      "metadata": {
        "id": "JT6c3sOAHvjp",
        "outputId": "f4f6d65a-5ab2-4017-8533-59c1e7167194",
        "colab": {
          "base_uri": "https://localhost:8080/"
        }
      },
      "outputs": [
        {
          "output_type": "stream",
          "name": "stdout",
          "text": [
            "I am from India\n",
            "I am from Norway\n"
          ]
        }
      ],
      "source": [
        "def my_function(country = \"Norway\"):\n",
        "  print(\"I am from \" + country)\n",
        "\n",
        "my_function(\"India\")\n",
        "my_function()\n"
      ]
    },
    {
      "cell_type": "code",
      "execution_count": 62,
      "metadata": {
        "id": "AeI3RwhwHvjp"
      },
      "outputs": [],
      "source": []
    },
    {
      "cell_type": "markdown",
      "metadata": {
        "id": "y2p9bKvRHvjp"
      },
      "source": [
        "##### when the number of argument to be passed to a function is unknow <br> add \"**\" before the parameter name: <br> here the parameter is name"
      ]
    },
    {
      "cell_type": "code",
      "execution_count": 63,
      "metadata": {
        "id": "nP6fLDT8Hvjp",
        "outputId": "588c6fb0-2b7c-41a3-d680-8fa41b76d193",
        "colab": {
          "base_uri": "https://localhost:8080/"
        }
      },
      "outputs": [
        {
          "output_type": "stream",
          "name": "stdout",
          "text": [
            "His last name is Sreenath\n"
          ]
        }
      ],
      "source": [
        "def my_function(**name):\n",
        "  print(\"His last name is \" + name[\"lname\"])\n",
        "\n",
        "my_function(fname = \"Sanju\", lname = \"Sreenath\")"
      ]
    },
    {
      "cell_type": "markdown",
      "metadata": {
        "id": "5Vj1cjvQHvjq"
      },
      "source": [
        "#### Passing a List as an Argument"
      ]
    },
    {
      "cell_type": "code",
      "execution_count": 64,
      "metadata": {
        "id": "LirptOiOHvjq",
        "outputId": "fe3e1632-94b5-4d1c-81ce-9b4537ad266f",
        "colab": {
          "base_uri": "https://localhost:8080/"
        }
      },
      "outputs": [
        {
          "output_type": "stream",
          "name": "stdout",
          "text": [
            "Audi\n",
            "VW\n",
            "Honda\n",
            "Fiat\n",
            "Ford\n"
          ]
        }
      ],
      "source": [
        "def my_function(my_arg):\n",
        "  for x in my_arg:\n",
        "    print(x)\n",
        "\n",
        "Cars = [\"Audi\", \"VW\", \"Honda\", \"Fiat\", \"Ford\"]\n",
        "\n",
        "my_function(Cars)"
      ]
    },
    {
      "cell_type": "code",
      "execution_count": 64,
      "metadata": {
        "id": "y7OUN6qrHvjq"
      },
      "outputs": [],
      "source": []
    },
    {
      "cell_type": "markdown",
      "metadata": {
        "id": "rYZUURD3Hvjq"
      },
      "source": [
        "## Lambda Function\n",
        "function on the fly"
      ]
    },
    {
      "cell_type": "code",
      "execution_count": 65,
      "metadata": {
        "id": "6cBOlZ3-Hvjq"
      },
      "outputs": [],
      "source": [
        "#eg\n",
        "str_to_lst = lambda x : x.split();\n",
        "product = lambda x,y,z : (x*y)**z;\n",
        "sqr =lambda x : x**2;"
      ]
    },
    {
      "cell_type": "code",
      "execution_count": 66,
      "metadata": {
        "id": "jEsMm0uNHvjq",
        "outputId": "e7812e72-6a9b-4b10-fade-43861e3a247b",
        "colab": {
          "base_uri": "https://localhost:8080/"
        }
      },
      "outputs": [
        {
          "name": "stdout",
          "output_type": "stream",
          "text": [
            "Hello there how are you?\n"
          ]
        },
        {
          "output_type": "execute_result",
          "data": {
            "text/plain": [
              "['Hello', 'there', 'how', 'are', 'you?']"
            ]
          },
          "metadata": {},
          "execution_count": 66
        }
      ],
      "source": [
        "str_to_lst(input())"
      ]
    },
    {
      "cell_type": "code",
      "execution_count": 67,
      "metadata": {
        "id": "atNUpU5iHvjr",
        "outputId": "a34de55a-c946-4375-80d2-592ddb01e030",
        "colab": {
          "base_uri": "https://localhost:8080/"
        }
      },
      "outputs": [
        {
          "output_type": "execute_result",
          "data": {
            "text/plain": [
              "567"
            ]
          },
          "metadata": {},
          "execution_count": 67
        }
      ],
      "source": [
        "product(2,3,4) - product(3,3,3)"
      ]
    },
    {
      "cell_type": "code",
      "execution_count": 68,
      "metadata": {
        "id": "L_JMZ0BqHvjr",
        "outputId": "6ac55025-5d5d-4146-ba7b-c43dd77030df",
        "colab": {
          "base_uri": "https://localhost:8080/"
        }
      },
      "outputs": [
        {
          "output_type": "execute_result",
          "data": {
            "text/plain": [
              "25"
            ]
          },
          "metadata": {},
          "execution_count": 68
        }
      ],
      "source": [
        "sqr(5)"
      ]
    },
    {
      "cell_type": "code",
      "execution_count": 68,
      "metadata": {
        "id": "rUmwYxTnHvjr"
      },
      "outputs": [],
      "source": []
    },
    {
      "cell_type": "markdown",
      "metadata": {
        "id": "5_d5QcDhHvjr"
      },
      "source": [
        "### Map, Reduce, Filter"
      ]
    },
    {
      "cell_type": "markdown",
      "metadata": {
        "id": "YDl_jhJtHvjr"
      },
      "source": [
        "##### Map\n",
        "It applies the function to all the elements of an input list <br>\n",
        "syntax is as follows <br>\n",
        "map(function_to_apply,list_of_inputs)\n"
      ]
    },
    {
      "cell_type": "code",
      "execution_count": 69,
      "metadata": {
        "id": "HEWJZ-R0Hvjr",
        "outputId": "b527f201-63dc-4596-be6d-8a04db811bd6",
        "colab": {
          "base_uri": "https://localhost:8080/"
        }
      },
      "outputs": [
        {
          "output_type": "stream",
          "name": "stdout",
          "text": [
            "[1, 2, 3, 4, 5, 6, 7, 8, 9, 10]\n"
          ]
        }
      ],
      "source": [
        "my_list = list(range(1,11,1))  ## creating a list with values from 1 to 10\n",
        "print(my_list)"
      ]
    },
    {
      "cell_type": "code",
      "execution_count": 70,
      "metadata": {
        "id": "CNKDnUdqHvjs",
        "outputId": "a94308c5-bc35-46d2-a21c-712fc8ffae6f",
        "colab": {
          "base_uri": "https://localhost:8080/"
        }
      },
      "outputs": [
        {
          "output_type": "stream",
          "name": "stdout",
          "text": [
            "[1, 4, 9, 16, 25, 36, 49, 64, 81, 100]\n"
          ]
        }
      ],
      "source": [
        "squared_values =list(map(sqr,my_list))   ## squaring the elements form my_list and assigining it to squared_list\n",
        "#we are using map function for the same, here we are reusing an existing function sqr\n",
        "print(squared_values)  ## printing the squared value."
      ]
    },
    {
      "cell_type": "code",
      "execution_count": 71,
      "metadata": {
        "id": "RlYsPYmtHvjs",
        "outputId": "0d6856e0-f049-4d5b-959e-62483edf456b",
        "colab": {
          "base_uri": "https://localhost:8080/"
        }
      },
      "outputs": [
        {
          "output_type": "stream",
          "name": "stdout",
          "text": [
            "[1, 4, 9, 16, 25, 36, 49, 64, 81, 100]\n"
          ]
        }
      ],
      "source": [
        "squared_values =list(map(sq,my_list))  ## here we use another squaring function, which produces same result.\n",
        "print(squared_values)"
      ]
    },
    {
      "cell_type": "code",
      "execution_count": 72,
      "metadata": {
        "id": "6LK24JoXHvjs"
      },
      "outputs": [],
      "source": [
        "#instead of list of inputs we can give list of functions\n",
        "#eg\n",
        "\n",
        "def mul(x):\n",
        "    return(x*x);\n",
        "def add(x):\n",
        "    return(x+x);\n",
        "\n",
        "funct=[mul,add]\n"
      ]
    },
    {
      "cell_type": "code",
      "execution_count": 73,
      "metadata": {
        "id": "IlueWuPGHvjs",
        "outputId": "02581d9a-91da-4723-ea16-75d5fddb4f57",
        "colab": {
          "base_uri": "https://localhost:8080/"
        }
      },
      "outputs": [
        {
          "output_type": "stream",
          "name": "stdout",
          "text": [
            "[1, 2]\n",
            "[4, 4]\n",
            "[9, 6]\n",
            "[16, 8]\n"
          ]
        }
      ],
      "source": [
        "lst_fncts=[]\n",
        "for i in range(1,5):\n",
        "    lst_fncts= list(map(lambda x:x(i),funct))\n",
        "    print(lst_fncts)\n",
        "\n",
        "## here number 1 to 5 are genereated as part of range\n",
        "## then list \"funct\" has 2 custom functions, and the numbers generated is passed to both the custom functions\n"
      ]
    },
    {
      "cell_type": "code",
      "execution_count": 73,
      "metadata": {
        "id": "vuatzMuGHvjs"
      },
      "outputs": [],
      "source": []
    },
    {
      "cell_type": "markdown",
      "metadata": {
        "id": "1RCBnFk8Hvjt"
      },
      "source": [
        "##### Filter\n",
        "It applies the function to all the elements of an input list <br> and retuens only those which matches the conditions <br>\n",
        "syntax is as follows <br>\n",
        "map(function_to_apply,list_of_inputs)"
      ]
    },
    {
      "cell_type": "code",
      "execution_count": 74,
      "metadata": {
        "id": "WaZb9mvOHvjt",
        "outputId": "ed26bf8f-c0a1-4789-b150-66d6b1e1fe84",
        "colab": {
          "base_uri": "https://localhost:8080/"
        }
      },
      "outputs": [
        {
          "output_type": "stream",
          "name": "stdout",
          "text": [
            "[1, 2, 3, 4, 5, 6, 7, 8, 9, 10]\n",
            "[1, 2, 3, 4]\n"
          ]
        }
      ],
      "source": [
        "#eg\n",
        "print(my_list)\n",
        "less_than_5 = list(filter(lambda x : x <5 , my_list))\n",
        "\n",
        "print(less_than_5)"
      ]
    },
    {
      "cell_type": "code",
      "execution_count": 74,
      "metadata": {
        "id": "8J-qwTdzHvjt"
      },
      "outputs": [],
      "source": []
    },
    {
      "cell_type": "markdown",
      "metadata": {
        "id": "LmPE4VzMHvjt"
      },
      "source": [
        "##### Reduce\n",
        "It is used for computation of all the elements of an input list <br>"
      ]
    },
    {
      "cell_type": "code",
      "execution_count": 75,
      "metadata": {
        "id": "PUA10LdEHvjt"
      },
      "outputs": [],
      "source": [
        "import functools as ft"
      ]
    },
    {
      "cell_type": "code",
      "execution_count": 76,
      "metadata": {
        "id": "EmtLb2WjHvjt",
        "outputId": "cf48d1c2-c757-424e-cf58-376973fcf479",
        "colab": {
          "base_uri": "https://localhost:8080/"
        }
      },
      "outputs": [
        {
          "output_type": "execute_result",
          "data": {
            "text/plain": [
              "[1, 2, 3, 4, 5, 6, 7, 8, 9, 10]"
            ]
          },
          "metadata": {},
          "execution_count": 76
        }
      ],
      "source": [
        "my_list"
      ]
    },
    {
      "cell_type": "code",
      "execution_count": 77,
      "metadata": {
        "id": "WVeoKZnrHvju",
        "outputId": "3cb5a523-2e75-4ee3-92be-150d1a0b7810",
        "colab": {
          "base_uri": "https://localhost:8080/"
        }
      },
      "outputs": [
        {
          "output_type": "execute_result",
          "data": {
            "text/plain": [
              "55"
            ]
          },
          "metadata": {},
          "execution_count": 77
        }
      ],
      "source": [
        "#using my_list from above\n",
        "#function to add all the elements of the list\n",
        "ft.reduce(lambda a,b : a+b , my_list)\n",
        "#its equivalent of 1+2+3+4+5+6+7+8+9+0"
      ]
    },
    {
      "cell_type": "markdown",
      "metadata": {
        "id": "T7ocTPQxHvju"
      },
      "source": [
        "my_list has values form 1 to 10 <br>\n",
        "here the first element form the list is assigned to 'a', then second element to 'b'. Then a and b are added to get 3 (1+2) <br>\n",
        "then the value 3 (1+2) is assigned to a and b is assigned with the next element form the list.<br>\n",
        "and this continues till the end of the list  "
      ]
    },
    {
      "cell_type": "code",
      "execution_count": 78,
      "metadata": {
        "id": "B87V3UXFHvju"
      },
      "outputs": [],
      "source": [
        "#example 2\n",
        "F = lambda x, y : x if (x>y) else y ### function to find largest number.\n",
        "F_list = [6,5,6,34,6,1,3,45,58,75,77]"
      ]
    },
    {
      "cell_type": "code",
      "execution_count": 79,
      "metadata": {
        "id": "ORL3P7GLHvju",
        "outputId": "af5e8373-6efd-453c-90e8-27e2efaa0ac2",
        "colab": {
          "base_uri": "https://localhost:8080/"
        }
      },
      "outputs": [
        {
          "output_type": "execute_result",
          "data": {
            "text/plain": [
              "77"
            ]
          },
          "metadata": {},
          "execution_count": 79
        }
      ],
      "source": [
        "ft.reduce(F,F_list)\n",
        "#the explanation is similar to the above example."
      ]
    },
    {
      "cell_type": "code",
      "execution_count": 79,
      "metadata": {
        "id": "KgCFUrQsHvjv"
      },
      "outputs": [],
      "source": []
    },
    {
      "cell_type": "markdown",
      "metadata": {
        "id": "eFVFuz8WHvjv"
      },
      "source": [
        "## Python Classes/Objects\n"
      ]
    },
    {
      "cell_type": "markdown",
      "metadata": {
        "id": "ISxtGo_4Hvjv"
      },
      "source": [
        "#### A Class is like an object constructor, or a \"blueprint\" for creating objects. <br> Create a class named Person, use the __init__() function to assign values for name and age:\n",
        "\n"
      ]
    },
    {
      "cell_type": "code",
      "execution_count": 80,
      "metadata": {
        "id": "aR9l3rNpHvjv",
        "outputId": "bd38b0ad-bfe6-4a00-9bf9-bc3ca07519fd",
        "colab": {
          "base_uri": "https://localhost:8080/"
        }
      },
      "outputs": [
        {
          "output_type": "stream",
          "name": "stdout",
          "text": [
            "<__main__.Person object at 0x7edf8b41b040>\n"
          ]
        }
      ],
      "source": [
        "class Person:\n",
        "  def __init__(self, name, age, gender):\n",
        "    self.name = name\n",
        "    self.age = age\n",
        "    self.gender = gender\n",
        "\n",
        "\n",
        "p1 = Person(\"Sanju\", 31, \"M\")\n",
        "p2 = Person(\"Sreenath\", 27, \"M\")\n",
        "\n",
        "print(p1)"
      ]
    },
    {
      "cell_type": "code",
      "execution_count": 81,
      "metadata": {
        "id": "3rnvJOogHvjv",
        "outputId": "8b13b35d-cb10-4f69-a9f4-7469ae026218",
        "colab": {
          "base_uri": "https://localhost:8080/"
        }
      },
      "outputs": [
        {
          "output_type": "stream",
          "name": "stdout",
          "text": [
            "Sanju Sreenath\n"
          ]
        }
      ],
      "source": [
        "print(p1.name+\" \"+p2.name)"
      ]
    },
    {
      "cell_type": "code",
      "execution_count": 82,
      "metadata": {
        "id": "xOveZPh7Hvjw",
        "outputId": "a6319a4b-c2be-4b4f-8fd7-457eb50084bb",
        "colab": {
          "base_uri": "https://localhost:8080/"
        }
      },
      "outputs": [
        {
          "output_type": "stream",
          "name": "stdout",
          "text": [
            "Hello my name is Sanju\n"
          ]
        }
      ],
      "source": [
        "#Insert a function that prints a greeting, and execute it on the p1 object:\n",
        "\n",
        "class Person:\n",
        "  def __init__(self, name, age):\n",
        "    self.name = name\n",
        "    self.age = age\n",
        "\n",
        "  def myfunc(self):\n",
        "    print(\"Hello my name is \" + self.name)\n",
        "\n",
        "p1 = Person(\"Sanju\", 31)\n",
        "p1.myfunc()"
      ]
    },
    {
      "cell_type": "markdown",
      "source": [
        "-------------------------------------------------------------------------------\n"
      ],
      "metadata": {
        "id": "BFohfT-0ZFo_"
      }
    },
    {
      "cell_type": "markdown",
      "metadata": {
        "id": "fJlOmTlkHvjw"
      },
      "source": [
        "# **File Handling in Google Drive**"
      ]
    },
    {
      "cell_type": "markdown",
      "source": [
        "### **Please note, Update the folder name below in which you are keeping the files.**"
      ],
      "metadata": {
        "id": "SoUF2zbfYvo2"
      }
    },
    {
      "cell_type": "code",
      "source": [
        "import os\n",
        "from google.colab import drive\n",
        "drive.mount('/content/drive')"
      ],
      "metadata": {
        "colab": {
          "base_uri": "https://localhost:8080/"
        },
        "id": "HfPwOMtuMruP",
        "outputId": "dd69830d-5aaf-4d76-f7d6-cadf9d1f12bb"
      },
      "execution_count": 83,
      "outputs": [
        {
          "output_type": "stream",
          "name": "stdout",
          "text": [
            "Drive already mounted at /content/drive; to attempt to forcibly remount, call drive.mount(\"/content/drive\", force_remount=True).\n"
          ]
        }
      ]
    },
    {
      "cell_type": "code",
      "execution_count": 85,
      "metadata": {
        "id": "-un23xD0Hvjw",
        "colab": {
          "base_uri": "https://localhost:8080/"
        },
        "outputId": "97169c04-9969-465f-9a64-03618f3bd781"
      },
      "outputs": [
        {
          "output_type": "stream",
          "name": "stdout",
          "text": [
            "hello there \n",
            "this is the second test file to see\n",
            "whether the function wokrs fine or not\n"
          ]
        }
      ],
      "source": [
        "## Function to read file\n",
        "def print_file(filename = \"/content/drive/MyDrive/Colab_Python_Learning/Files/demofile.txt\") :\n",
        "\tf = open(filename,\"r\")\n",
        "\tprint(f.read())\n",
        "\tf.close()\n",
        "print_file()\n",
        "#here the default print file is demofile.txt\n",
        "#to print anyother file in the same folder provide filename, PFB an example"
      ]
    },
    {
      "cell_type": "code",
      "source": [
        "print_file(\"/content/drive/MyDrive/Colab_Python_Learning/Files/demo.txt\")\n",
        "## this prints the content of the specified file."
      ],
      "metadata": {
        "colab": {
          "base_uri": "https://localhost:8080/"
        },
        "id": "RM5jcfCjfGrE",
        "outputId": "015bd51e-9c12-4d75-dd9d-06ce7251f88a"
      },
      "execution_count": 86,
      "outputs": [
        {
          "output_type": "stream",
          "name": "stdout",
          "text": [
            "this is the second demo file\n",
            "hope this works too... :-)\n"
          ]
        }
      ]
    },
    {
      "cell_type": "markdown",
      "source": [
        "### End of File 1"
      ],
      "metadata": {
        "id": "u45vrV8ojhRB"
      }
    }
  ],
  "metadata": {
    "kernelspec": {
      "display_name": "Python 3",
      "language": "python",
      "name": "python3"
    },
    "language_info": {
      "codemirror_mode": {
        "name": "ipython",
        "version": 3
      },
      "file_extension": ".py",
      "mimetype": "text/x-python",
      "name": "python",
      "nbconvert_exporter": "python",
      "pygments_lexer": "ipython3",
      "version": "3.7.4"
    },
    "colab": {
      "provenance": [],
      "include_colab_link": true
    }
  },
  "nbformat": 4,
  "nbformat_minor": 0
}